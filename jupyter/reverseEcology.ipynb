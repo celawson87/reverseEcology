{
 "cells": [
  {
   "cell_type": "markdown",
   "metadata": {},
   "source": [
    "# Auxotrophies and Interactomes in Mixed Cultures of Freshwater Bacteria"
   ]
  },
  {
   "cell_type": "markdown",
   "metadata": {},
   "source": [
    "## Project Overview\n",
    "\n",
    "This notebook describes reverse ecological analysis of mixed cultures from Lake Grosse Fuchskuhle and Trout Bog."
   ]
  },
  {
   "cell_type": "markdown",
   "metadata": {},
   "source": [
    "## Background and Theory"
   ]
  },
  {
   "cell_type": "markdown",
   "metadata": {},
   "source": [
    "### Reverse Ecology\n",
    "\n",
    "The term reverse ecology refer to a set of computational techniques which aim to infer the ecological traits of an organism directly from its metabolic network. The \"flavor\" of reverse ecology used in this work relies on the computation of an organism's \"seed set\", the minimal set of metabolites which must be exogenously acquired for growth. These are typically non-unique and can identify the range of nutrient sources used by an organism, as well as those substrates that can substitute for one another."
   ]
  },
  {
   "cell_type": "markdown",
   "metadata": {},
   "source": [
    "### Graph Theory\n",
    "Reverse ecology represents metabolic networks as graphs (a type of mathematical object). A graph consists of a set of objects (nodes) that are connected to one another (via edges). Graphs may be directed or undirected. In an undirected graph, a connection from A to B implies a connection from B to A. In a directed graph, edges point from A to B and not vice-versa. Metabolic networks are represented as directed graphs.\n",
    "\n",
    "For the purposes of computation, graphs can be represented via a variety of data structures. In this work, graphs are represented as adjacency lists. The first column of the adjacency list gives the node, and the second column gives the nodes to which the first node points. The figure below shows a directed graph and its adjacency list representation.\n",
    "\n",
    "![A graph and its adjacency list](files/imageFiles/RE-graphAdjList.png)"
   ]
  },
  {
   "cell_type": "markdown",
   "metadata": {},
   "source": [
    "### Reverse Ecology Metrics"
   ]
  },
  {
   "cell_type": "markdown",
   "metadata": {},
   "source": [
    "#### Seed Set\n",
    "The fundamental \"unit\" of reverse ecology is a seed set. For a metabolic network, the seed is formally defined as \"the minimal subset of the occurring compounds that cannot be synthesized from other compounds in the network (and hence are exogenously acquired) and whose existence permits the production of all other compounds in the network.\" For a metabolic network represented as a directed graph, the seed set is the minimal subset of nodes required to access every node in the network. In the directed graph below, nodes A and H represent a seed set of the network.\n",
    "\n",
    "![Path from nodes A and H to all nodes](files/imageFiles/RE-graphSeedSetsAH.png)\n",
    "\n",
    "Some seeds may be \"equivalent:\" that is, you can start from multiple seeds and reach the same nodes. In the graph shown above, the same nodes can be reached from starting nodes F, G, or H (shown below). In the absence of any other evidence, all three are equally likely to be a seed metabolite, so each of these compounds is assigned a weight of 1/3 (shown below).\n",
    "\n",
    "![Path from nodes A and {F, G} to all nodes](files/imageFiles/RE-graphSeedSetsAFG.png)\n",
    "\n",
    "Reference: Borenstein, E., & Feldman, M. W. (2009). Topological signatures of species interactions in metabolic networks. Journal of Computational Biology, 16(2), 191–200."
   ]
  },
  {
   "cell_type": "markdown",
   "metadata": {},
   "source": [
    "#### Metabolic Competition and Metabolic Complementarity\n",
    "\n",
    "Metabolic competition represents the similarity in two organisms' nutritional profiles, and represents the potential for competition between the two organisms. The seed set of each organism's metabolic network is used as a proxy for its nutritional profile. For two organisms A and B, the metabolic competition index is calculated as the fraction of compounds in A's seed set that are also present in B's seed set. Because individual seed compounds have weights assigned to them, the fraction is calculated as a normalized weighted sum. This index provides an upper bound for the amount of competition species A could encounter from species B.\n",
    "\n",
    "Metabolic complementarity represents the complementarity in two organisms’ nutritional profiles, and represents the potential for syntrophy between A and B. Again, the seed set of each organism's metabolic network is used as a proxy for its nutritional profile. For two organisms A and B, the metabolic complementarity index is calculated as the fraction of compounds in A's seed set that are present in B's metabolic network, _but are not a part of B's seed set_ (e.g, B's 'non-seed' compounds). This index provides an upper bound for the potential for syntrophic interactions between A and B.\n",
    "\n",
    "Note that neither of these indices are symmetric.\n",
    "\n",
    "The figure below illustrates metabolic competition and metabolic complementarity.\n",
    "\n",
    "![Illustration of metabolic competition and metabolic complementarity](files/imageFiles/RE-CoopComp.png)\n",
    "\n",
    "Each panel shows the metabolic networks of two organisms represented as a directed graph. The shaped nodes represent exogenously acquired metabolites (seeds). **(A)** Metabolic competition. The brackets indicate the four and five seed nutrients exogenously acquired by the ellipse- and rectangle-shaped organisms, respectively. The two metabolites enclosed in a dashed rectangle are shared nutrients for which the organisms may compete. The metabolic competition index for the first organism in the presence of the second is 2/4, while the index of the second organism in the presence of the second is 2/4, whereas the competition index of the second species in the presence of the first is 2/5. **(B)** Metabolic complementarity. The compounds enclosed in a dashed rectangle denote nutrients required by the second organism that can be synthesized by the first organism. The metabolic complementarity index for the second species in the presence of the first is 3/5.\n",
    "\n",
    "Reference: Levy, R., & Borenstein, E. (2013). Metabolic modeling of species interaction in the human microbiome elucidates community-level assembly rules. Proceedings of the National Academy of Sciences, 110(31), 12804–12809."
   ]
  },
  {
   "cell_type": "markdown",
   "metadata": {},
   "source": [
    "#### References - Metabolic Networks and Graph Theory\n",
    "1. Jeong, H., Tombor, B., Albert, R., Oltvai, Z. N., & Barabási, A.-L. (2000). The large-scale organization of metabolic networks. Nature, 407(6804), 651–654.\n",
    "2. Cormen, T. H., Leiserson, C. E., Rivest, R. L., & Stein, C. (2009). Introduction to Algorithms (3rd ed.). MIT Press."
   ]
  },
  {
   "cell_type": "markdown",
   "metadata": {},
   "source": [
    "#### References - Reverse Ecology\n",
    "1. Borenstein, E., & Feldman, M. W. (2009). Topological signatures of species interactions in metabolic networks. Journal of Computational Biology, 16(2), 191–200.\n",
    "2. Borenstein, E., Kupiec, M., Feldman, M. W., & Ruppin, E. (2008). Large-scale reconstruction and phylogenetic analysis of metabolic environments. Proceedings of the National Academy of Sciences, 105(38), 14482–14487.\n",
    "3. Carr, R., & Borenstein, E. (2012). NetSeed: a network-based reverse-ecology tool for calculating the metabolic interface of an organism with its environment. Bioinformatics, 28(5), 734–735.\n",
    "4. Ebenhöh, O., Handorf, T., & Heinrich, R. (2004). Structural analysis of expanding metabolic networks. Genome Informatics, 15(1), 35–45.\n",
    "5. Freilich, S., Kreimer, A., Borenstein, E., Yosef, N., Sharan, R., Gophna, U., & Ruppin, E. (2009). Metabolic-network-driven analysis of bacterial ecological strategies. Genome Biology, 10(6), R61.\n",
    "6. Freilich, S., Kreimer, A., Meilijson, I., Gophna, U., Sharan, R., & Ruppin, E. (2010). The large-scale organization of the bacterial network of ecological co-occurrence interactions. Nucleic Acids Research, 38(12), 3857–3868.\n",
    "7. Handorf, T., Ebenhöh, O., & Heinrich, R. (2005). Expanding metabolic networks: Scopes of compounds, robustness, and evolution. Journal of Molecular Evolution, 61(4), 498–512.\n",
    "8. Kreimer, A., Dorrestein, P. C., Borenstein, E., & Freilich, S. (2012). NetCmpt: a network-based tool for calculating the metabolic competition between bacterial species. Bioinformatics, 28(16), 2195–2197.\n",
    "9. Levy, R., & Borenstein, E. (2012). Reverse Ecology: From Systems to Environments and Back. In O. S. Soyer (Ed.), Advances in Experimental Medicine and Biology (Vol. 751, pp. 329–345). New York, NY: Springer New York.\n",
    "10. Levy, R., & Borenstein, E. (2013). Metabolic modeling of species interaction in the human microbiome elucidates community-level assembly rules. Proceedings of the National Academy of Sciences, 110(31), 12804–12809."
   ]
  },
  {
   "cell_type": "markdown",
   "metadata": {},
   "source": [
    "## Obtaining and Processing Metabolic Network Reconstructions from KBase\n",
    "\n",
    "Reverse ecology analysis relies on metabolic network reconstructions for an organism of interest. KBase (http://kbase.us) is a powerful resource for obtaining genome-scale network reconstructions for microbial genomes. These reconstructions are distributed as SBML files, which must be processed prior to reverse ecology analysis. This section describes how to obtain reconstructions from KBase, and how to process them."
   ]
  },
  {
   "cell_type": "markdown",
   "metadata": {},
   "source": [
    "### Obtaining and Preparing SBML Files\n",
    "\n",
    "Genomes (as fasta files) for your organisms of interest can be pushed from your computer to KBase. Once there, a KBase Narrative (iPython notebook) can be used to build reconstructions for your genomes. \n",
    "\n",
    "The script `loadGenomes.pl` pushes these genomes to the KBase narrative created for this project.\n",
    "* KBase Narrative: [Manual Model Building for Mixed Cultures](https://narrative.kbase.us/narrative/ws.15120.obj.2)\n",
    "\n",
    "I then ran the \"Annotate Contigs\" and \"Build Metabolic Model\" KBase apps for each genome. I downloaded the annotated genomes (Genbank format) and models (SBML and tsv formats). Files are stored in:\n",
    "* `refGenomes` - genomes and annotations in a variety for formats\n",
    "* `sbml` - metabolic models in SBML and 'tsv' formats.\n",
    "\n",
    "Once the genomes were downloaded, I further converted the Genbank-formatted genomes to fasta nucleotide (ffn), fasta amino acid (ffa), and gff format, using the scripts described below. All scripts are located in the `scripts` directory:\n",
    "\n",
    "* `fixContigNames.sh` - KBase has strict formats for contig names. The script `loadGenomes.pl` creates dummy contig names when pushing to KBase, and this script reverts contig names of their original form.\n",
    "* `concatGbk.sh` - For each genome, this script concatenates Genbank files for each individual scaffold, giving a single Genbank file for the genome.\n",
    "* `kBaseGenbankToFasta.py` - Converts Genbank files to fasta nucleotide (ffn), fasta amino acid (ffa) format.\n",
    "* `kBaseGenbankToGff.py` - Converts Genbank files to gff format.\n",
    "* `cleanUpGFF.pl` - Performs some additional processing on the gff files.\n",
    "\n",
    "Finally, annoying KBase SBML and 'tsv' file names were corrected using the script `renameSBML.sh`."
   ]
  },
  {
   "cell_type": "markdown",
   "metadata": {},
   "source": [
    "### Processing SBML Files\n",
    "\n",
    "Reconstructions from KBase require further processing before they are suitable for use in reverse ecology. The function below does a number of things:\n",
    "\n",
    "1. Reformat gene locus tags\n",
    "2. Remove biomass, exchange, spontaneous, DNA/RNA biosynthesis reactions and their corresponding genes\n",
    "3. Import metabolite formulas\n",
    "4. Check mass- and charge-balancing of reactions in the reconstruction\n",
    "5. Remove trailing 0s from reaction and metabolite names\n",
    "\n",
    "The post-processing has a major shortcoming. When KBase detects that one or more subunits of a complex are present, it creates a \"full\" GPR by adding 'Unknown' genes for the other subunits. CobraPy currently lacks functions to remove the genes. As such, these model should not be used to perform any simulations which rely on GPRs.\n",
    "\n",
    "As output, the code returns processed SBML files in the `sbml/processed` folder. Also returns a summary of the model sizes, in the `data` folder.\n",
    "\n",
    "The first chunk of code identifies imports the Python packages necessary for this analysis."
   ]
  },
  {
   "cell_type": "code",
   "execution_count": 1,
   "metadata": {
    "collapsed": false
   },
   "outputs": [
    {
     "name": "stderr",
     "output_type": "stream",
     "text": [
      "cobra/io/sbml3.py:21 \u001b[1;31mUserWarning\u001b[0m: Install lxml for faster SBML I/O\n"
     ]
    }
   ],
   "source": [
    "# Import special features for iPython\n",
    "import sys\n",
    "sys.path.append('../Python')\n",
    "import matplotlib\n",
    "%matplotlib inline\n",
    "\n",
    "# Import Python modules \n",
    "# These custom-written modules should have been included with the package\n",
    "# distribution. \n",
    "import graphFunctions as gf\n",
    "import sbmlFunctions as sf\n",
    "import seedFunctions as ef\n",
    "import metadataFunctions as mf"
   ]
  },
  {
   "cell_type": "markdown",
   "metadata": {},
   "source": [
    "Then we call a function which processes each SBML file and preps it for analysis. This code gets called once for each culture."
   ]
  },
  {
   "cell_type": "code",
   "execution_count": 12,
   "metadata": {
    "collapsed": false
   },
   "outputs": [
    {
     "name": "stdout",
     "output_type": "stream",
     "text": [
      "Processing model FNEB6-bin-1, 1 of 6\n",
      "The remaining extracellular metabolites are:\n",
      "cpd00067_e0\n",
      "All reactions are balanced\n",
      "Processing model FNEB6-bin-10, 2 of 6\n",
      "The remaining extracellular metabolites are:\n",
      "cpd00067_e0\n",
      "All reactions are balanced\n",
      "Processing model FNEB6-bin-2, 3 of 6\n",
      "The remaining extracellular metabolites are:\n",
      "cpd00067_e0\n",
      "All reactions are balanced\n",
      "Processing model FNEB6-bin-3, 4 of 6\n",
      "The remaining extracellular metabolites are:\n",
      "cpd00067_e0\n",
      "All reactions are balanced\n",
      "Processing model FNEB6-bin-4, 5 of 6\n",
      "The remaining extracellular metabolites are:\n",
      "cpd00067_e0\n",
      "All reactions are balanced\n",
      "Processing model FNEB6-bin-6, 6 of 6\n",
      "The remaining extracellular metabolites are:\n",
      "cpd00067_e0\n",
      "All reactions are balanced\n"
     ]
    }
   ],
   "source": [
    "# Define local folder structure for data input and processing.\n",
    "rawModelDir = 'sbml/raw/FNEB6'\n",
    "processedDataDir = 'sbml/processed/FNEB6'\n",
    "summaryStatsDir = 'data/FNEB6'\n",
    "externalDataDir = 'externalData'\n",
    "\n",
    "sf.processSBMLforRE(rawModelDir, processedDataDir, summaryStatsDir, externalDataDir)"
   ]
  },
  {
   "cell_type": "code",
   "execution_count": 4,
   "metadata": {
    "collapsed": false
   },
   "outputs": [
    {
     "name": "stdout",
     "output_type": "stream",
     "text": [
      "Processing model FNEB7-bin-1, 1 of 4\n",
      "The remaining extracellular metabolites are:\n",
      "cpd00067_e0\n",
      "All reactions are balanced\n",
      "Processing model FNEB7-bin-2, 2 of 4\n",
      "The remaining extracellular metabolites are:\n",
      "cpd00067_e0\n",
      "All reactions are balanced\n",
      "Processing model FNEB7-bin-3, 3 of 4\n",
      "The remaining extracellular metabolites are:\n",
      "cpd00067_e0\n",
      "All reactions are balanced\n",
      "Processing model FNEB7-bin-4, 4 of 4\n",
      "The remaining extracellular metabolites are:\n",
      "cpd00067_e0\n",
      "All reactions are balanced\n"
     ]
    }
   ],
   "source": [
    "# Define local folder structure for data input and processing.\n",
    "rawModelDir = 'sbml/raw/FNEB7'\n",
    "processedDataDir = 'sbml/processed/FNEB7'\n",
    "summaryStatsDir = 'data/FNEB7'\n",
    "externalDataDir = 'externalData'\n",
    "\n",
    "sf.processSBMLforRE(rawModelDir, processedDataDir, summaryStatsDir, externalDataDir)"
   ]
  },
  {
   "cell_type": "code",
   "execution_count": 5,
   "metadata": {
    "collapsed": false
   },
   "outputs": [
    {
     "name": "stdout",
     "output_type": "stream",
     "text": [
      "Processing model FNED7-bin-1, 1 of 7\n",
      "The remaining extracellular metabolites are:\n",
      "cpd00067_e0\n",
      "All reactions are balanced\n",
      "Processing model FNED7-bin-2, 2 of 7\n",
      "The remaining extracellular metabolites are:\n",
      "cpd00067_e0\n",
      "All reactions are balanced\n",
      "Processing model FNED7-bin-3, 3 of 7\n",
      "The remaining extracellular metabolites are:\n",
      "cpd00067_e0\n",
      "All reactions are balanced\n",
      "Processing model FNED7-bin-5, 4 of 7\n",
      "The remaining extracellular metabolites are:\n",
      "cpd00067_e0\n",
      "All reactions are balanced\n",
      "Processing model FNED7-bin-6, 5 of 7\n",
      "The remaining extracellular metabolites are:\n",
      "cpd00067_e0\n",
      "All reactions are balanced\n",
      "Processing model FNED7-bin-7, 6 of 7\n",
      "The remaining extracellular metabolites are:\n",
      "All reactions are balanced\n",
      "Processing model FNED7-bin-9, 7 of 7\n",
      "The remaining extracellular metabolites are:\n",
      "cpd00067_e0\n",
      "All reactions are balanced\n"
     ]
    }
   ],
   "source": [
    "# Define local folder structure for data input and processing.\n",
    "rawModelDir = 'sbml/raw/FNED7'\n",
    "processedDataDir = 'sbml/processed/FNED7'\n",
    "summaryStatsDir = 'data/FNED7'\n",
    "externalDataDir = 'externalData'\n",
    "\n",
    "sf.processSBMLforRE(rawModelDir, processedDataDir, summaryStatsDir, externalDataDir)"
   ]
  },
  {
   "cell_type": "code",
   "execution_count": 6,
   "metadata": {
    "collapsed": false
   },
   "outputs": [
    {
     "name": "stdout",
     "output_type": "stream",
     "text": [
      "Processing model FNEF8-bin_25_2, 1 of 4\n",
      "The remaining extracellular metabolites are:\n",
      "cpd00067_e0\n",
      "All reactions are balanced\n",
      "Processing model FNEF8-bin_29_2, 2 of 4\n",
      "The remaining extracellular metabolites are:\n",
      "cpd00067_e0\n",
      "All reactions are balanced\n",
      "Processing model FNEF8-bin_6_1, 3 of 4\n",
      "The remaining extracellular metabolites are:\n",
      "cpd00067_e0\n",
      "All reactions are balanced\n",
      "Processing model FNEF8-bin_7, 4 of 4\n",
      "The remaining extracellular metabolites are:\n",
      "cpd00067_e0\n",
      "All reactions are balanced\n"
     ]
    }
   ],
   "source": [
    "# Define local folder structure for data input and processing.\n",
    "rawModelDir = 'sbml/raw/FNEF8'\n",
    "processedDataDir = 'sbml/processed/FNEF8'\n",
    "summaryStatsDir = 'data/FNEF8'\n",
    "externalDataDir = 'externalData'\n",
    "\n",
    "sf.processSBMLforRE(rawModelDir, processedDataDir, summaryStatsDir, externalDataDir)"
   ]
  },
  {
   "cell_type": "code",
   "execution_count": 7,
   "metadata": {
    "collapsed": false
   },
   "outputs": [
    {
     "name": "stdout",
     "output_type": "stream",
     "text": [
      "Processing model FSW8-bin-1, 1 of 3\n",
      "The remaining extracellular metabolites are:\n",
      "cpd00067_e0\n",
      "All reactions are balanced\n",
      "Processing model FSW8-bin-2, 2 of 3\n",
      "The remaining extracellular metabolites are:\n",
      "cpd00067_e0\n",
      "All reactions are balanced\n",
      "Processing model FSW8-bin-3, 3 of 3\n",
      "The remaining extracellular metabolites are:\n",
      "cpd00067_e0\n",
      "All reactions are balanced\n"
     ]
    }
   ],
   "source": [
    "# Define local folder structure for data input and processing.\n",
    "rawModelDir = 'sbml/raw/FSW8'\n",
    "processedDataDir = 'sbml/processed/FSW8'\n",
    "summaryStatsDir = 'data/FSW8'\n",
    "externalDataDir = 'externalData'\n",
    "\n",
    "sf.processSBMLforRE(rawModelDir, processedDataDir, summaryStatsDir, externalDataDir)"
   ]
  },
  {
   "cell_type": "code",
   "execution_count": 8,
   "metadata": {
    "collapsed": false
   },
   "outputs": [
    {
     "name": "stdout",
     "output_type": "stream",
     "text": [
      "Processing model TBE6-bin-01, 1 of 5\n",
      "The remaining extracellular metabolites are:\n",
      "cpd00067_e0\n",
      "All reactions are balanced\n",
      "Processing model TBE6-bin-02, 2 of 5\n",
      "The remaining extracellular metabolites are:\n",
      "cpd00067_e0\n",
      "All reactions are balanced\n",
      "Processing model TBE6-bin-03, 3 of 5\n",
      "The remaining extracellular metabolites are:\n",
      "cpd00067_e0\n",
      "All reactions are balanced\n",
      "Processing model TBE6-bin-05, 4 of 5\n",
      "The remaining extracellular metabolites are:\n",
      "cpd00067_e0\n",
      "All reactions are balanced\n",
      "Processing model TBE6-bin-10, 5 of 5\n",
      "The remaining extracellular metabolites are:\n",
      "cpd00067_e0\n",
      "All reactions are balanced\n"
     ]
    }
   ],
   "source": [
    "# Define local folder structure for data input and processing.\n",
    "rawModelDir = 'sbml/raw/TBE6'\n",
    "processedDataDir = 'sbml/processed/TBE6'\n",
    "summaryStatsDir = 'data/TBE6'\n",
    "externalDataDir = 'externalData'\n",
    "\n",
    "sf.processSBMLforRE(rawModelDir, processedDataDir, summaryStatsDir, externalDataDir)"
   ]
  },
  {
   "cell_type": "markdown",
   "metadata": {
    "collapsed": true
   },
   "source": [
    "## Converting SBMLs for Use with Reverse Ecology\n",
    "\n",
    "My reverse ecology pipeline operates on metabolic network recontructions which are represented as metabolic network graphs. This section converts the reconstruction from SBML format to graph format. Briefly, the network reconstruction is converted to a directed graph and largest connected component is extracted. This component is then subject to reverse ecology analysis."
   ]
  },
  {
   "cell_type": "markdown",
   "metadata": {},
   "source": [
    "### Converting KBase SBML files to Graphs\n",
    "\n",
    "The first step in reverse ecology analysis is to convert the SBML representation of the metabolic network to a graph. The network is represented as a directed graph, where nodes denote and compounds and edges denote reactions. A directed edge from A to B indicates that compound A is a substrate in a reaction which produces compound B. That is, for a given reaction, all the nodes that represent its substrates are connected by directed edges to all the nodes that represent its products.\n",
    "\n",
    "The figure below gives stoichiometry for two reactions and shows the resulting directed graph.\n",
    "\n",
    "![Converting reaction stoichiometry to a network graph](files/imageFiles/RE-StoichToGraph.png)\n",
    "\n",
    "Then, each path along the graph represents a metabolic transformation enabled by the network. In the above example, `cpd00581` can be converted to `cpd02311` and then to `cpd00344`. In some cases, paths along the graph do not make much sense. In the above example, there is a path `cpd00581 --> cpd02311 --> cpd00001 --> cpd00344`. Of course, `cpd00344` isn't really synthesized from `cpd00001` (water), it is synthesized from `cpd02311` with the addition of a water molecule. These erroneous transformations may cause problems downstream, and I am working on a way to remove them from the network.\n",
    "\n",
    "The code below converts the SBML representations to metabolic network graphs."
   ]
  },
  {
   "cell_type": "code",
   "execution_count": 13,
   "metadata": {
    "collapsed": false
   },
   "outputs": [
    {
     "name": "stdout",
     "output_type": "stream",
     "text": [
      "Converting SBML files to adjacency lists\n"
     ]
    }
   ],
   "source": [
    "# Define local folder structure for data input and processing.\n",
    "modelDir = 'sbml/processed/FNEB6'\n",
    "summaryStatsDir = 'data/FNEB6'\n",
    "externalDataDir = 'externalData'\n",
    "\n",
    "# Import the list of models\n",
    "dirList = mf.getDirList('../'+modelDir)\n",
    "\n",
    "# Convert to a network graph\n",
    "modelStatArray = sf.dirListToAdjacencyList(dirList, externalDataDir, modelDir, summaryStatsDir)"
   ]
  },
  {
   "cell_type": "code",
   "execution_count": 14,
   "metadata": {
    "collapsed": false
   },
   "outputs": [
    {
     "name": "stdout",
     "output_type": "stream",
     "text": [
      "Converting SBML files to adjacency lists\n"
     ]
    }
   ],
   "source": [
    "# Define local folder structure for data input and processing.\n",
    "modelDir = 'sbml/processed/FNEB7'\n",
    "summaryStatsDir = 'data/FNEB7'\n",
    "externalDataDir = 'externalData'\n",
    "\n",
    "# Import the list of models\n",
    "dirList = mf.getDirList('../'+modelDir)\n",
    "\n",
    "# Convert to a network graph\n",
    "modelStatArray = sf.dirListToAdjacencyList(dirList, externalDataDir, modelDir, summaryStatsDir)"
   ]
  },
  {
   "cell_type": "code",
   "execution_count": 15,
   "metadata": {
    "collapsed": false
   },
   "outputs": [
    {
     "name": "stdout",
     "output_type": "stream",
     "text": [
      "Converting SBML files to adjacency lists\n"
     ]
    }
   ],
   "source": [
    "# Define local folder structure for data input and processing.\n",
    "modelDir = 'sbml/processed/FNED7'\n",
    "summaryStatsDir = 'data/FNED7'\n",
    "externalDataDir = 'externalData'\n",
    "\n",
    "# Import the list of models\n",
    "dirList = mf.getDirList('../'+modelDir)\n",
    "\n",
    "# Convert to a network graph\n",
    "modelStatArray = sf.dirListToAdjacencyList(dirList, externalDataDir, modelDir, summaryStatsDir)"
   ]
  },
  {
   "cell_type": "code",
   "execution_count": 16,
   "metadata": {
    "collapsed": false
   },
   "outputs": [
    {
     "name": "stdout",
     "output_type": "stream",
     "text": [
      "Converting SBML files to adjacency lists\n"
     ]
    }
   ],
   "source": [
    "# Define local folder structure for data input and processing.\n",
    "modelDir = 'sbml/processed/FNEF8'\n",
    "summaryStatsDir = 'data/FNEF8'\n",
    "externalDataDir = 'externalData'\n",
    "\n",
    "# Import the list of models\n",
    "dirList = mf.getDirList('../'+modelDir)\n",
    "\n",
    "# Convert to a network graph\n",
    "modelStatArray = sf.dirListToAdjacencyList(dirList, externalDataDir, modelDir, summaryStatsDir)"
   ]
  },
  {
   "cell_type": "code",
   "execution_count": 17,
   "metadata": {
    "collapsed": false
   },
   "outputs": [
    {
     "name": "stdout",
     "output_type": "stream",
     "text": [
      "Converting SBML files to adjacency lists\n"
     ]
    }
   ],
   "source": [
    "# Define local folder structure for data input and processing.\n",
    "modelDir = 'sbml/processed/FSW8'\n",
    "summaryStatsDir = 'data/FSW8'\n",
    "externalDataDir = 'externalData'\n",
    "\n",
    "# Import the list of models\n",
    "dirList = mf.getDirList('../'+modelDir)\n",
    "\n",
    "# Convert to a network graph\n",
    "modelStatArray = sf.dirListToAdjacencyList(dirList, externalDataDir, modelDir, summaryStatsDir)"
   ]
  },
  {
   "cell_type": "code",
   "execution_count": 18,
   "metadata": {
    "collapsed": false
   },
   "outputs": [
    {
     "name": "stdout",
     "output_type": "stream",
     "text": [
      "Converting SBML files to adjacency lists\n"
     ]
    }
   ],
   "source": [
    "# Define local folder structure for data input and processing.\n",
    "modelDir = 'sbml/processed/TBE6'\n",
    "summaryStatsDir = 'data/TBE6'\n",
    "externalDataDir = 'externalData'\n",
    "\n",
    "# Import the list of models\n",
    "dirList = mf.getDirList('../'+modelDir)\n",
    "\n",
    "# Convert to a network graph\n",
    "modelStatArray = sf.dirListToAdjacencyList(dirList, externalDataDir, modelDir, summaryStatsDir)"
   ]
  },
  {
   "cell_type": "markdown",
   "metadata": {},
   "source": [
    "### Analyze Graph Representations\n",
    "\n",
    "In graph theory, a connected component of a graph is a subgraph in which all pairs of vertices are connected to each other by paths, and which has no connections to nodes outside the subgraph. The graph below has four connected components, each in a different color.\n",
    "\n",
    "![Four connected components](files/imageFiles/RE-graphComponents.png)\n",
    "\n",
    "A graph which has only a single component is fully connected. The graphs algorithms used in reverse ecology analysis require the metabolic network contain a single, fully connected graph. \n",
    "\n",
    "Sometimes metabolic network graphs contain multiple components. When they do, I anticipate the single component to contain most of the reactions in the network, with only a handful of metabolites being disconnected from the rest.\n",
    "\n",
    "The code below computes the connected components of our metabolic network graphs and makes a histogram."
   ]
  },
  {
   "cell_type": "code",
   "execution_count": 27,
   "metadata": {
    "collapsed": false
   },
   "outputs": [
    {
     "name": "stdout",
     "output_type": "stream",
     "text": [
      "Computing graph statistics\n"
     ]
    },
    {
     "data": {
      "image/png": "[encoded data removed]",
      "text/plain": [
       "<matplotlib.figure.Figure at 0x10b80ce90>"
      ]
     },
     "metadata": {},
     "output_type": "display_data"
    },
    {
     "data": {
      "image/png": "[encoded data removed]",
      "text/plain": [
       "<matplotlib.figure.Figure at 0x11200a8d0>"
      ]
     },
     "metadata": {},
     "output_type": "display_data"
    },
    {
     "data": {
      "image/png": "[encoded data removed]",
      "text/plain": [
       "<matplotlib.figure.Figure at 0x111a7f510>"
      ]
     },
     "metadata": {},
     "output_type": "display_data"
    }
   ],
   "source": [
    "# Define local folder structure for data input and processing.\n",
    "modelDir = 'sbml/processed/FNEB6'\n",
    "summaryStatsDir = 'data/FNEB6'\n",
    "\n",
    "# Import the list of models\n",
    "dirList = mf.getDirList('../'+modelDir)\n",
    "\n",
    "graphStatArray, diGraphStatArray = gf.computeGraphStats(dirList, modelDir, summaryStatsDir)\n",
    "gf.plotGraphStats(graphStatArray)"
   ]
  },
  {
   "cell_type": "markdown",
   "metadata": {},
   "source": [
    "By examining the third plot, we see that in all cases the largest connected component contains over 97% of all the metabolites in the network. The disconnected metabolites are likely due to with issues in incompleteness or annotation. The reaction which would link the disconnected metabolites to the largest connected component is missing.\n",
    "\n",
    "Let's repeat the analysis of the remaining communities."
   ]
  },
  {
   "cell_type": "code",
   "execution_count": 22,
   "metadata": {
    "collapsed": false
   },
   "outputs": [
    {
     "name": "stdout",
     "output_type": "stream",
     "text": [
      "Computing graph statistics\n"
     ]
    },
    {
     "data": {
      "image/png": "[encoded data removed]",
      "text/plain": [
       "<matplotlib.figure.Figure at 0x11195d750>"
      ]
     },
     "metadata": {},
     "output_type": "display_data"
    },
    {
     "data": {
      "image/png": "[encoded data removed]",
      "text/plain": [
       "<matplotlib.figure.Figure at 0x113134e90>"
      ]
     },
     "metadata": {},
     "output_type": "display_data"
    },
    {
     "data": {
      "image/png": "[encoded data removed]",
      "text/plain": [
       "<matplotlib.figure.Figure at 0x112915810>"
      ]
     },
     "metadata": {},
     "output_type": "display_data"
    }
   ],
   "source": [
    "# Define local folder structure for data input and processing.\n",
    "modelDir = 'sbml/processed/FNEB7'\n",
    "summaryStatsDir = 'data/FNEB7'\n",
    "\n",
    "# Import the list of models\n",
    "dirList = mf.getDirList('../'+modelDir)\n",
    "\n",
    "graphStatArray, diGraphStatArray = gf.computeGraphStats(dirList, modelDir, summaryStatsDir)\n",
    "gf.plotGraphStats(graphStatArray)"
   ]
  },
  {
   "cell_type": "code",
   "execution_count": 23,
   "metadata": {
    "collapsed": false
   },
   "outputs": [
    {
     "name": "stdout",
     "output_type": "stream",
     "text": [
      "Computing graph statistics\n"
     ]
    },
    {
     "data": {
      "image/png": "[encoded data removed]",
      "text/plain": [
       "<matplotlib.figure.Figure at 0x111807610>"
      ]
     },
     "metadata": {},
     "output_type": "display_data"
    },
    {
     "data": {
      "image/png": "[encoded data removed]",
      "text/plain": [
       "<matplotlib.figure.Figure at 0x111f9c950>"
      ]
     },
     "metadata": {},
     "output_type": "display_data"
    },
    {
     "data": {
      "image/png": "[encoded data removed]",
      "text/plain": [
       "<matplotlib.figure.Figure at 0x112782dd0>"
      ]
     },
     "metadata": {},
     "output_type": "display_data"
    }
   ],
   "source": [
    "# Define local folder structure for data input and processing.\n",
    "modelDir = 'sbml/processed/FNED7'\n",
    "summaryStatsDir = 'data/FNED7'\n",
    "\n",
    "# Import the list of models\n",
    "dirList = mf.getDirList('../'+modelDir)\n",
    "\n",
    "graphStatArray, diGraphStatArray = gf.computeGraphStats(dirList, modelDir, summaryStatsDir)\n",
    "gf.plotGraphStats(graphStatArray)"
   ]
  },
  {
   "cell_type": "code",
   "execution_count": 24,
   "metadata": {
    "collapsed": false
   },
   "outputs": [
    {
     "name": "stdout",
     "output_type": "stream",
     "text": [
      "Computing graph statistics\n"
     ]
    },
    {
     "data": {
      "image/png": "[encoded data removed]",
      "text/plain": [
       "<matplotlib.figure.Figure at 0x111582d10>"
      ]
     },
     "metadata": {},
     "output_type": "display_data"
    },
    {
     "data": {
      "image/png": "[encoded data removed]",
      "text/plain": [
       "<matplotlib.figure.Figure at 0x11310a510>"
      ]
     },
     "metadata": {},
     "output_type": "display_data"
    },
    {
     "data": {
      "image/png": "[encoded data removed]",
      "text/plain": [
       "<matplotlib.figure.Figure at 0x11220f650>"
      ]
     },
     "metadata": {},
     "output_type": "display_data"
    }
   ],
   "source": [
    "# Define local folder structure for data input and processing.\n",
    "modelDir = 'sbml/processed/FNEF8'\n",
    "summaryStatsDir = 'data/FNEF8'\n",
    "\n",
    "# Import the list of models\n",
    "dirList = mf.getDirList('../'+modelDir)\n",
    "\n",
    "graphStatArray, diGraphStatArray = gf.computeGraphStats(dirList, modelDir, summaryStatsDir)\n",
    "gf.plotGraphStats(graphStatArray)"
   ]
  },
  {
   "cell_type": "code",
   "execution_count": 25,
   "metadata": {
    "collapsed": false
   },
   "outputs": [
    {
     "name": "stdout",
     "output_type": "stream",
     "text": [
      "Computing graph statistics\n"
     ]
    },
    {
     "data": {
      "image/png": "[encoded data removed]",
      "text/plain": [
       "<matplotlib.figure.Figure at 0x111ca2390>"
      ]
     },
     "metadata": {},
     "output_type": "display_data"
    },
    {
     "data": {
      "image/png": "[encoded data removed]",
      "text/plain": [
       "<matplotlib.figure.Figure at 0x1117ecc90>"
      ]
     },
     "metadata": {},
     "output_type": "display_data"
    },
    {
     "data": {
      "image/png": "[encoded data removed]",
      "text/plain": [
       "<matplotlib.figure.Figure at 0x11257e510>"
      ]
     },
     "metadata": {},
     "output_type": "display_data"
    }
   ],
   "source": [
    "# Define local folder structure for data input and processing.\n",
    "modelDir = 'sbml/processed/FSW8'\n",
    "summaryStatsDir = 'data/FSW8'\n",
    "\n",
    "# Import the list of models\n",
    "dirList = mf.getDirList('../'+modelDir)\n",
    "\n",
    "graphStatArray, diGraphStatArray = gf.computeGraphStats(dirList, modelDir, summaryStatsDir)\n",
    "gf.plotGraphStats(graphStatArray)"
   ]
  },
  {
   "cell_type": "code",
   "execution_count": 26,
   "metadata": {
    "collapsed": false
   },
   "outputs": [
    {
     "name": "stdout",
     "output_type": "stream",
     "text": [
      "Computing graph statistics\n"
     ]
    },
    {
     "data": {
      "image/png": "[encoded data removed]",
      "text/plain": [
       "<matplotlib.figure.Figure at 0x113369450>"
      ]
     },
     "metadata": {},
     "output_type": "display_data"
    },
    {
     "data": {
      "image/png": "[encoded data removed]",
      "text/plain": [
       "<matplotlib.figure.Figure at 0x113126510>"
      ]
     },
     "metadata": {},
     "output_type": "display_data"
    },
    {
     "data": {
      "image/png": "[encoded data removed]",
      "text/plain": [
       "<matplotlib.figure.Figure at 0x1127cad50>"
      ]
     },
     "metadata": {},
     "output_type": "display_data"
    }
   ],
   "source": [
    "# Define local folder structure for data input and processing.\n",
    "modelDir = 'sbml/processed/TBE6'\n",
    "summaryStatsDir = 'data/TBE6'\n",
    "\n",
    "# Import the list of models\n",
    "dirList = mf.getDirList('../'+modelDir)\n",
    "\n",
    "graphStatArray, diGraphStatArray = gf.computeGraphStats(dirList, modelDir, summaryStatsDir)\n",
    "gf.plotGraphStats(graphStatArray)"
   ]
  },
  {
   "cell_type": "markdown",
   "metadata": {},
   "source": [
    "### Reducing Graphs to Their Largest Component\n",
    "\n",
    "For all of the communities, the largest component contains over 97% of the metabolites in the network. The following code section reduces each graph to its largest connected component.\n",
    "\n",
    "It's all worth noting the FNED7 network wirh around 500 nodes (metabolites). Examination of `data/FNED7/GraphStatistics.txt` reveals this is bin7, an Actino genome only 12% complete. This genome should probably be ignored in downstream analysis."
   ]
  },
  {
   "cell_type": "code",
   "execution_count": 28,
   "metadata": {
    "collapsed": false
   },
   "outputs": [
    {
     "name": "stdout",
     "output_type": "stream",
     "text": [
      "Reducing to largest component\n"
     ]
    }
   ],
   "source": [
    "# Define local folder structure for data input and processing.\n",
    "modelDir = 'sbml/processed/FNEB6'\n",
    "summaryStatsDir = 'data/FNEB6'\n",
    "\n",
    "# Import the list of models\n",
    "dirList = mf.getDirList('../'+modelDir)\n",
    "\n",
    "reducedGraphStatArray = gf.reduceToLargeComponent(dirList, modelDir, summaryStatsDir)"
   ]
  },
  {
   "cell_type": "code",
   "execution_count": 29,
   "metadata": {
    "collapsed": false
   },
   "outputs": [
    {
     "name": "stdout",
     "output_type": "stream",
     "text": [
      "Reducing to largest component\n"
     ]
    }
   ],
   "source": [
    "# Define local folder structure for data input and processing.\n",
    "modelDir = 'sbml/processed/FNEB7'\n",
    "summaryStatsDir = 'data/FNEB7'\n",
    "\n",
    "# Import the list of models\n",
    "dirList = mf.getDirList('../'+modelDir)\n",
    "\n",
    "reducedGraphStatArray = gf.reduceToLargeComponent(dirList, modelDir, summaryStatsDir)"
   ]
  },
  {
   "cell_type": "code",
   "execution_count": 30,
   "metadata": {
    "collapsed": false
   },
   "outputs": [
    {
     "name": "stdout",
     "output_type": "stream",
     "text": [
      "Reducing to largest component\n"
     ]
    }
   ],
   "source": [
    "# Define local folder structure for data input and processing.\n",
    "modelDir = 'sbml/processed/FNED7'\n",
    "summaryStatsDir = 'data/FNED7'\n",
    "\n",
    "# Import the list of models\n",
    "dirList = mf.getDirList('../'+modelDir)\n",
    "\n",
    "reducedGraphStatArray = gf.reduceToLargeComponent(dirList, modelDir, summaryStatsDir)"
   ]
  },
  {
   "cell_type": "code",
   "execution_count": 31,
   "metadata": {
    "collapsed": false
   },
   "outputs": [
    {
     "name": "stdout",
     "output_type": "stream",
     "text": [
      "Reducing to largest component\n"
     ]
    }
   ],
   "source": [
    "# Define local folder structure for data input and processing.\n",
    "modelDir = 'sbml/processed/FNEF8'\n",
    "summaryStatsDir = 'data/FNEF8'\n",
    "\n",
    "# Import the list of models\n",
    "dirList = mf.getDirList('../'+modelDir)\n",
    "\n",
    "reducedGraphStatArray = gf.reduceToLargeComponent(dirList, modelDir, summaryStatsDir)"
   ]
  },
  {
   "cell_type": "code",
   "execution_count": 32,
   "metadata": {
    "collapsed": false
   },
   "outputs": [
    {
     "name": "stdout",
     "output_type": "stream",
     "text": [
      "Reducing to largest component\n"
     ]
    }
   ],
   "source": [
    "# Define local folder structure for data input and processing.\n",
    "modelDir = 'sbml/processed/FSW8'\n",
    "summaryStatsDir = 'data/FSW8'\n",
    "\n",
    "# Import the list of models\n",
    "dirList = mf.getDirList('../'+modelDir)\n",
    "\n",
    "reducedGraphStatArray = gf.reduceToLargeComponent(dirList, modelDir, summaryStatsDir)"
   ]
  },
  {
   "cell_type": "code",
   "execution_count": 33,
   "metadata": {
    "collapsed": false
   },
   "outputs": [
    {
     "name": "stdout",
     "output_type": "stream",
     "text": [
      "Reducing to largest component\n"
     ]
    }
   ],
   "source": [
    "# Define local folder structure for data input and processing.\n",
    "modelDir = 'sbml/processed/TBE6'\n",
    "summaryStatsDir = 'data/TBE6'\n",
    "\n",
    "# Import the list of models\n",
    "dirList = mf.getDirList('../'+modelDir)\n",
    "\n",
    "reducedGraphStatArray = gf.reduceToLargeComponent(dirList, modelDir, summaryStatsDir)"
   ]
  },
  {
   "cell_type": "markdown",
   "metadata": {},
   "source": [
    "## Reverse Ecology and Seed Sets\n",
    "\n",
    "Finally, we are ready to do some reverse ecology! This section describes the computation of seed sets and their use in cooperation/competition analysis."
   ]
  },
  {
   "cell_type": "markdown",
   "metadata": {},
   "source": [
    "### Computation of Seed Sets\n",
    "\n",
    "Recall the definition of a seed set: the set of compounds that, based on metabolic network topology, are exogenously acquired for growth. Formally, the seed set of a network is the minimal subset of compounds (nodes) that cannot be synthesized from other compounds in the network, and whose presence in the environment permits the production of all other compounds in the network. In other words, the seed set of a network is a set of nodes from which all other nodes can be reached.\n",
    "\n",
    "The seed set detection algorithm decomposes the metabolic network into its strongly connected components. This decomposition enables the seed set detection problem to be reduced to the problem of detecting source components in the condensation of the original network. What on earth does that mean?\n",
    "\n",
    "A strongly connected component (SCC) of a directed graph is a subgraph such that every vertex is reachable from every other vertex. By definition, a vertex is automatically reachable from itself, so an SCC can contain only a single component. Consider the network below. The three SCCs of this graph are indicated with different colors. \n",
    "\n",
    "![Strongly connected components](files/imageFiles/RE-graphSCCs.png)\n",
    "\n",
    "Let's take a closer look at the orange component. For each vertex, the figure below shows the paths by which the other three vertices can be reached.\n",
    "\n",
    "![Paths through an SCC](files/imageFiles/RE-graphSCCPaths.png)\n",
    "\n",
    "To generate the condensation of a graph, each SCC is contracted to a single vertex. The figure below shows condensation of the above graph (nodes A to H). Then, source components (nodes with no incoming edges) are identified. Such components are circled in purple. Starting from these nodes, paths can be drawn to fully connect the condensed graph.\n",
    "\n",
    "![Condensation of a graph](files/imageFiles/RE-graphCondensation.png)\n",
    "\n",
    "To find the seed sets, each source component in the condensation is then expanded to its original nodes. Because each vertex of the condensation is an SCC of the original graph, each vertex of the condensation contains a set of \"equivalent nodes\", meaning that each node can be reached from the others. Thus, the original graph has two seed sets, one containing compound A, and the other containing compounds F, G, and H. The figure below shows how all nodes can be reached starting from nodes A and H.\n",
    "\n",
    "![Path from seed nodes to all nodes](files/imageFiles/RE-graphSeedSets.png)\n",
    "\n",
    "Thus, the seed set detection algorithm contains four steps.\n",
    "1. Identify the SCCs of the (directed) network graph\n",
    "2. Use the SCCs to derive the condensation of the original graph\n",
    "3. Identify source components in the condensation\n",
    "4. Expand each source component of the condensation into its original node\n",
    "\n",
    "Seed compounds can also have weights associated with them. For a seed compound belonging to a source component of size n, its weight is 1/n. Thus, in the example above, the seed compound 'A' has a weight of 1, and the compounds {F, G, H} each have weight 1/3.\n",
    "\n",
    "The code below performs the four steps shown above for the metabolic network graph of each genome. The seed compounds for each graph are written to a file, with each line in the file containing a set of equivalent seed compounds. The code also plots histograms of the number and size of the seed sets against network size."
   ]
  },
  {
   "cell_type": "code",
   "execution_count": 38,
   "metadata": {
    "collapsed": false
   },
   "outputs": [
    {
     "name": "stdout",
     "output_type": "stream",
     "text": [
      "Computing seed sets\n"
     ]
    }
   ],
   "source": [
    "# Define local folder structure for data input and processing.\n",
    "modelDir = 'sbml/processed/FNEB6'\n",
    "externalDataDir = 'externalData'\n",
    "\n",
    "# Import the list of models\n",
    "dirList = mf.getDirList('../'+modelDir)\n",
    "\n",
    "seedSetList = gf.computeSeedSets(dirList, externalDataDir, modelDir)"
   ]
  },
  {
   "cell_type": "code",
   "execution_count": 39,
   "metadata": {
    "collapsed": false
   },
   "outputs": [
    {
     "name": "stdout",
     "output_type": "stream",
     "text": [
      "Computing seed sets\n"
     ]
    }
   ],
   "source": [
    "# Define local folder structure for data input and processing.\n",
    "modelDir = 'sbml/processed/FNEB7'\n",
    "externalDataDir = 'externalData'\n",
    "\n",
    "# Import the list of models\n",
    "dirList = mf.getDirList('../'+modelDir)\n",
    "\n",
    "seedSetList = gf.computeSeedSets(dirList, externalDataDir, modelDir)"
   ]
  },
  {
   "cell_type": "code",
   "execution_count": 40,
   "metadata": {
    "collapsed": false
   },
   "outputs": [
    {
     "name": "stdout",
     "output_type": "stream",
     "text": [
      "Computing seed sets\n"
     ]
    }
   ],
   "source": [
    "# Define local folder structure for data input and processing.\n",
    "modelDir = 'sbml/processed/FNED7'\n",
    "externalDataDir = 'externalData'\n",
    "\n",
    "# Import the list of models\n",
    "dirList = mf.getDirList('../'+modelDir)\n",
    "\n",
    "seedSetList = gf.computeSeedSets(dirList, externalDataDir, modelDir)"
   ]
  },
  {
   "cell_type": "code",
   "execution_count": 41,
   "metadata": {
    "collapsed": false
   },
   "outputs": [
    {
     "name": "stdout",
     "output_type": "stream",
     "text": [
      "Computing seed sets\n"
     ]
    }
   ],
   "source": [
    "# Define local folder structure for data input and processing.\n",
    "modelDir = 'sbml/processed/FNEF8'\n",
    "externalDataDir = 'externalData'\n",
    "\n",
    "# Import the list of models\n",
    "dirList = mf.getDirList('../'+modelDir)\n",
    "\n",
    "seedSetList = gf.computeSeedSets(dirList, externalDataDir, modelDir)"
   ]
  },
  {
   "cell_type": "code",
   "execution_count": 42,
   "metadata": {
    "collapsed": false
   },
   "outputs": [
    {
     "name": "stdout",
     "output_type": "stream",
     "text": [
      "Computing seed sets\n"
     ]
    }
   ],
   "source": [
    "# Define local folder structure for data input and processing.\n",
    "modelDir = 'sbml/processed/FSW8'\n",
    "externalDataDir = 'externalData'\n",
    "\n",
    "# Import the list of models\n",
    "dirList = mf.getDirList('../'+modelDir)\n",
    "\n",
    "seedSetList = gf.computeSeedSets(dirList, externalDataDir, modelDir)"
   ]
  },
  {
   "cell_type": "code",
   "execution_count": 43,
   "metadata": {
    "collapsed": false
   },
   "outputs": [
    {
     "name": "stdout",
     "output_type": "stream",
     "text": [
      "Computing seed sets\n"
     ]
    }
   ],
   "source": [
    "# Define local folder structure for data input and processing.\n",
    "modelDir = 'sbml/processed/TBE6'\n",
    "externalDataDir = 'externalData'\n",
    "\n",
    "# Import the list of models\n",
    "dirList = mf.getDirList('../'+modelDir)\n",
    "\n",
    "seedSetList = gf.computeSeedSets(dirList, externalDataDir, modelDir)"
   ]
  },
  {
   "cell_type": "markdown",
   "metadata": {},
   "source": [
    "## Reverse Ecology Metrics\n",
    "\n",
    "Reverse ecology theoreticians have developed a number of metrics which provide qualitative insights into the ecology of microorganisms. This section is concerned with computing two of those metrics, metabolic competition and metabolic complementarity.\n",
    "\n",
    "Metabolic competition represents the similarity in two organisms' nutritional profiles, and represents the potential for competition between the two organisms. For two organisms A and B, the metabolic competition index is calculated as the fraction of compounds in A's seed set that are also present in B's seed set. This index provides an upper bound for the amount of competition species A could encounter from species B.\n",
    "\n",
    "Metabolic complementarity represents the complementarity in two organisms’ nutritional profiles, and represents the potential for syntrophy between A and B. For two organisms A and B, the metabolic complementarity index is calculated as the fraction of compounds in A's seed set that are present in B's metabolic network, but are not a part of B's seed set (e.g, B's 'non-seed' compounds). This index provides an upper bound for the potential for syntrophic interactions between A and B.\n",
    "\n",
    "The functions below compute the competition and complementarity scores between all pairs of genomes and visualize the results as a heatmap."
   ]
  },
  {
   "cell_type": "code",
   "execution_count": 5,
   "metadata": {
    "collapsed": false
   },
   "outputs": [
    {
     "name": "stderr",
     "output_type": "stream",
     "text": [
      "/Library/Python/2.7/site-packages/matplotlib/figure.py:397 \u001b[1;31mUserWarning\u001b[0m: matplotlib is currently using a non-GUI backend, so cannot show the figure\n"
     ]
    },
    {
     "data": {
      "image/png": "[encoded data removed]",
      "text/plain": [
       "<matplotlib.figure.Figure at 0x11363d0d0>"
      ]
     },
     "metadata": {},
     "output_type": "display_data"
    }
   ],
   "source": [
    "# Competition\n",
    "genomeDir = 'data' # This function can operate on models of individual or merged genomes. Specify the proper input directory.\n",
    "\n",
    "metabCompeteDF = ef.computeMetabCompete(dirList, genomeDir, summaryStatsDir)\n",
    "ef.plotDataFrame(metabCompeteDF, dirList, summaryStatsDir, 'metabolicCompetition.png')"
   ]
  },
  {
   "cell_type": "code",
   "execution_count": 6,
   "metadata": {
    "collapsed": false
   },
   "outputs": [
    {
     "data": {
      "image/png": "[encoded data removed]",
      "text/plain": [
       "<matplotlib.figure.Figure at 0x113c5aa90>"
      ]
     },
     "metadata": {},
     "output_type": "display_data"
    }
   ],
   "source": [
    "# Complementarity\n",
    "genomeDir = 'data' # This function can operate on models of individual or merged genomes. Specify the proper input directory.\n",
    "\n",
    "metabComplementDF = ef.computeMetabComplement(dirList, genomeDir, summaryStatsDir)\n",
    "ef.plotDataFrame(metabComplementDF, dirList, summaryStatsDir, 'metabolicComplementarity.png')"
   ]
  },
  {
   "cell_type": "markdown",
   "metadata": {},
   "source": [
    "## TO DO\n",
    "\n",
    "I would like to write some additional analysis to compare these results to the manual reconstruction.\n",
    "\n",
    "1. The functions above identify metabolites for which organisms may compete, and which may be shared (complementarity), but they're not actually recorded anywhere. I want to examine complementarity metabolites to identify potential interactions (Figure 4).\n",
    "\n",
    "2. An alternative approach to complementarity. I can merge genomes for all pairs, triplets, etc of genomes in the community. By comparing seed sets for individual vs. merged genomes, I can also identity metabolites which would be shared by community members. I'm not sure if the results would be any different than looking at complementary metabolites alone."
   ]
  },
  {
   "cell_type": "code",
   "execution_count": null,
   "metadata": {
    "collapsed": true
   },
   "outputs": [],
   "source": []
  }
 ],
 "metadata": {
  "kernelspec": {
   "display_name": "Python 2",
   "language": "python",
   "name": "python2"
  },
  "language_info": {
   "codemirror_mode": {
    "name": "ipython",
    "version": 2
   },
   "file_extension": ".py",
   "mimetype": "text/x-python",
   "name": "python",
   "nbconvert_exporter": "python",
   "pygments_lexer": "ipython2",
   "version": "2.7.10"
  }
 },
 "nbformat": 4,
 "nbformat_minor": 0
}
