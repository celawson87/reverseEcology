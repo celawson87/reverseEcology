{
 "cells": [
  {
   "cell_type": "markdown",
   "metadata": {},
   "source": [
    "# Auxotrophies and Interactomes in Mixed Culture of Freshwater Bacteria"
   ]
  },
  {
   "cell_type": "markdown",
   "metadata": {},
   "source": [
    "## Project Overview\n",
    "\n",
    "This notebook describes reverse ecological analysis of a mixed culture from Lake Grosse Fuchskuhle. For additional details, please see:\n",
    "\n",
    "Garcia, S. L., Buck, M., McMahon, K. D., Grossart, H.-P., Eiler, A., & Warnecke, F. (2015). Auxotrophy and intra-population complementary in the “interactome” of a cultivated freshwater model community. Molecular Ecology, 24(17), 4449–4459. http://doi.org/10.1111/mec.13319"
   ]
  },
  {
   "cell_type": "markdown",
   "metadata": {},
   "source": [
    "## Background and Theory\n",
    "\n",
    "For an overview of the theory underlying this pipeline, please the notebook `masterNotebook` in the `master` branch of this repo. In the interest of brevity, this notebook focuses on carrying out the workflow, not the theory."
   ]
  },
  {
   "cell_type": "markdown",
   "metadata": {},
   "source": [
    "## Obtaining and Processing Metabolic Network Reconstructions from KBase\n",
    "\n",
    "Reverse ecology analysis relies on metabolic network reconstructions for an organism of interest. KBase (http://kbase.us) is a powerful resource for obtaining genome-scale network reconstructions for microbial genomes. These reconstructions are distributed as SBML files, which must be processed prior to reverse ecology analysis. This section describes how to obtain reconstructions from KBase, and how to process them."
   ]
  },
  {
   "cell_type": "markdown",
   "metadata": {},
   "source": [
    "### Obtaining and Preparing SBML Files\n",
    "\n",
    "Genomes (as fasta files) for your organisms of interest can be pushed from your computer to KBase. Once there, a KBase Narrative (iPython notebook) can be used to build reconstructions for your genomes. \n",
    "\n",
    "The script `loadGenomes` pushes these genomes to the KBase narrative created for this project.\n",
    "* KBase Narrative: [Model Building for FNE-F8 Mixed Culture MAGs](https://narrative.kbase.us/narrative/ws.12305.obj.1)\n",
    "* Workspace Browser: [joshamilton:1452727482251](https://narrative.kbase.us/functional-site/#/ws/objects/joshamilton:1452995633835)\n",
    "\n",
    "I then ran the \"Annotate Contigs\" and \"Build Metabolic Model\" KBase apps for each genome. I downloaded the annotated genomes (Genbank format) and models (SBML and tsv formats). Files are stored in:\n",
    "* `refGenomes` - genomes and annotations in a variety for formats\n",
    "* `sbml` - metabolic models in SBML and 'tsv' formats. Pre- and post-processed versions (see below).\n",
    "\n",
    "Once the genomes were downloaded, I further converted the Genbank-formatted genomes to fasta nucleotide (ffn), fasta amino acid (ffa), and gff format. Using the following scripts:\n",
    "* `concatGbk.sh` - concatenate gbk files for each contig into a single file for each genome\n",
    "* `kBaseGenbankToFasta.py` - convert gbk to ffn and ffa format\n",
    "* `kBaseGenbankToGff.py` - convert gbk to gff format\n",
    "* `cleanUpGFF.pl` - remove extra comments from gff files"
   ]
  },
  {
   "cell_type": "markdown",
   "metadata": {},
   "source": [
    "## Processing SBML Files\n",
    "\n",
    "Reconstructions from KBase require further processing before they are suitable for use in reverse ecology. The function below does a number of things:\n",
    "\n",
    "1. Reformat gene locus tags\n",
    "2. Remove biomass, exchange, spontaneous, DNA/RNA biosynthesis reactions and their corresponding genes\n",
    "3. Import metabolite formulas\n",
    "4. Check mass- and charge-balancing of reactions in the reconstruction\n",
    "5. Remove trailing 0s from reaction and metabolite names\n",
    "\n",
    "The post-processing has a major shortcoming. When KBase detects that one or more subunits of a complex are present, it creates a \"full\" GPR by adding 'Unknown' genes for the other subunits. CobraPy currently lacks functions to remove the genes. As such, these model should not be used to perform any simulations which rely on GPRs.\n",
    "\n",
    "As output, the code returns processed SBML files in the `sbml/processed` folder. Also returns a summary of the model sizes, in the `data` folder.\n",
    "\n",
    "The first chunk of code identifies imports the Python packages necessary for this analysis."
   ]
  },
  {
   "cell_type": "code",
   "execution_count": null,
   "metadata": {
    "collapsed": false
   },
   "outputs": [],
   "source": [
    "# Import special features for iPython\n",
    "import sys\n",
    "sys.path.append('../Python')\n",
    "import matplotlib\n",
    "%matplotlib inline\n",
    "\n",
    "# Import Python modules \n",
    "# These custom-written modules should have been included with the package\n",
    "# distribution. \n",
    "import graphFunctions as gf\n",
    "import sbmlFunctions as sf\n",
    "import seedFunctions as ef\n",
    "import metadataFunctions as mf\n",
    "\n",
    "# Define local folder structure for data input and processing.\n",
    "externalDataDir = 'externalData'\n",
    "rawModelDir = 'sbml/raw'\n",
    "processedDataDir = 'sbml/processed'\n",
    "summaryStatsDir = 'data'"
   ]
  },
  {
   "cell_type": "markdown",
   "metadata": {},
   "source": [
    "Then we call a function which processes each SBML file and preps it for analysis."
   ]
  },
  {
   "cell_type": "code",
   "execution_count": null,
   "metadata": {
    "collapsed": false
   },
   "outputs": [],
   "source": [
    "sf.processSBMLforRE(rawModelDir, processedDataDir, summaryStatsDir)"
   ]
  },
  {
   "cell_type": "markdown",
   "metadata": {
    "collapsed": true
   },
   "source": [
    "## Converting SBMLs for Use with Reverse Ecology\n",
    "\n",
    "My reverse ecology pipeline operates on metabolic network recontructions which are represented as metabolic network graphs. This section converts the reconstruction from SBML format to graph format. Briefly, the network reconstruction is converted to a directed graph and extracts the largest connected component. This component is then subject to reverse ecology analysis."
   ]
  },
  {
   "cell_type": "code",
   "execution_count": null,
   "metadata": {
    "collapsed": false
   },
   "outputs": [],
   "source": [
    "# Import the list of models\n",
    "dirList = mf.getDirList('../'+processedDataDir)\n",
    "numSubDir = len(dirList)\n",
    "\n",
    "# Convert to a network graph\n",
    "modelStatArray = sf.dirListToAdjacencyList(dirList, processedDataDir, summaryStatsDir)\n",
    "\n",
    "# Reduce to the largest component\n",
    "graphStatArray, diGraphStatArray = gf.computeGraphStats(dirList, summaryStatsDir)\n",
    "reducedGraphStatArray = gf.reduceToLargeComponent(dirList, summaryStatsDir)"
   ]
  },
  {
   "cell_type": "markdown",
   "metadata": {},
   "source": [
    "## Computing Seed Sets\n",
    "\n",
    "This section computes the seed sets for each genome. Formally, the seed set of a network is the minimal subset of compounds (nodes) that cannot be synthesized from other compounds in the network, and whose presence in the environment permits the production of all other compounds in the network. In other words, the seed set of a network is a set of nodes from which all other nodes can be reached.\n",
    "\n",
    "Mathematically, seed sets are source components in the condensation of the original network graph. Seed compounds can also have weights associated with them. For a seed compound belonging to a source component of size n, its weight is 1/n. These compounds are metabolically \"equivalent,\" in that any one of them can be synthesized from any of the others.\n",
    "\n",
    "Thus, the seed set detection algorithm contains four steps.\n",
    "\n",
    "* Identify the SCCs of the (directed) network graph\n",
    "* Use the SCCs to derive the condensation of the original graph\n",
    "* Identify source components in the condensation\n",
    "* Expand each source component of the condensation into its original node\n",
    "\n",
    "The code below performs the four steps shown above for the metabolic network graph of each genome. The seed compounds for each graph are written to a file, with each line in the file containing a set of equivalent seed compounds."
   ]
  },
  {
   "cell_type": "code",
   "execution_count": null,
   "metadata": {
    "collapsed": false
   },
   "outputs": [],
   "source": [
    "seedSetList = gf.computeSeedSets(dirList, summaryStatsDir)"
   ]
  },
  {
   "cell_type": "markdown",
   "metadata": {},
   "source": [
    "## Reverse Ecology Metrics\n",
    "\n",
    "Reverse ecology theoreticians have developed a number of metrics which provide qualitative insights into the ecology of microorganisms. This section is concerned with computing two of those metrics, metabolic competition and metabolic complementarity.\n",
    "\n",
    "Metabolic competition represents the similarity in two organisms' nutritional profiles, and represents the potential for competition between the two organisms. For two organisms A and B, the metabolic competition index is calculated as the fraction of compounds in A's seed set that are also present in B's seed set. This index provides an upper bound for the amount of competition species A could encounter from species B.\n",
    "\n",
    "Metabolic complementarity represents the complementarity in two organisms’ nutritional profiles, and represents the potential for syntrophy between A and B. For two organisms A and B, the metabolic complementarity index is calculated as the fraction of compounds in A's seed set that are present in B's metabolic network, but are not a part of B's seed set (e.g, B's 'non-seed' compounds). This index provides an upper bound for the potential for syntrophic interactions between A and B.\n",
    "\n",
    "The functions below compute the competition and complementarity scores between all pairs of genomes and visualize the results as a heatmap."
   ]
  },
  {
   "cell_type": "code",
   "execution_count": null,
   "metadata": {
    "collapsed": false
   },
   "outputs": [],
   "source": [
    "# Competition\n",
    "genomeDir = 'data' # This function can operate on models of individual or merged genomes. Specify the proper input directory.\n",
    "\n",
    "metabCompeteDF = ef.computeMetabCompete(dirList, genomeDir, summaryStatsDir)\n",
    "ef.plotDataFrame(metabCompeteDF, dirList, summaryStatsDir, 'metabolicCompetition.png')"
   ]
  },
  {
   "cell_type": "code",
   "execution_count": null,
   "metadata": {
    "collapsed": true
   },
   "outputs": [],
   "source": [
    "# Complementarity\n",
    "genomeDir = 'data' # This function can operate on models of individual or merged genomes. Specify the proper input directory.\n",
    "\n",
    "metabComplementDF = ef.computeMetabComplement(dirList, genomeDir, summaryStatsDir)\n",
    "#ef.plotDataFrame(metabComplementDF, dirList, externalDataDir, summaryStatsDir, 'tribalColors.csv', 'metabolicComplementarity.png')"
   ]
  },
  {
   "cell_type": "markdown",
   "metadata": {},
   "source": []
  }
 ],
 "metadata": {
  "kernelspec": {
   "display_name": "Python 2",
   "language": "python",
   "name": "python2"
  },
  "language_info": {
   "codemirror_mode": {
    "name": "ipython",
    "version": 2
   },
   "file_extension": ".py",
   "mimetype": "text/x-python",
   "name": "python",
   "nbconvert_exporter": "python",
   "pygments_lexer": "ipython2",
   "version": "2.7.10"
  }
 },
 "nbformat": 4,
 "nbformat_minor": 0
}
