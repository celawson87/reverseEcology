{
 "cells": [
  {
   "cell_type": "markdown",
   "metadata": {},
   "source": [
    "# Auxotrophies and Interactomes in Mixed Culture of Freshwater Bacteria"
   ]
  },
  {
   "cell_type": "markdown",
   "metadata": {},
   "source": [
    "## Project Overview\n",
    "\n",
    "This notebook describes reverse ecological analysis of a mixed culture from Lake Grosse Fuchskuhle. For additional details, please see:\n",
    "\n",
    "Garcia, S. L., Buck, M., McMahon, K. D., Grossart, H.-P., Eiler, A., & Warnecke, F. (2015). Auxotrophy and intra-population complementary in the “interactome” of a cultivated freshwater model community. Molecular Ecology, 24(17), 4449–4459. http://doi.org/10.1111/mec.13319"
   ]
  },
  {
   "cell_type": "markdown",
   "metadata": {},
   "source": [
    "## Background and Theory\n",
    "\n",
    "For an overview of the theory underlying this pipeline, please the notebook `masterNotebook` in the `master` branch of this repo. In the interest of brevity, this notebook focuses on carrying out the workflow, not the theory."
   ]
  },
  {
   "cell_type": "markdown",
   "metadata": {},
   "source": [
    "## Obtaining and Processing Metabolic Network Reconstructions from KBase\n",
    "\n",
    "Reverse ecology analysis relies on metabolic network reconstructions for an organism of interest. KBase (http://kbase.us) is a powerful resource for obtaining genome-scale network reconstructions for microbial genomes. These reconstructions are distributed as SBML files, which must be processed prior to reverse ecology analysis. This section describes how to obtain reconstructions from KBase, and how to process them."
   ]
  },
  {
   "cell_type": "markdown",
   "metadata": {},
   "source": [
    "### Obtaining and Preparing SBML Files\n",
    "\n",
    "Genomes (as fasta files) for your organisms of interest can be pushed from your computer to KBase. Once there, a KBase Narrative (iPython notebook) can be used to build reconstructions for your genomes. \n",
    "\n",
    "The script `loadGenomes` pushes these genomes to the KBase narrative created for this project.\n",
    "* KBase Narrative: [Model Building for FNE-F8 Mixed Culture MAGs](https://narrative.kbase.us/narrative/ws.12305.obj.1)\n",
    "* Workspace Browser: [joshamilton:1452727482251](https://narrative.kbase.us/functional-site/#/ws/objects/joshamilton:1452995633835)\n",
    "\n",
    "I then ran the \"Annotate Contigs\" and \"Build Metabolic Model\" KBase apps for each genome. I downloaded the annotated genomes (Genbank format) and models (SBML and tsv formats). Files are stored in:\n",
    "* `refGenomes` - genomes and annotations in a variety for formats\n",
    "* `sbml` - metabolic models in SBML and 'tsv' formats. Pre- and post-processed versions (see below).\n",
    "\n",
    "Once the genomes were downloaded, I further converted the Genbank-formatted genomes to fasta nucleotide (ffn), fasta amino acid (ffa), and gff format. Using the following scripts:\n",
    "* `concatGbk.sh` - concatenate gbk files for each contig into a single file for each genome\n",
    "* `kBaseGenbankToFasta.py` - convert gbk to ffn and ffa format\n",
    "* `kBaseGenbankToGff.py` - convert gbk to gff format\n",
    "* `cleanUpGFF.pl` - remove extra comments from gff files"
   ]
  },
  {
   "cell_type": "markdown",
   "metadata": {},
   "source": [
    "## Processing SBML Files\n",
    "\n",
    "Reconstructions from KBase require further processing before they are suitable for use in reverse ecology. The function below does a number of things:\n",
    "\n",
    "1. Reformat gene locus tags\n",
    "2. Remove biomass, exchange, spontaneous, DNA/RNA biosynthesis reactions and their corresponding genes\n",
    "3. Import metabolite formulas\n",
    "4. Check mass- and charge-balancing of reactions in the reconstruction\n",
    "5. Remove trailing 0s from reaction and metabolite names\n",
    "\n",
    "The post-processing has a major shortcoming. When KBase detects that one or more subunits of a complex are present, it creates a \"full\" GPR by adding 'Unknown' genes for the other subunits. CobraPy currently lacks functions to remove the genes. As such, these model should not be used to perform any simulations which rely on GPRs.\n",
    "\n",
    "As output, the code returns processed SBML files in the `sbml/processed` folder. Also returns a summary of the model sizes, in the `data` folder.\n",
    "\n",
    "The first chunk of code identifies imports the Python packages necessary for this analysis."
   ]
  },
  {
   "cell_type": "code",
   "execution_count": 1,
   "metadata": {
    "collapsed": false
   },
   "outputs": [],
   "source": [
    "# Import special features for iPython\n",
    "import sys\n",
    "sys.path.append('../Python')\n",
    "import matplotlib\n",
    "\n",
    "# Import Python modules \n",
    "# These custom-written modules should have been included with the package\n",
    "# distribution. \n",
    "import sbmlFunctions as sf\n",
    "import metadataFunctions as mf\n",
    "\n",
    "# Define local folder structure for data input and processing.\n",
    "rawModelDir = 'sbml/raw'\n",
    "processedDataDir = 'sbml/processed'\n",
    "summaryStatsDir = 'data'"
   ]
  },
  {
   "cell_type": "markdown",
   "metadata": {},
   "source": [
    "Then we call a function which processes each SBML file and preps it for analysis."
   ]
  },
  {
   "cell_type": "code",
   "execution_count": 2,
   "metadata": {
    "collapsed": false
   },
   "outputs": [
    {
     "name": "stdout",
     "output_type": "stream",
     "text": [
      "Processing model acIB2-FNE-F8, 1 of 4\n",
      "Re-balancing on the basis of protons\n",
      "Re-balancing on the basis of protons\n",
      "Re-balancing on the basis of protons\n",
      "Re-balancing on the basis of protons\n",
      "All reactions are balanced\n",
      "Processing model acIII-FNE-F8, 2 of 4\n",
      "Manually correcting an imbalance\n",
      "Re-balancing on the basis of protons\n",
      "Re-balancing on the basis of protons\n",
      "Re-balancing on the basis of protons\n",
      "Re-balancing on the basis of protons\n",
      "All reactions are balanced\n",
      "Processing model bacIII-FNE-F8, 3 of 4\n",
      "Manually correcting an imbalance\n",
      "Re-balancing on the basis of protons\n",
      "Re-balancing on the basis of protons\n",
      "Re-balancing on the basis of protons\n",
      "Re-balancing on the basis of protons\n",
      "Re-balancing on the basis of protons\n",
      "All reactions are balanced\n",
      "Processing model PnecC-FNE-F8, 4 of 4\n",
      "Manually correcting an imbalance\n",
      "Manually correcting an imbalance\n",
      "Re-balancing on the basis of protons\n",
      "All reactions are balanced\n"
     ]
    }
   ],
   "source": [
    "sf.processSBMLforRE(rawModelDir, processedDataDir, summaryStatsDir)"
   ]
  },
  {
   "cell_type": "code",
   "execution_count": null,
   "metadata": {
    "collapsed": true
   },
   "outputs": [],
   "source": []
  }
 ],
 "metadata": {
  "kernelspec": {
   "display_name": "Python 2",
   "language": "python",
   "name": "python2"
  },
  "language_info": {
   "codemirror_mode": {
    "name": "ipython",
    "version": 2
   },
   "file_extension": ".py",
   "mimetype": "text/x-python",
   "name": "python",
   "nbconvert_exporter": "python",
   "pygments_lexer": "ipython2",
   "version": "2.7.10"
  }
 },
 "nbformat": 4,
 "nbformat_minor": 0
}
