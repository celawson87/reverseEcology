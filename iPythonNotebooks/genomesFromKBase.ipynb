{
 "cells": [
  {
   "cell_type": "markdown",
   "metadata": {},
   "source": [
    "# Obtaining and Processing Network Reconstructions from KBase\n",
    "\n",
    "KBase (http://kbase.us) is a powerful resource for obtaining genome-scale network reconstructions for microbial genomes. These reconstructions are distributed as SBML files, which must be processed prior to reverse ecology analysis. This notebook describes how to obtain reconstructions from KBase, and how to process them.\n",
    "\n",
    "## Obtaining and Preparing SBML Files\n",
    "\n",
    "Briefly, genomes (as fasta files) for your organisms of interest can be pushed from your computer to KBase. Once there, a KBase Narrative (iPython notebook) can be used to build reconstructions for your genomes. To do so, follow the instructions in `Perl/README.md`.\n",
    "\n",
    "\n",
    "## Processing SBML Files\n",
    "\n",
    "Reconstructions from KBase require further processing before they are suitable for use in reverse ecology. The function below does a nunmber of things:\n",
    "1. Reformat gene locus tags\n",
    "2. Remove biomass, exchange, spontaneous, DNA/RNA biosynthesis reactions and their corresponding genes\n",
    "3. Import metabolite formulas\n",
    "4. Check mass- and charge-balancing of reactions in the reconstruction\n",
    "5. Remove trailing 0s from reaction and metabolite names\n",
    "\n",
    "The post-processing has a major shortcoming. When KBase detects that one or more subunits of a complex are present, it creates a \"full\" GPR by adding 'Unknown' genes for the other subunits. CobraPy currently lacks functions to remove the genes. As such, these model should not be used to perform any simulations which rely on GPRs.\n",
    "\n",
    "As output, the code returns processed SBML files in the 'processedDataDir' folder. Also returns a summary of the model sizes, in the 'summaryStatsDir' folder.\n",
    "\n",
    "The first chunk of code identifies imports the Python packages necessary for this analysis."
   ]
  },
  {
   "cell_type": "code",
   "execution_count": 1,
   "metadata": {
    "collapsed": false
   },
   "outputs": [],
   "source": [
    "# Import special features for iPython\n",
    "import sys\n",
    "sys.path.append('../Python')\n",
    "import matplotlib\n",
    "%matplotlib inline\n",
    "\n",
    "# Import Python modules \n",
    "# These custom-written modules should have been included with the package\n",
    "# distribution. \n",
    "import sbmlFunctions as sf\n",
    "import metadataFunctions as mf\n",
    "\n",
    "# Define local folder structure for data input and processing.\n",
    "processedDataDir = 'ProcessedModelFiles'\n",
    "rawModelDir = 'RawModelFiles'\n",
    "summaryStatsDir = 'DataSummaries'"
   ]
  },
  {
   "cell_type": "markdown",
   "metadata": {},
   "source": [
    "Then we call a function which processes each SBML file and preps it for analysis."
   ]
  },
  {
   "cell_type": "code",
   "execution_count": 2,
   "metadata": {
    "collapsed": false
   },
   "outputs": [
    {
     "name": "stdout",
     "output_type": "stream",
     "text": [
      "Processing model AAA027E14, 1 of 1\n",
      "All reactions are balanced\n"
     ]
    }
   ],
   "source": [
    "sf.processSBMLforRE(rawModelDir, processedDataDir, summaryStatsDir)"
   ]
  },
  {
   "cell_type": "code",
   "execution_count": null,
   "metadata": {
    "collapsed": true
   },
   "outputs": [],
   "source": []
  }
 ],
 "metadata": {
  "kernelspec": {
   "display_name": "Python 2",
   "language": "python",
   "name": "python2"
  },
  "language_info": {
   "codemirror_mode": {
    "name": "ipython",
    "version": 2
   },
   "file_extension": ".py",
   "mimetype": "text/x-python",
   "name": "python",
   "nbconvert_exporter": "python",
   "pygments_lexer": "ipython2",
   "version": "2.7.10"
  }
 },
 "nbformat": 4,
 "nbformat_minor": 0
}
