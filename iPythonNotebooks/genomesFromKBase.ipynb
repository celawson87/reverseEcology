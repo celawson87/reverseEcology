{
 "cells": [
  {
   "cell_type": "markdown",
   "metadata": {},
   "source": [
    "# Obtaining and Processing Network Reconstructions from KBase\n",
    "\n",
    "KBase (http://kbase.us) is a powerful resource for obtaining genome-scale network reconstructions for microbial genomes. These reconstructions are distributed as SBML files, which must be processed prior to reverse ecology analysis. This notebook describes how to obtain reconstructions from KBase, and how to process them."
   ]
  },
  {
   "cell_type": "markdown",
   "metadata": {},
   "source": [
    "## Obtaining and Preparing SBML Files\n",
    "\n",
    "Briefly, genomes (as fasta files) for your organisms of interest can be pushed from your computer to KBase. Once there, a KBase Narrative (iPython notebook) can be used to build reconstructions for your genomes. To do so, follow the instructions in `Perl/README.md`."
   ]
  },
  {
   "cell_type": "markdown",
   "metadata": {},
   "source": [
    "## Obtaining and Preparing SBML Files: Update January 2016\n",
    "\n",
    "To validate predictions made by this reverse ecology pipeline, I propose to map metatranscriptomic reads from OMD-TOIL to KBase-annotated genomes. Retrieving the genome annotations proved to be quite a pain!\n",
    "\n",
    "* The KBase Narrative mentioned above ([click here](https://narrative.kbase.us/narrative/ws.9599.obj.2)) no longer contains annotated versions of the genomes.\n",
    "\n",
    "* Furthermore, the code cells in that narrative generate errors during the annotation, model-building, and downloading steps.\n",
    "\n",
    "I have attempted to communicate with the KBase team to resolve some of these issues, but have received no response.\n",
    "\n",
    "Thus, I created new KBase Narratives for manual annotation, model-building, and downloading. For each notebook (linked below), I copied the genomes (contigs) from the [old narrative](https://narrative.kbase.us/narrative/ws.9599.obj.2) and manually ran the \"Annotate Contigs\" and \"Build Metabolic Model\" KBase apps. I then downloaded the annotated genomes (Genbank format) and models (SBML and tsv formats).\n",
    "\n",
    "* SAGs: [KBase Narrative](https://narrative.kbase.us/narrative/ws.12259.obj.1), workspace ID: joshamilton:1452727482251\n",
    "\n",
    "* Mendota MAGs: [KBase Narrative](https://narrative.kbase.us/narrative/ws.12268.obj.1), workspace ID: joshamilton:1452793144933\n",
    "\n",
    "* Trout Bog MAGs [KBase Narrative](https://narrative.kbase.us/narrative/ws.12270.obj.1), workspace ID: joshamilton:1452798604003\n",
    "\n",
    "* MAGs from other research groups [KBase Narrative](https://narrative.kbase.us/narrative/ws.12271.obj.1), workspace ID: joshamilton:1452801292037\n",
    "\n",
    "Once the genomes were downloaded, I further converted the Genbank-formatted genomes to fasta nucleotide (ffn), fasta amino acid (ffa), and gff format. The scripts to do so are in the refGenomes/scripts folder."
   ]
  },
  {
   "cell_type": "markdown",
   "metadata": {},
   "source": [
    "## Processing SBML Files\n",
    "\n",
    "Reconstructions from KBase require further processing before they are suitable for use in reverse ecology. The function below does a nunmber of things:\n",
    "1. Reformat gene locus tags\n",
    "2. Remove biomass, exchange, transport, spontaneous, DNA/RNA biosynthesis reactions and their corresponding genes\n",
    "3. Import metabolite formulas\n",
    "4. Check mass- and charge-balancing of reactions in the reconstruction\n",
    "5. Remove trailing 0s from reaction and metabolite names\n",
    "\n",
    "The post-processing has a major shortcoming. When KBase detects that one or more subunits of a complex are present, it creates a \"full\" GPR by adding 'Unknown' genes for the other subunits. CobraPy currently lacks functions to remove the genes. As such, these model should not be used to perform any simulations which rely on GPRs.\n",
    "\n",
    "As output, the code returns processed SBML files in the 'processedDataDir' folder. Also returns a summary of the model sizes, in the 'summaryStatsDir' folder.\n",
    "\n",
    "The first chunk of code identifies imports the Python packages necessary for this analysis."
   ]
  },
  {
   "cell_type": "code",
   "execution_count": 6,
   "metadata": {
    "collapsed": false
   },
   "outputs": [],
   "source": [
    "# Import special features for iPython\n",
    "import sys\n",
    "sys.path.append('../Python')\n",
    "import matplotlib\n",
    "\n",
    "# Import Python modules \n",
    "# These custom-written modules should have been included with the package\n",
    "# distribution. \n",
    "import sbmlFunctions as sf\n",
    "import metadataFunctions as mf\n",
    "\n",
    "# Define local folder structure for data input and processing.\n",
    "processedDataDir = 'ProcessedModelFiles'\n",
    "rawModelDir = 'RawModelFiles'\n",
    "summaryStatsDir = 'DataSummaries'"
   ]
  },
  {
   "cell_type": "markdown",
   "metadata": {},
   "source": [
    "Then we call a function which processes each SBML file and preps it for analysis."
   ]
  },
  {
   "cell_type": "code",
   "execution_count": 2,
   "metadata": {
    "collapsed": false
   },
   "outputs": [
    {
     "name": "stdout",
     "output_type": "stream",
     "text": [
      "Processing model BIN_10, 1 of 3\n",
      "The remaining extracellular metabolites are:\n",
      "cpd00067_e0\n",
      "All reactions are balanced\n",
      "Processing model MEint3864, 2 of 3\n",
      "The remaining extracellular metabolites are:\n",
      "cpd00067_e0\n",
      "All reactions are balanced\n",
      "Processing model MEint885, 3 of 3\n",
      "The remaining extracellular metabolites are:\n",
      "cpd00067_e0\n",
      "All reactions are balanced\n"
     ]
    }
   ],
   "source": [
    "sf.processSBMLforRE(rawModelDir, processedDataDir, summaryStatsDir)"
   ]
  },
  {
   "cell_type": "markdown",
   "metadata": {
    "collapsed": true
   },
   "source": [
    "## Pruning Currency Metabolites\n",
    "\n",
    "The next step is to prune currency metabolites from the metabolic network, in order for the network's directed graph to better reflect physiological metabolic transformations. We adopt an approach outlined by Ma et al, and later adopted by Borenstein et al in their \"reverse ecology\" paper.\n",
    "\n",
    "__Provide some illustrative examples of why this is necessary.__\n",
    "\n",
    "#### References\n",
    "1. Borenstein, E., Kupiec, M., Feldman, M. W., & Ruppin, E. (2008). Large-scale reconstruction and phylogenetic analysis of metabolic environments. Proceedings of the National Academy of Sciences, 105(38), 14482–14487. http://doi.org/10.1073/pnas.0806162105\n",
    "2. Ma, H., & Zeng, A. P. (2003). Reconstruction of metabolic networks from genome data and analysis of their global structure for various organisms. Bioinformatics, 19(2), 270–277. http://doi.org/10.1093/bioinformatics/19.2.270\n",
    "3. Ma, H. W., & Zeng, A.-P. (2003). The connectivity structure, giant strong component and centrality of metabolic networks. Bioinformatics, 19(11), 1423–1430. http://doi.org/10.1093/bioinformatics/btg177\n",
    "\n",
    "Reaction pruning relies on checking each reaction against a set of criteria, and updating the stoichiometry as appropriate. Some criteria can easily be automated, such as removal of the following currency metabolites:\n",
    "\n",
    "| Metabolite | KBase Compound ID | \n",
    "|---|---|\n",
    "| CO2 | cpd00011 |\n",
    "| H+ | cpd00067 |\n",
    "| H2 | cpd11640 |\n",
    "| H2CO3 | cpd00242 |\n",
    "| H2O | cpd00001 |\n",
    "| H2O2 | cpd00025 |\n",
    "| H2S | cpd00239 |\n",
    "| NH3 | cpd00013 |\n",
    "| Nitrate | cpd00209 |\n",
    "| Nitric oxide | cpd00418 |\n",
    "| Nitrite | cpd00075 |\n",
    "| O2 | cpd00007 |\n",
    "| Phosphate | cpd00009 |\n",
    "| Pyrophosphate | cpd00012 |\n",
    "| Sulfate | cpd00048 |\n",
    "| Sulfite | cpd00081 |\n",
    "\n",
    "The script below loops over the set of ProcessedModelFiles and removes these metabolites from their associated reactions."
   ]
  },
  {
   "cell_type": "code",
   "execution_count": 10,
   "metadata": {
    "collapsed": false
   },
   "outputs": [
    {
     "name": "stdout",
     "output_type": "stream",
     "text": [
      "Processing model 1 of 3\n",
      "Processing model 2 of 3\n",
      "Processing model 3 of 3\n"
     ]
    },
    {
     "name": "stderr",
     "output_type": "stream",
     "text": [
      "cobra/manipulation/delete.py:28 \u001b[1;31mUserWarning\u001b[0m: All metabolites used in at least 1 reaction\n",
      "cobra/manipulation/delete.py:52 \u001b[1;31mUserWarning\u001b[0m: All reactions have at least 1 metabolite\n"
     ]
    }
   ],
   "source": [
    "reload(sf)\n",
    "# Define local folder structure for data input and processing.\n",
    "modelDir = 'ProcessedModelFiles'\n",
    "removeFile = '../externalData/currencyRemove.txt'\n",
    "\n",
    "sf.pruningPhaseOne(modelDir, removeFile)"
   ]
  },
  {
   "cell_type": "markdown",
   "metadata": {},
   "source": [
    "Other pruning steps cannot be done programatically. Consider the criteria below:\n",
    "\n",
    "| Metabolite | Criteria | KBase Compound ID | \n",
    "|---|---|---|\n",
    "| CoA | Except reactions in CoA synthesis pathway |\n",
    "| NTP/NDP | As carrier for phosphate group transfer |\n",
    "| NTP/NMP | As carrier for phosphate group transfer |\n",
    "| NAD(P)/NAD(P)H | As carrier for hydrogen transfer |\n",
    "| FAD/FADH | As carrier for hydrogen transfer |\n",
    "| Ferrocytochrome/Ferricytochrome | As carrier for hydrogen transfer |\n",
    "| Reduced ferredoxin/Oxidized ferredoxin | As carrier for hydrogen transfer |\n",
    "| Glutathione/Oxidized glutathione | As carrier for hydrogen transfer |\n",
    "| Dihydrobiopterin/Tetrahydrobiopterin | As carrier for hydrogen transfer |\n",
    "| Glutamate/Oxoglutarate | As carrier for amino group transfer |\n",
    "| Glutamine/Glutamate | As carrier for amino group transfer |\n",
    "| Pyruvate/Alanine | As carrier for amino group transfer |\n",
    "| 5,10-Methenyl-THF, 5,10-Methylene-THF, THF | As carrier for one carbon unit transfer |\n",
    "| 10-Formyl-THF, 5-Formyl-THF, THF | As carrier for one carbon unit transfer |\n",
    "| 5-Formimino-THF, 5-Methyl-THF, THF | As carrier for one carbon unit transfer |\n",
    "| S-Adenosyl-L-methionine, S-Adenosyl-L-homocysteine | As carrier for one carbon unit transfer |\n",
    "| Adenosine 3',5'-bisphosphate/3'-Phosphoadenylyl sulfate | As carrier for sulfate group transfer |\n",
    "__Note__: This list may not be exhaustive, as the KBase reaction database may contain other cofactors and carriers not identifed by Ma et al in the KEGG database.\n",
    "\n",
    "Here, each reaction must be individually inspected to see if it meets the criteria. The script below identifies reactions containing the currency metabolites above, allowing the user to assess each reaction."
   ]
  },
  {
   "cell_type": "code",
   "execution_count": null,
   "metadata": {
    "collapsed": true
   },
   "outputs": [],
   "source": []
  }
 ],
 "metadata": {
  "kernelspec": {
   "display_name": "Python 2",
   "language": "python",
   "name": "python2"
  },
  "language_info": {
   "codemirror_mode": {
    "name": "ipython",
    "version": 2
   },
   "file_extension": ".py",
   "mimetype": "text/x-python",
   "name": "python",
   "nbconvert_exporter": "python",
   "pygments_lexer": "ipython2",
   "version": "2.7.10"
  }
 },
 "nbformat": 4,
 "nbformat_minor": 0
}
