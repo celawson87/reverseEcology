{
 "cells": [
  {
   "cell_type": "markdown",
   "metadata": {},
   "source": [
    "# 'To Do' List"
   ]
  },
  {
   "cell_type": "markdown",
   "metadata": {},
   "source": [
    "## Reverse Ecology Analysis"
   ]
  },
  {
   "cell_type": "markdown",
   "metadata": {},
   "source": [
    "### Immediate\n",
    "\n",
    "1. Remove genomes from the analysis. We have small numbers of genomes from a handful of tribes/clades. These should be removed.\n",
    "2. The tables on my GRC poster were made by hand. I want to write Python code to generate these tables to avoid the need for manual analysis.\n",
    "  1. Write Python code to identify compounds which are consistently or differentially utilized within a taxonomic level. The output should be similar to the heatmaps from 'Resource Utilization' from my GRC poster.\n",
    "  2. Write Python code to identify unique seed compounds for each tribe. The output should be similar to the table from 'Metabolic Competition' from my GRC poster.\n",
    "  3. For 3 and 4 above, it would be useful to have a mapping of compounds to compound classes."
   ]
  },
  {
   "cell_type": "markdown",
   "metadata": {},
   "source": [
    "### Analysis Using Reverse Ecology\n",
    "I would like to perform the following analyses using the above metrics:\n",
    "1. Expand the 'genomeMerging' notebook to allow analysis at different levels of taxonomic resolution. \n",
    "2. More systematically evaluate seed sets at different taxonomic resolutions (genome, tribe, etc). This will give a picture of niche differentiation at different taxnomic levels.\n",
    "3. Identification of differences between seed sets for genomes within the same tribe (or tribes between the same clade, etc) could idenitfy exchanged metabolites."
   ]
  },
  {
   "cell_type": "markdown",
   "metadata": {},
   "source": [
    "### Validating Reverse Ecology\n",
    "After discussing with the lab, I propose the following to validate the reverse ecology predictions:\n",
    "\n",
    "  1. Pair w/ Sarahi: run genomes from her enrichment culture (Garcia et al Mol Ecol 2015) through my pipeline. Does reverse ecology predict the presence of the cooperative interactions proposed by Sarahi?\n",
    "  2. Map metratranscriptome reads from OMD-TOIL and/or Mary Ann Moran to our genomes to confirm substrate utilization predictions.\n",
    "  3. Develop correlation networks from the 16S tag data collected concurrently with our metagenomic samples. Positive and negative correlations should co-occur w/ cooperative and competitive interactions."
   ]
  },
  {
   "cell_type": "markdown",
   "metadata": {},
   "source": [
    "## Reproducible Research\n",
    "\n",
    "As part of my committment to reproducible research, I am interested in automating the following tasks:\n",
    "\n",
    "1. Building phylogenetic tree\n",
    "  1. Convert Perl scripts to Python\n",
    "  2. Scripts to extract marker genes, run RaXML\n",
    "  3. Write Python master function to carry out all of the above\n",
    "  4. Integrate into iPython notebook\n",
    "\n",
    "2. Computing genome statistics\n",
    "  1. Python scripts to extract genome statistics from IMG metadata file\n",
    "  2. Scripts to compute completeness, since this isn’t in the metadata\n",
    "  3. Write Python master function to carry out all of the above\n",
    "  4. Integrate into iPython notebook"
   ]
  },
  {
   "cell_type": "markdown",
   "metadata": {},
   "source": [
    "## Optional Analyses\n",
    "\n",
    "Should time permit, I would like to further delve into the following issues:\n",
    "\n",
    "1. Clustering and visualization.\n",
    "    1. Predictive metabolites. The dendrograms aren't the best method of visualization. Instead, construct NMDS plots to see if genomes separate by tribe, clade, or lineage.\n",
    "    2. Dimension reduction techniques aren't working very well, probably because the number of dimensions (metabolites) is too high.\n",
    "    3. Consider a machine learning approach to develop a classifier to predict lineage. Selected features would be indicative metabolites. This is probably not a priority.\n",
    "    4. Come up with a reduction scheme to reduce the number of metabolites in the feature vector.\n",
    "    \n",
    "1. Genome phylogenetics\n",
    "  1. Expand the phylogenetic tree w/ reference genomes from \"non-FW” and “marine\" lineages\n",
    "  2. For SAGs, compare the phylogeny of 16S vs. marker genes\n",
    "\n",
    "3. Reverse Ecology\n",
    "  1. More robust pan-genome comparison using KBase orthologs\n",
    "  2. Implement a routine to perform incompleteness simulations and evaluate robustness of results"
   ]
  }
 ],
 "metadata": {
  "kernelspec": {
   "display_name": "Python 2",
   "language": "python",
   "name": "python2"
  },
  "language_info": {
   "codemirror_mode": {
    "name": "ipython",
    "version": 2
   },
   "file_extension": ".py",
   "mimetype": "text/x-python",
   "name": "python",
   "nbconvert_exporter": "python",
   "pygments_lexer": "ipython2",
   "version": "2.7.10"
  }
 },
 "nbformat": 4,
 "nbformat_minor": 0
}
