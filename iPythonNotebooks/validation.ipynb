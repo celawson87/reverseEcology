{
 "cells": [
  {
   "cell_type": "markdown",
   "metadata": {},
   "source": [
    "# Gene Expression Among acI Clades: Mapping Metatranscriptomes to Composite Genomes"
   ]
  },
  {
   "cell_type": "markdown",
   "metadata": {},
   "source": [
    "## Overview\n",
    "\n",
    "We believe that reverse ecology metrics are sensitive to genome completeness. We also observed that--for a single tribe--at least four SAGs or MAGs were required before the pan-genome was \"complete\", based on single-copy marker genes. Because we only have four genomes for two tribes, we cannot confidently perform reverse ecology analysis at the tribe-level. At the clade level, we have 12 genomes from clade acI-A, 21 from clade acI-B, and 3 from acI-C. This should allow us to make confident predictions about the differences between the acI-A and acI-B clades.\n",
    "\n",
    "We decided to map metatranscriptome samples to the \"pan-genome\" of each clade. To construct the pan-genome, we used our reference genome collection to define actinobacterial COGs (clusters of orthologous groups), and defined the pan-genome of a clade as the union of all COGs present in at least one genome. To obtain the pan-genome sequence, we aligned all sequences belonging to each COG and obtained a consensus sequence for each COG. We then mapped a number of metatranscriptomes to each consensus genome and looked for differentially expressed genes."
   ]
  },
  {
   "cell_type": "markdown",
   "metadata": {},
   "source": [
    "## Creation of Composite Genomes\n",
    "\n",
    "For computational details, please see my [OrthoMCL repo](https://github.com/joshamilton/OrthoMCL), which will be merged into this one at a later date.\n",
    "\n",
    "### Identification of Actinobacterial COGs\n",
    "We used OrthoMCL to identify clusters of orthologous genes (COGs) in a set of 72 freshwater Actinobacterial genomes. OrthoMCL is an algorithm for grouping proteins into orthologous gene families based on sequence similarity. OrthoMCL takes as input a set of protein sequences and returns a list of COGs and the proteins which belong to each COG. The OrthoMCL pipeline consists of the following steps:\n",
    "\n",
    "1. Convert KBase-annotated genomes (in `Genbank` format) to fasta amino acid (`faa`) format.\n",
    "2. Format `faa` files to be compatible with OrthoMCL (script `01faaParser.py`).\n",
    "3. Run all-vs-all BLAST on the concatenated set of protein sequences  (script `02parallelBlast`).\n",
    "4. Initialize the MySQL server to store OrthoMCL output and run OrthoMCL (scripts `setupMySql.sh` and `runOrthoMCL.sh`).\n",
    "5. Rearrange the OrthoMCL output into a user-friendly format (script `05parseCOGs`). The output of this script is described below.\n",
    "\n",
    "#### cogTable.csv\n",
    "A table listing the locus tags associated with each (genome, COG) pair.\n",
    "\n",
    "|   | AAA023D18 | AAA023J06 | AAA024D14 |\n",
    "|---|---|---|---|---|\n",
    "| group00000 | AAA023D18.genome.CDS.1002; AAA023D18.genome.CDS.925; AAA023D18.genome.CDS.939 | AAA023J06.genome.CDS.1227; AAA023J06.genome.CDS.862\t |  |\n",
    "| group00001 | AAA023D18.genome.CDS.800 | AAA023J06.genome.CDS.798 | AAA024D14.genome.CDS.945; AAA024D14.genome.CDS.1601 |\n",
    "\n",
    "For example, in genome AAA023D18, the following genes belong to cog00000: AAA023D18.genome.CDS.1002, AAA023D18.genome.CDS.925, and AAA023D18.genome.CDS.939.\n",
    "\n",
    "#### annotTable.csv\n",
    "A table listing the annotations associated with each (genome, COG) pair.\n",
    "\n",
    "|   | AAA023D18 | AAA023J06 | AAA024D14 |\n",
    "|---|---|---|---|---|\n",
    "| group00000 | Short-chain dehydrogenase/reductase in hypothetical Actinobacterial gene cluster; hypothetical protein; 3-oxoacyl-[acyl-carrier protein] reductase (EC 1.1.1.100) | 3-oxoacyl-[acyl-carrier protein] reductase (EC 1.1.1.100); 3-oxoacyl-[acyl-carrier protein] reductase (EC 1.1.1.100)\t|  |\n",
    "| group00001 | DNA gyrase subunit A (EC 5.99.1.3) | DNA gyrase subunit A (EC 5.99.1.3) | DNA gyrase subunit A (EC 5.99.1.3); Topoisomerase IV subunit A (EC 5.99.1.-) |\n",
    "\n",
    "#### annotSummary.csv\n",
    "This table provides a list of all annotations associated with the genes in a COG. It can be further manually parsed to reveal the distribution of annotations associated with a COG. For example, COG00000 contains 94 genes across 72 genomes, as follows:\n",
    "\n",
    "| Annotation | Counts |\n",
    "|------------|--------|\n",
    "| 3-oxoacyl-[acyl-carrier protein] reductase (EC 1.1.1.100)\t| 63 |\n",
    "| Short-chain dehydrogenase/reductase in hypothetical Actinobacterial gene cluster | 11 |\n",
    "| None Provided\t| 9 |\n",
    "| hypothetical protein | 3 |\n",
    "| COG1028: Dehydrogenases with different specificities (related to short-chain alcohol dehydrogenases) | 2 |\n",
    "| 2,3-butanediol dehydrogenase, S-alcohol forming, (S)-acetoin-specific (EC 1.1.1.76) | 1 |\n",
    "| D-beta-hydroxybutyrate dehydrogenase (EC 1.1.1.30) | 1 |\n",
    "| Oxidoreductase, short chain dehydrogenase/reductase family | 1 |\n",
    "| Short-chain dehydrogenase/reductase SDR | 1 |\n",
    "| Acetoacetyl-CoA reductase (EC 1.1.1.36) | 1 |\n",
    "| short chain dehydrogenase | 1 |\n",
    "\n",
    "This COG appears to be a 3-oxoacyl-[acyl-carrier protein] reductase.\n",
    "\n",
    "#### genomeCOGs.csv\n",
    "This file contains a list of (gene, COG) pairs, giving the COG associated with each gene in the genome. One such file is created per genome. For example,\n",
    "\n",
    "    AAA023D18.genome.CDS.834,group01620\n",
    "    AAA023D18.genome.CDS.1427,group00803\n",
    "\n",
    "\n",
    "### Sequence Clustering and Generation of Composite Genome\n",
    "\n",
    "Once protein sequences were assigned to COGs, we developed composite genomes for each lineage, clade, and tribe represented by one or more reference genomes. Briefly, the process works as follows:\n",
    "\n",
    "1. For each tribe (clade, lineage), look up the genomes associated with that tribe. For example, the tribe acI-A1 has two genomes, `AAA027M14` and `AAA278O22`.\n",
    "\n",
    "2. For each COG, retrieve the coding sequences from the appropriate genomes. For example, COG00000 contains two sequences from tribe acI-A1:\n",
    "\n",
    "        >AAA027M14.genome.CDS.1561\n",
    "        ATGAAAGATAACTCGAATAAAGGCATTCTCATCTTCGGAGGAGCACGTGGTATCGGAGGC...\n",
    "\n",
    "        >AAA278O22.genome.CDS.1772\n",
    "        ATGAGTAAGCGTTTAGAGGGAAGAGTCGCAGTAATTACCGGTGCAGGTAGTGGAATCGGT...\n",
    "\n",
    "3. Align the sequences using MUSCLE. This step is skipped in the event a COG contains only a single sequence across a tribe. For the above two sequences, the alignment begins:\n",
    "\n",
    "        >AAA027M14.genome.CDS.1561\n",
    "        ATGAAAGATAACTC---GAATAAAGGCATTCTCATCTTCGGAGGAGCACGTGGTATCGGA...\n",
    "\n",
    "        >AAA278O22.genome.CDS.1772\n",
    "        ATGAGTAAGCGTTTAGAGGGAAGAGTCGCAGTAATTACCGGTGCAGGTAGTGGAATCGGT...\n",
    "\n",
    "4. Obtain the consensus sequence for the cluster obtained in Step 3 using EMBOSS Toolkit. For each position in the alignment, the `cons` function selects the most common nucleotide, or indicates an ambiguous nucleotide if no nucleotide has a majority. In the example above, the consensus sequence begins:\n",
    "\n",
    "         >group00000\n",
    "         ATGAAAGATAACTCAGAGAATAAAGGCATTCTCATCTTCGGAGGAGCACGTGGTATCGGA...\n",
    "         \n",
    "    In the same genome, the consensus sequence for COG00001 has ambiguities:\n",
    "    \n",
    "        >group00001\n",
    "        NNNNNTNNANATAANAACGNACCNGAAGANNNNNNNNNNNNNNNNNNNNNNNTNGCANNG...\n",
    "\n",
    "The above steps are all documented in the script `06getConsensusSequence.py`, the output of which is a set of `tribe-group.cons` files, giving the consensus sequence for each (tribe, COG) pairing. In the event a COG contains only a single sequence across a tribe, the `tribe-group.cons` file contains that sequence.\n",
    "\n",
    "Additional processing steps create fasta nucleotide files (`ffn`) and `gff` files for each composite genome (e.g., `acI-A.ffn` and `acI-A1.gff`). The former are used as reference genomes for metatranscriptome mapping, while the latter are used by `HTSeq-count` to count the reads which map to each gene.\n",
    "\n",
    "__Note__: These genomes contain protein-encoding sequences only.\n",
    "\n",
    "### References\n",
    "1. Li, L., Stoeckert, C. J., & Roos, D. S. (2003). OrthoMCL: identification of ortholog groups for eukaryotic genomes. Genome Research, 13(9), 2178–89. http://doi.org/10.1101/gr.1224503\n",
    "3. Edgar, R. C. (2004). MUSCLE: multiple sequence alignment with high accuracy and high throughput. Nucleic Acids Research, 32(5), 1792–1797. http://doi.org/10.1093/nar/gkh340\n",
    "3. Edgar, R. C. (2004). MUSCLE: a multiple sequence alignment method with reduced time and space complexity. BMC Bioinformatics, 5, 113. http://doi.org/10.1186/1471-2105-5-113\n",
    "4. Rice, P., Longden, I., & Bleasby, A. (2000). EMBOSS: The European Molecular Biology Open Software Suite. Trends in Genetics, 16(1), 276–277. http://doi.org/10.1016/j.cocis.2008.07.002"
   ]
  },
  {
   "cell_type": "markdown",
   "metadata": {},
   "source": [
    "## Mapping to Composite Genomes\n",
    "\n",
    "For computational details, please see the `actinoRE` branch of the [OMD-TOIL repo](https://github.com/joshamilton/OMD-TOILv2/tree/actinoRE), which will be merged into this one at a later date. Please note that the documention of the repo is hopelessly out-of-date.\n",
    "\n",
    "### Competitive Mapping of Reads\n",
    "\n",
    "I chose to perform a competitive mapping of metatranscriptome reads using BBMap. In competitive mapping, reads are allowed to map to only a single genome, as shown in the figure below. Note the contrast to uncompetitive mapping.\n",
    "\n",
    "![Competitive vs. uncompetitive mapping](files/imageFiles/Comp_vs_Uncomp.png)\n",
    "\n",
    "The competitive mapping process using BBMap operates in two steps. First, BBSplit is used to identify reads which map best to each genome:\n",
    "\n",
    "![BBSplit assigns reads to genomes.](files/imageFiles/BBSplit.png)\n",
    "\n",
    "BBMap then maps only those reads identified by BBSplit.\n",
    "\n",
    "![BBMap maps reads identified by BBSplit.](files/imageFiles/BBMap.png)\n",
    "\n",
    "Why can't this be done in one step? Because BBSplit only outputs mapped reads, it does not output alignment information. Alignment information is required to determine gene expression.\n",
    "\n",
    "The output of this workflow is a `SAM` file for each genome indicating the start and stop position of each of the mapped reads. The workflow is documented in script `01compReadMapping.pl`.\n",
    "\n",
    "### Read Counting and Normalization\n",
    "\n",
    "Once reads have been mapped, I use HTSeq-count to count the number of reads which map to each gene of the consensus genome. For purposes of counting, a read is counted if it clearly and un-ambiguously maps to a single gene, as shown in the figure below.\n",
    "\n",
    "![Illustration of htseq-count](files/imageFiles/htseq-count.png)\n",
    "\n",
    "The output is a set of `metatranscriptome-genome.CDS.out` files, showing the number of reads which map to each gene:\n",
    "\n",
    "| COG | counts |\n",
    "|--|--|\n",
    "| group00000 | 0 |\n",
    "| group00001 | 4 |\n",
    "| group00002 | 0 |\n",
    "| group00003 | 13 |\n",
    "\n",
    "The workflow is documented in script `03compReadCountsCDS.pl`.\n",
    "\n",
    "Once the reads have been counted, they need to be normalized in a way that allows for comparison of expression levels within and across genomes. The most common normalization is __RPKM__, which stands for 'Reads per Kilobase of Transcript per Million Mapped Reads'. This normalization accounts for differences in:\n",
    "\n",
    "* read length within a genome (kilobase of transcript). For two equally-expressed genes of different length, the longer gene will map more reads.\n",
    "\n",
    "* differences in sequencing depth (million mapped reads). If two equal-size genomes were sequenced to different depth, the genome with deeper sequencing will map more reads. Sequencing depth is approximated by the number of reads which map to the genome (million mapped reads). This value is computed by script `02countReads.py`.\n",
    "\n",
    "__Note__: I would like to do a thought experiment to consider the effect of relative abundance, and brainstorm to account for this.\n",
    "\n",
    "The script `04computeNormalizations.py` computes normalized expression values for all (metatranscriptome-genome) pairs. The output is a set of `genome.rpkm.out` files which give expression values across a set of metranscriptomes:\n",
    "\n",
    "| Group | ME120263 | ME150266 | ME150283 | ME150290|\n",
    "|--|--|--|--|\n",
    "| group01188 | 591.5055743 | 432.2594437 | 347.0189683 | 390.1373283 |\n",
    "| group01195 | 0 | 0 | 0 | 0 |\n",
    "| group01205 | 84.50079634 | 117.8889392 | 148.722415 | 39.01373283 |\n",
    "| group01207 | 78.37755022 | 18.22437707 | 0 | 0 |\n",
    "\n",
    "### References\n",
    "1. BBSplit on SeqAnswers.com: [http://seqanswers.com/forums/showthread.php?t=41288](http://seqanswers.com/forums/showthread.php?t=41288)\n",
    "2. BBMap on SeqAnswers.com: [http://seqanswers.com/forums/showthread.php?t=41057](http://seqanswers.com/forums/showthread.php?t=41057)\n",
    "3. Anders, S., Pyl, P. T., & Huber, W. (2014). HTSeq A Python framework to work with high-throughput sequencing data. Bioinformatics, 31(2), 166–169. http://doi.org/10.1101/002824\n",
    "4. Mortazavi, A., Williams, B. A., McCue, K., Schaeffer, L., & Wold, B. (2008). Mapping and quantifying mammalian transcriptomes by RNA-Seq. Nature Methods, 5(7), 621–628. http://doi.org/10.1038/nmeth.1226\n"
   ]
  },
  {
   "cell_type": "markdown",
   "metadata": {},
   "source": [
    "## Differential Expression Analysis\n",
    "\n",
    "Finally, I plan to use edgeR or DESeq to identify COGs which show differential expression across the acI clades. I hypothesize that such genes will be associated with metabolic machinery (such as transporters) required to uptake and metabolize seed compounds unique to individual clades. DESeq and edgeR rely on biological replicates to test for statistically significant differences in expression. In this study, we used three sets of \"replicates\", as follows:\n",
    "\n",
    "* Lake Mendota - Three samples collected during OMD-TOIL. These are not true biological replicates as they were collected at different time points, but we are treating them as such. Additional documentation can be found in the [OMD-TOIL Github repo] (https://github.com/McMahonLab/OMD-TOILv2).\n",
    "\n",
    "* Amazon River - Twelve samples taken from six stations along the Amazon River (two biological replicates each station). For ease of analysis, I am currently analyzing these as twelve biological replicates.\n",
    "\n",
    "* Lake Lanier - Four biological replicates.\n",
    "\n",
    "I am currently analyzing these data and have nothing to put here.\n",
    "\n",
    "### References\n",
    "1. Anders, S., & Huber, W. (2010). Differential expression analysis for sequence count data. Genome Biology, 11, R106. http://doi.org/10.1186/gb-2010-11-10-r106\n",
    "2. McCarthy, D. J., Chen, Y., & Smyth, G. K. (2012). Differential expression analysis of multifactor RNA-Seq experiments with respect to biological variation. Nucleic Acids Research, 40(10), 4288–4297. http://doi.org/10.1093/nar/gks042\n",
    "3. Satinsky, B. M., Fortunato, C. S., Doherty, M., Smith, C. B., Sharma, S., Ward, N. D., … Crump, B. C. (2015). Metagenomic and metatranscriptomic inventories of the lower Amazon River, May 2011. Microbiome, 3, 39. http://doi.org/10.1186/s40168-015-0099-0\n",
    "4. Tsementzi, D., Poretsky, R. S., Rodriguez-R, L. M., Luo, C., & Konstantinidis, K. T. (2014). Evaluation of metatranscriptomic protocols and application to the study of freshwater microbial communities. Environmental Microbiology Reports, 6(6), 640–655. http://doi.org/10.1111/1758-2229.12180"
   ]
  },
  {
   "cell_type": "markdown",
   "metadata": {},
   "source": [
    "## Network Visualization\n",
    "\n",
    "To generate some ideas for validating network predictions, I visualized the metabolic network of each clade. For simplicity, I plotted the condensation of the metabolic network graph. In the condensation, each node represents a single strongly connected component (SCC), a set of nodes such that every node is reachable from every other node.\n",
    "\n",
    "In the schematic below, each circle represents an SCC. Each acI clade shares a similar structure, with many seed compounds (blue) pointing to a single giant component (green). In turn, the giant component has many outward-directed arcs to compounds which are not further metabolized (orange).\n",
    "\n",
    "![Bowtie Network](files/imageFiles/bowtie.png)\n",
    "\n",
    "Given this structure, I propose to validate reverse ecology predictions as described below."
   ]
  },
  {
   "cell_type": "markdown",
   "metadata": {
    "collapsed": true
   },
   "source": [
    "## Validation\n",
    "\n",
    "### Seed Compounds and the Giant SCC\n",
    "A strongly connected component represents a set of metabolites which are \"mutually synthesizable.\" From any metabolite in the SCC, all others can be synthesized. The seed compounds can be thought of as starting points for this \"synthesis cascade,\" as they enable the cell to synthesize different compounds in the giant SCC. Thus, I propose to identify seed compounds which point to the giant SCC. If a clade has a unique such compound, I anticipate the genes to be expressed, as this compound represents a unique aspect of the clade's niche, and allows it to avoid competition. Likewise, if two clades share a compound, the two clades might compete for it. However, because all compounds which connect to the giant SCC are \"equivalent,\" I anticipate that different clades will prefer different compounds.\n",
    "\n",
    "\n",
    "### Complementary Metabolites\n",
    "Here, I plan to first focus on the orange compounds in the above figure. These compounds are good candidates for metabolic exchange, as the donor has no further biosynthetic use for them. I plan to look at the activity of genes responsible for synthesizing these compounds in the donor, and consuming them in the recipient. If both genes are expressed, these compounds are candidates for further screening.\n",
    "\n",
    "If no such metabolites arise, I propose to extend the analysis to all compounds which can be synthesized by the donor and consumed by the recipient."
   ]
  },
  {
   "cell_type": "markdown",
   "metadata": {},
   "source": [
    "### Splitting Compounds Into Groups\n",
    "\n",
    "To perform the above analysis, I split all the compounds in a metabolic network into five sets:\n",
    "* Seed compounds which point to the GCC\n",
    "* Seed compounds which DON'T point to the GCC\n",
    "* Sink compounds which are produced from the GCC\n",
    "* Sink compounds whcih are produced elsewhere\n",
    "* Remaining compounds\n",
    "\n",
    "I will begin my analysis with the first and third groups, as the second and fourth contain only a few metabolites each.\n",
    "\n",
    "The code below computes the above sets of compounds for each clade."
   ]
  },
  {
   "cell_type": "code",
   "execution_count": 5,
   "metadata": {
    "collapsed": false
   },
   "outputs": [],
   "source": [
    "# Import special features for iPython\n",
    "import sys\n",
    "sys.path.append('../Python')\n",
    "\n",
    "# Import Python modules \n",
    "# These custom-written modules should have been included with the package\n",
    "# distribution. \n",
    "import graphFunctions as gf\n",
    "import metadataFunctions as mf\n",
    "import mtFunctions as mt"
   ]
  },
  {
   "cell_type": "code",
   "execution_count": 5,
   "metadata": {
    "collapsed": true
   },
   "outputs": [],
   "source": [
    "# Define local folder structure for data input and processing.\n",
    "mergedModelDir = 'MergedData'\n",
    "taxonFile = '../ExternalData/taxonomy.csv'\n",
    "\n",
    "gf.defineMetabGroups(mergedModelDir, 'Lineage', taxonFile)\n",
    "gf.defineMetabGroups(mergedModelDir, 'Clade', taxonFile)\n",
    "gf.defineMetabGroups(mergedModelDir, 'Tribe', taxonFile)"
   ]
  },
  {
   "cell_type": "markdown",
   "metadata": {},
   "source": [
    "### Mapping Compounds to COGs\n",
    "\n",
    "The first step in this analysis maps compounds to COGs, based on the gene-to-reaction annotations in the metabolic networks of the individual genomes. The workflow for seed compounds is shown below, and a similar mapping occurs for sink compounds.\n",
    "\n",
    "![Mapping of SEEDs to COGs](files/imageFiles/SeedsToCogs.png)\n",
    "\n",
    "The Python code below performs this mapping.\n",
    "\n",
    "__Note__: Mapping of COGs to compounds which are neither seeds nor sinks is more complicated, because we want to identify only COGs of syntheit reactions."
   ]
  },
  {
   "cell_type": "code",
   "execution_count": 15,
   "metadata": {
    "collapsed": false
   },
   "outputs": [],
   "source": [
    "# Define local folder structure for data input and processing.\n",
    "genomeModelDir = 'ProcessedModelFiles'\n",
    "mergedModelDir = 'MergedData'\n",
    "taxonFile = '../ExternalData/taxonomy.csv'\n",
    "\n",
    "# Import the list of models\n",
    "modelList = mf.getDirList('../'+mergedModelDir)\n",
    "\n",
    "metabType = 'seedsToGCC'\n",
    "mt.compoundsToCOGs(modelList, genomeModelDir, mergedModelDir, taxonFile, metabType)\n",
    "\n",
    "metabType = 'sinkFromGCC'\n",
    "mt.compoundsToCOGs(modelList, genomeModelDir, mergedModelDir, taxonFile, metabType)"
   ]
  },
  {
   "cell_type": "markdown",
   "metadata": {},
   "source": [
    "### Mapping COGs to Expression Profiles\n",
    "\n",
    "The next step is to extract expression scores for each of these COGs in each genome, based on expression values computed as described above. The Python code below performs this mapping."
   ]
  },
  {
   "cell_type": "code",
   "execution_count": 17,
   "metadata": {
    "collapsed": true
   },
   "outputs": [],
   "source": [
    "# Define local folder structure for data input and processing.\n",
    "rpkmDir = 'ExternalData/rpkmCounts'\n",
    "mergedModelDir = 'MergedData'\n",
    "taxonFile = '../ExternalData/taxonomy.csv'\n",
    "\n",
    "# Import the list of models\n",
    "modelList = mf.getDirList('../'+mergedModelDir)\n",
    "\n",
    "metabType = 'seedsToGCC'\n",
    "mt.COGsToProfiles(modelList, mergedModelDir, rpkmDir, metabType)\n",
    "\n",
    "metabType = 'sinkFromGCC'\n",
    "mt.COGsToProfiles(modelList, mergedModelDir, rpkmDir, metabType)"
   ]
  },
  {
   "cell_type": "code",
   "execution_count": null,
   "metadata": {
    "collapsed": true
   },
   "outputs": [],
   "source": []
  }
 ],
 "metadata": {
  "kernelspec": {
   "display_name": "Python 2",
   "language": "python",
   "name": "python2"
  },
  "language_info": {
   "codemirror_mode": {
    "name": "ipython",
    "version": 2
   },
   "file_extension": ".py",
   "mimetype": "text/x-python",
   "name": "python",
   "nbconvert_exporter": "python",
   "pygments_lexer": "ipython2",
   "version": "2.7.10"
  }
 },
 "nbformat": 4,
 "nbformat_minor": 0
}
