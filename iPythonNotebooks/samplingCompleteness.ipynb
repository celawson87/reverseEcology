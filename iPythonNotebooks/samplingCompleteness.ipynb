{
 "cells": [
  {
   "cell_type": "markdown",
   "metadata": {},
   "source": [
    "# Issues Arising from Genome Incompleteness\n",
    "\n",
    "The purpose of this notebook is to explore issues arising from genome incompleteness. It will examine three major areas:\n",
    "1. ANI and coverage cutoffs.  \n",
    "    To be confident in our ANI and coverage cutoffs, we need to be confident we have enough samples such that acculumating more SAGs doesn't change the ANI cutoff.\n",
    "2. Core genome.  \n",
    "    My proposal to resolve incompleteness among individual genomes is to merge all metabolic network graphs belonging to genomes from the same tribe. I want to explore how estimated completeness (based on marker genes) increases as genomes are merged.\n",
    "3. Pan genome.\n",
    "    My proposal to resolve incompleteness among individual genomes is to merge all metabolic network graphs belonging to genomes from the same tribe. I want to explore how our estimation of the pan-genome for a tribe changes as more genomes get sampled.\n",
    "    \n",
    "The first chunk of code identifies imports the Python packages necessary for this analysis."
   ]
  },
  {
   "cell_type": "code",
   "execution_count": 1,
   "metadata": {
    "collapsed": false
   },
   "outputs": [],
   "source": [
    "# Import special features for iPython\n",
    "import sys\n",
    "sys.path.append('../Python')\n",
    "import matplotlib\n",
    "%matplotlib inline\n",
    "\n",
    "# Import Python modules \n",
    "# These custom-written modules should have been included with the package\n",
    "# distribution. \n",
    "import pairwiseANIFunctions as ANI\n",
    "\n",
    "# Define local folder structure for data input and processing.\n",
    "externalDataDir = 'ExternalData'"
   ]
  },
  {
   "cell_type": "markdown",
   "metadata": {},
   "source": [
    "##ANI and Coverage Cutoffs\n",
    "\n",
    "### ANI Cutoff\n",
    "\n",
    "In order to have a robust estimate of the ANI which defines a tribe (or clade, or lineage), we need to be confident we have enough samples (e.g., so that acculumating more SAGs doesn't change the ANI cutoff). Let's see how many samples we have from each tribe:"
   ]
  },
  {
   "cell_type": "code",
   "execution_count": 2,
   "metadata": {
    "collapsed": false
   },
   "outputs": [
    {
     "data": {
      "text/html": [
       "<div style=\"max-height:1000px;max-width:1500px;overflow:auto;\">\n",
       "<table border=\"1\" class=\"dataframe\">\n",
       "  <thead>\n",
       "    <tr style=\"text-align: right;\">\n",
       "      <th></th>\n",
       "      <th>Samples</th>\n",
       "      <th>Num Samples</th>\n",
       "      <th>Max</th>\n",
       "      <th>Min</th>\n",
       "    </tr>\n",
       "  </thead>\n",
       "  <tbody>\n",
       "    <tr>\n",
       "      <th>Iluma-A2</th>\n",
       "      <td>[AAA027E14]</td>\n",
       "      <td>1</td>\n",
       "      <td>99.97</td>\n",
       "      <td>99.97</td>\n",
       "    </tr>\n",
       "    <tr>\n",
       "      <th>Iluma-B1</th>\n",
       "      <td>[AAA027L17]</td>\n",
       "      <td>1</td>\n",
       "      <td>99.54</td>\n",
       "      <td>99.54</td>\n",
       "    </tr>\n",
       "    <tr>\n",
       "      <th>Iluma-B2</th>\n",
       "      <td>[AAA028K15]</td>\n",
       "      <td>1</td>\n",
       "      <td>99.53</td>\n",
       "      <td>99.53</td>\n",
       "    </tr>\n",
       "    <tr>\n",
       "      <th>Luna1-A2</th>\n",
       "      <td>[AAA028P02]</td>\n",
       "      <td>1</td>\n",
       "      <td>100</td>\n",
       "      <td>100</td>\n",
       "    </tr>\n",
       "    <tr>\n",
       "      <th>acI-A1</th>\n",
       "      <td>[AAA027M14, AAA278O22]</td>\n",
       "      <td>2</td>\n",
       "      <td>100</td>\n",
       "      <td>79.56</td>\n",
       "    </tr>\n",
       "    <tr>\n",
       "      <th>acI-A5</th>\n",
       "      <td>[AAA028G02, AAA044O16]</td>\n",
       "      <td>2</td>\n",
       "      <td>99.95</td>\n",
       "      <td>86.69</td>\n",
       "    </tr>\n",
       "    <tr>\n",
       "      <th>acI-A6</th>\n",
       "      <td>[AAA028E20, AAA028I14]</td>\n",
       "      <td>2</td>\n",
       "      <td>100</td>\n",
       "      <td>81.17</td>\n",
       "    </tr>\n",
       "    <tr>\n",
       "      <th>acI-A7</th>\n",
       "      <td>[AAA023J06, AAA024D14, AAA041L13, AAA044N04]</td>\n",
       "      <td>4</td>\n",
       "      <td>100</td>\n",
       "      <td>87.13</td>\n",
       "    </tr>\n",
       "    <tr>\n",
       "      <th>acI-B1</th>\n",
       "      <td>[AAA023D18, AAA027J17, AAA027L06, AAA028A23, A...</td>\n",
       "      <td>6</td>\n",
       "      <td>100</td>\n",
       "      <td>79.06</td>\n",
       "    </tr>\n",
       "    <tr>\n",
       "      <th>acI-B4</th>\n",
       "      <td>[AAA044D11]</td>\n",
       "      <td>1</td>\n",
       "      <td>100</td>\n",
       "      <td>100</td>\n",
       "    </tr>\n",
       "  </tbody>\n",
       "</table>\n",
       "</div>"
      ],
      "text/plain": [
       "                                                    Samples Num Samples  \\\n",
       "Iluma-A2                                        [AAA027E14]           1   \n",
       "Iluma-B1                                        [AAA027L17]           1   \n",
       "Iluma-B2                                        [AAA028K15]           1   \n",
       "Luna1-A2                                        [AAA028P02]           1   \n",
       "acI-A1                               [AAA027M14, AAA278O22]           2   \n",
       "acI-A5                               [AAA028G02, AAA044O16]           2   \n",
       "acI-A6                               [AAA028E20, AAA028I14]           2   \n",
       "acI-A7         [AAA023J06, AAA024D14, AAA041L13, AAA044N04]           4   \n",
       "acI-B1    [AAA023D18, AAA027J17, AAA027L06, AAA028A23, A...           6   \n",
       "acI-B4                                          [AAA044D11]           1   \n",
       "\n",
       "            Max    Min  \n",
       "Iluma-A2  99.97  99.97  \n",
       "Iluma-B1  99.54  99.54  \n",
       "Iluma-B2  99.53  99.53  \n",
       "Luna1-A2    100    100  \n",
       "acI-A1      100  79.56  \n",
       "acI-A5    99.95  86.69  \n",
       "acI-A6      100  81.17  \n",
       "acI-A7      100  87.13  \n",
       "acI-B1      100  79.06  \n",
       "acI-B4      100    100  "
      ]
     },
     "execution_count": 2,
     "metadata": {},
     "output_type": "execute_result"
    }
   ],
   "source": [
    "[pairwiseANI, taxonClass, tribes] = ANI.importANIandTaxonomy(externalDataDir, 'ANI_out', 'taxonomySAGs.csv')\n",
    "ANI.sameTribePairwiseANI(externalDataDir,pairwiseANI, taxonClass, tribes, 'ANI_out')"
   ]
  },
  {
   "cell_type": "markdown",
   "metadata": {},
   "source": [
    "These results indicate a cutoff of 79.06%, from the acI-B1 tribe. \n",
    "\n",
    "Let's suppose these six SAGs are representative of the entire acI-B1 sequence space. Suppose we only sequenced two SAGs. The function below will compute all possible pairs and their max and min ANI:"
   ]
  },
  {
   "cell_type": "code",
   "execution_count": 3,
   "metadata": {
    "collapsed": false
   },
   "outputs": [
    {
     "name": "stdout",
     "output_type": "stream",
     "text": [
      "                        Max    Min\n",
      "(AAA023D18, AAA027J17)  100  79.88\n",
      "(AAA023D18, AAA027L06)  100  80.01\n",
      "(AAA023D18, AAA028A23)  100  80.01\n",
      "(AAA023D18, AAA278I18)  100  80.94\n",
      "(AAA023D18, AB141P03)   100  79.45\n",
      "(AAA027J17, AAA027L06)  100  81.76\n",
      "(AAA027J17, AAA028A23)  100  81.74\n",
      "(AAA027J17, AAA278I18)  100   80.1\n",
      "(AAA027J17, AB141P03)   100  80.68\n",
      "(AAA027L06, AAA028A23)  100  99.08\n",
      "(AAA027L06, AAA278I18)  100  79.44\n",
      "(AAA027L06, AB141P03)   100  96.44\n",
      "(AAA028A23, AAA278I18)  100  79.32\n",
      "(AAA028A23, AB141P03)   100  96.36\n",
      "(AAA278I18, AB141P03)   100  79.06\n",
      "Sampling tribe acI-B1 with sample size 2.\n",
      "The worst-case minimum ANI is: 99.08\n"
     ]
    }
   ],
   "source": [
    "[pairwiseANI, taxonClass, tribes] = ANI.importANIandTaxonomy(externalDataDir, 'ANI_out', 'taxonomySAGs.csv')\n",
    "ANI.worstCaseANI(externalDataDir, pairwiseANI, taxonClass, tribes, 'ANI_out', 'acI-B1', 2)"
   ]
  },
  {
   "cell_type": "markdown",
   "metadata": {},
   "source": [
    "If we were especially unlucky, we would have sequenced SAGs L06 and A23, and we would have predicted a tribe-specific cutoff of 99.08 ANI. What if we instead sampled three SAGs:"
   ]
  },
  {
   "cell_type": "code",
   "execution_count": 4,
   "metadata": {
    "collapsed": false
   },
   "outputs": [
    {
     "name": "stdout",
     "output_type": "stream",
     "text": [
      "                                   Max    Min\n",
      "(AAA023D18, AAA027J17, AAA027L06)  100  79.88\n",
      "(AAA023D18, AAA027J17, AAA028A23)  100  79.88\n",
      "(AAA023D18, AAA027J17, AAA278I18)  100  79.88\n",
      "(AAA023D18, AAA027J17, AB141P03)   100  79.45\n",
      "(AAA023D18, AAA027L06, AAA028A23)  100  80.01\n",
      "(AAA023D18, AAA027L06, AAA278I18)  100  79.44\n",
      "(AAA023D18, AAA027L06, AB141P03)   100  79.45\n",
      "(AAA023D18, AAA028A23, AAA278I18)  100  79.32\n",
      "(AAA023D18, AAA028A23, AB141P03)   100  79.45\n",
      "(AAA023D18, AAA278I18, AB141P03)   100  79.06\n",
      "(AAA027J17, AAA027L06, AAA028A23)  100  81.74\n",
      "(AAA027J17, AAA027L06, AAA278I18)  100  79.44\n",
      "(AAA027J17, AAA027L06, AB141P03)   100  80.68\n",
      "(AAA027J17, AAA028A23, AAA278I18)  100  79.32\n",
      "(AAA027J17, AAA028A23, AB141P03)   100  80.68\n",
      "(AAA027J17, AAA278I18, AB141P03)   100  79.06\n",
      "(AAA027L06, AAA028A23, AAA278I18)  100  79.32\n",
      "(AAA027L06, AAA028A23, AB141P03)   100  96.36\n",
      "(AAA027L06, AAA278I18, AB141P03)   100  79.06\n",
      "(AAA028A23, AAA278I18, AB141P03)   100  79.06\n",
      "Sampling tribe acI-B1 with sample size 3.\n",
      "The worst-case minimum ANI is: 96.36\n"
     ]
    }
   ],
   "source": [
    "[pairwiseANI, taxonClass, tribes] = ANI.importANIandTaxonomy(externalDataDir,'ANI_out', 'taxonomySAGs.csv')\n",
    "ANI.worstCaseANI(externalDataDir,pairwiseANI, taxonClass, tribes, 'ANI_out', 'acI-B1', 3)"
   ]
  },
  {
   "cell_type": "markdown",
   "metadata": {},
   "source": [
    "If we were again unlucky, we would have sequenced SAGs L06, A23, and P03, and we would have predicted a tribe-specific cutoff of 96.36 ANI. Let's define a new function which repeats this calculation for all possible sample sizes (up to 6 for tribe acI-B1)."
   ]
  },
  {
   "cell_type": "code",
   "execution_count": 5,
   "metadata": {
    "collapsed": false
   },
   "outputs": [
    {
     "name": "stdout",
     "output_type": "stream",
     "text": [
      "Sampling tribe acI-B1 with sample size 2.\n",
      "The worst-case minimum is: 99.08\n",
      "Sampling tribe acI-B1 with sample size 3.\n",
      "The worst-case minimum is: 96.36\n",
      "Sampling tribe acI-B1 with sample size 4.\n",
      "The worst-case minimum is: 80.68\n",
      "Sampling tribe acI-B1 with sample size 5.\n",
      "The worst-case minimum is: 79.45\n",
      "Sampling tribe acI-B1 with sample size 6.\n",
      "The worst-case minimum is: 79.06\n"
     ]
    },
    {
     "data": {
      "image/png": "[encoded data removed]",
      "text/plain": [
       "<matplotlib.figure.Figure at 0x10892ba10>"
      ]
     },
     "metadata": {},
     "output_type": "display_data"
    }
   ],
   "source": [
    "[pairwiseANI, taxonClass, tribes] = ANI.importANIandTaxonomy(externalDataDir,'ANI_out', 'taxonomySAGs.csv')\n",
    "ANI.sameTribePairwiseANI(externalDataDir,pairwiseANI, taxonClass, tribes, 'ANI_out')\n",
    "ANI.allWorstCaseANI(externalDataDir, pairwiseANI, taxonClass, tribes, 'ANI_out', 'acI-B1')"
   ]
  },
  {
   "cell_type": "markdown",
   "metadata": {},
   "source": [
    "So these six samples appear to be enough."
   ]
  },
  {
   "cell_type": "markdown",
   "metadata": {},
   "source": [
    "### Coverage Cutoff\n",
    "\n",
    "We likewise need enough samples to ensure that our estimate of the coverage cutoff isn't changing. Let's examine the cutoffs:"
   ]
  },
  {
   "cell_type": "code",
   "execution_count": 6,
   "metadata": {
    "collapsed": false
   },
   "outputs": [
    {
     "data": {
      "text/html": [
       "<div style=\"max-height:1000px;max-width:1500px;overflow:auto;\">\n",
       "<table border=\"1\" class=\"dataframe\">\n",
       "  <thead>\n",
       "    <tr style=\"text-align: right;\">\n",
       "      <th></th>\n",
       "      <th>Samples</th>\n",
       "      <th>Num Samples</th>\n",
       "      <th>Max</th>\n",
       "      <th>Min</th>\n",
       "    </tr>\n",
       "  </thead>\n",
       "  <tbody>\n",
       "    <tr>\n",
       "      <th>Iluma-A2</th>\n",
       "      <td>[AAA027E14]</td>\n",
       "      <td>1</td>\n",
       "      <td>100.01</td>\n",
       "      <td>100.01</td>\n",
       "    </tr>\n",
       "    <tr>\n",
       "      <th>Iluma-B1</th>\n",
       "      <td>[AAA027L17]</td>\n",
       "      <td>1</td>\n",
       "      <td>101.72</td>\n",
       "      <td>101.72</td>\n",
       "    </tr>\n",
       "    <tr>\n",
       "      <th>Iluma-B2</th>\n",
       "      <td>[AAA028K15]</td>\n",
       "      <td>1</td>\n",
       "      <td>102.41</td>\n",
       "      <td>102.41</td>\n",
       "    </tr>\n",
       "    <tr>\n",
       "      <th>Luna1-A2</th>\n",
       "      <td>[AAA028P02]</td>\n",
       "      <td>1</td>\n",
       "      <td>100.38</td>\n",
       "      <td>100.38</td>\n",
       "    </tr>\n",
       "    <tr>\n",
       "      <th>acI-A1</th>\n",
       "      <td>[AAA027M14, AAA278O22]</td>\n",
       "      <td>2</td>\n",
       "      <td>100.66</td>\n",
       "      <td>22.69</td>\n",
       "    </tr>\n",
       "    <tr>\n",
       "      <th>acI-A5</th>\n",
       "      <td>[AAA028G02, AAA044O16]</td>\n",
       "      <td>2</td>\n",
       "      <td>101.07</td>\n",
       "      <td>52.23</td>\n",
       "    </tr>\n",
       "    <tr>\n",
       "      <th>acI-A6</th>\n",
       "      <td>[AAA028E20, AAA028I14]</td>\n",
       "      <td>2</td>\n",
       "      <td>105.56</td>\n",
       "      <td>16.34</td>\n",
       "    </tr>\n",
       "    <tr>\n",
       "      <th>acI-A7</th>\n",
       "      <td>[AAA023J06, AAA024D14, AAA041L13, AAA044N04]</td>\n",
       "      <td>4</td>\n",
       "      <td>105.08</td>\n",
       "      <td>35.85</td>\n",
       "    </tr>\n",
       "    <tr>\n",
       "      <th>acI-B1</th>\n",
       "      <td>[AAA023D18, AAA027J17, AAA027L06, AAA028A23, A...</td>\n",
       "      <td>6</td>\n",
       "      <td>109.56</td>\n",
       "      <td>18.96</td>\n",
       "    </tr>\n",
       "    <tr>\n",
       "      <th>acI-B4</th>\n",
       "      <td>[AAA044D11]</td>\n",
       "      <td>1</td>\n",
       "      <td>100.12</td>\n",
       "      <td>100.12</td>\n",
       "    </tr>\n",
       "  </tbody>\n",
       "</table>\n",
       "</div>"
      ],
      "text/plain": [
       "                                                    Samples Num Samples  \\\n",
       "Iluma-A2                                        [AAA027E14]           1   \n",
       "Iluma-B1                                        [AAA027L17]           1   \n",
       "Iluma-B2                                        [AAA028K15]           1   \n",
       "Luna1-A2                                        [AAA028P02]           1   \n",
       "acI-A1                               [AAA027M14, AAA278O22]           2   \n",
       "acI-A5                               [AAA028G02, AAA044O16]           2   \n",
       "acI-A6                               [AAA028E20, AAA028I14]           2   \n",
       "acI-A7         [AAA023J06, AAA024D14, AAA041L13, AAA044N04]           4   \n",
       "acI-B1    [AAA023D18, AAA027J17, AAA027L06, AAA028A23, A...           6   \n",
       "acI-B4                                          [AAA044D11]           1   \n",
       "\n",
       "             Max     Min  \n",
       "Iluma-A2  100.01  100.01  \n",
       "Iluma-B1  101.72  101.72  \n",
       "Iluma-B2  102.41  102.41  \n",
       "Luna1-A2  100.38  100.38  \n",
       "acI-A1    100.66   22.69  \n",
       "acI-A5    101.07   52.23  \n",
       "acI-A6    105.56   16.34  \n",
       "acI-A7    105.08   35.85  \n",
       "acI-B1    109.56   18.96  \n",
       "acI-B4    100.12  100.12  "
      ]
     },
     "execution_count": 6,
     "metadata": {},
     "output_type": "execute_result"
    }
   ],
   "source": [
    "[pairwiseANI, taxonClass, tribes] = ANI.importANIandTaxonomy(externalDataDir, 'COV_out', 'taxonomySAGs.csv')\n",
    "ANI.sameTribePairwiseANI(externalDataDir,pairwiseANI, taxonClass, tribes, 'COV_out')"
   ]
  },
  {
   "cell_type": "markdown",
   "metadata": {},
   "source": [
    "These results indicate a cutoff of 16.34% cutoff, from the acI-A6 tribe. The acI-B1 tribe is not far behind, with an 18.96% cutoff. The metadata indicate that one acI-A6 SAG is estimated to be 14% complete. This may contribute to the low coverage value. Among the acI-B1 genomes, again one genome is estimated to be 14% complete.\n",
    "\n",
    "However, genomes from the tribes acI-A1 and acI-A7 are predicted to be even more complete, so completeness alone cannot explain low coverage. Likely it is due to a combination of completeness and varying levels of diversity within each tribe.\n",
    "\n",
    "Just for fun let's look at the expected completeness cutoff for different numbers of acI-B1 samples."
   ]
  },
  {
   "cell_type": "code",
   "execution_count": 7,
   "metadata": {
    "collapsed": false
   },
   "outputs": [
    {
     "name": "stdout",
     "output_type": "stream",
     "text": [
      "Sampling tribe acI-B1 with sample size 2.\n",
      "The worst-case minimum is: 86.92\n",
      "Sampling tribe acI-B1 with sample size 3.\n",
      "The worst-case minimum is: 68.6\n",
      "Sampling tribe acI-B1 with sample size 4.\n",
      "The worst-case minimum is: 25.49\n",
      "Sampling tribe acI-B1 with sample size 5.\n",
      "The worst-case minimum is: 22.87\n",
      "Sampling tribe acI-B1 with sample size 6.\n",
      "The worst-case minimum is: 18.96\n"
     ]
    },
    {
     "data": {
      "image/png": "[encoded data removed]",
      "text/plain": [
       "<matplotlib.figure.Figure at 0x1058a5910>"
      ]
     },
     "metadata": {},
     "output_type": "display_data"
    }
   ],
   "source": [
    "[pairwiseANI, taxonClass, tribes] = ANI.importANIandTaxonomy(externalDataDir,'COV_out', 'taxonomySAGs.csv')\n",
    "ANI.sameTribePairwiseANI(externalDataDir,pairwiseANI, taxonClass, tribes, 'COV_out')\n",
    "ANI.allWorstCaseANI(externalDataDir, pairwiseANI, taxonClass, tribes, 'COV_out', 'acI-B1')"
   ]
  },
  {
   "cell_type": "markdown",
   "metadata": {},
   "source": [
    "Within this tribe, the coverage cutoff has a noticable drop at 4 samples, and does not change much as more samples get added. Our lowest cutoff comes from the acI-A6 tribe, with just two samples, so additional SAGs from that tribe might be helpful."
   ]
  }
 ],
 "metadata": {
  "kernelspec": {
   "display_name": "Python 2",
   "language": "python",
   "name": "python2"
  },
  "language_info": {
   "codemirror_mode": {
    "name": "ipython",
    "version": 2
   },
   "file_extension": ".py",
   "mimetype": "text/x-python",
   "name": "python",
   "nbconvert_exporter": "python",
   "pygments_lexer": "ipython2",
   "version": "2.7.6"
  }
 },
 "nbformat": 4,
 "nbformat_minor": 0
}
