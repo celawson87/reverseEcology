{
 "cells": [
  {
   "cell_type": "markdown",
   "metadata": {},
   "source": [
    "# Issues Arising from Genome Incompleteness\n",
    "\n",
    "The purpose of this notebook is to explore issues arising from genome incompleteness. It will examine three major areas:\n",
    "1. ANI and coverage cutoffs.  \n",
    "    To be confident in our ANI and coverage cutoffs, we need to be confident we have enough samples such that acculumating more SAGs doesn't change the ANI cutoff.\n",
    "2. Core genome.  \n",
    "    My proposal to resolve incompleteness among individual genomes is to merge all metabolic network graphs belonging to genomes from the same tribe. I want to explore how estimated completeness (based on marker genes) increases as genomes are merged.\n",
    "3. Pan genome.\n",
    "    My proposal to resolve incompleteness among individual genomes is to merge all metabolic network graphs belonging to genomes from the same tribe. I want to explore how our estimation of the pan-genome for a tribe changes as more genomes get sampled.\n",
    "    \n",
    "The first chunk of code identifies imports the Python packages necessary for this analysis."
   ]
  },
  {
   "cell_type": "code",
   "execution_count": 1,
   "metadata": {
    "collapsed": false
   },
   "outputs": [],
   "source": [
    "# Import special features for iPython\n",
    "import sys\n",
    "sys.path.append('../Python')\n",
    "import matplotlib\n",
    "%matplotlib inline\n",
    "\n",
    "# Import Python modules \n",
    "# These custom-written modules should have been included with the package\n",
    "# distribution. \n",
    "import pairwiseANIFunctions as ANI\n",
    "import markerGeneFunctions as mg\n",
    "\n",
    "# Define local folder structure for data input and processing.\n",
    "externalDataDir = 'ExternalData'"
   ]
  },
  {
   "cell_type": "markdown",
   "metadata": {},
   "source": [
    "##ANI and Coverage Cutoffs\n",
    "\n",
    "### ANI Cutoff\n",
    "\n",
    "In order to have a robust estimate of the ANI which defines a tribe (or clade, or lineage), we need to be confident we have enough samples (e.g., so that acculumating more SAGs doesn't change the ANI cutoff). Let's see how many samples we have from each tribe:"
   ]
  },
  {
   "cell_type": "code",
   "execution_count": 2,
   "metadata": {
    "collapsed": false
   },
   "outputs": [
    {
     "data": {
      "text/html": [
       "<div style=\"max-height:1000px;max-width:1500px;overflow:auto;\">\n",
       "<table border=\"1\" class=\"dataframe\">\n",
       "  <thead>\n",
       "    <tr style=\"text-align: right;\">\n",
       "      <th></th>\n",
       "      <th>Samples</th>\n",
       "      <th>Num Samples</th>\n",
       "      <th>Max</th>\n",
       "      <th>Min</th>\n",
       "    </tr>\n",
       "  </thead>\n",
       "  <tbody>\n",
       "    <tr>\n",
       "      <th>Iluma-A2</th>\n",
       "      <td>[AAA027E14]</td>\n",
       "      <td>1</td>\n",
       "      <td>99.97</td>\n",
       "      <td>99.97</td>\n",
       "    </tr>\n",
       "    <tr>\n",
       "      <th>Iluma-B1</th>\n",
       "      <td>[AAA027L17]</td>\n",
       "      <td>1</td>\n",
       "      <td>99.54</td>\n",
       "      <td>99.54</td>\n",
       "    </tr>\n",
       "    <tr>\n",
       "      <th>Iluma-B2</th>\n",
       "      <td>[AAA028K15]</td>\n",
       "      <td>1</td>\n",
       "      <td>99.53</td>\n",
       "      <td>99.53</td>\n",
       "    </tr>\n",
       "    <tr>\n",
       "      <th>Luna1-A2</th>\n",
       "      <td>[AAA028P02]</td>\n",
       "      <td>1</td>\n",
       "      <td>100</td>\n",
       "      <td>100</td>\n",
       "    </tr>\n",
       "    <tr>\n",
       "      <th>acI-A1</th>\n",
       "      <td>[AAA027M14, AAA278O22]</td>\n",
       "      <td>2</td>\n",
       "      <td>100</td>\n",
       "      <td>79.56</td>\n",
       "    </tr>\n",
       "    <tr>\n",
       "      <th>acI-A5</th>\n",
       "      <td>[AAA028G02, AAA044O16]</td>\n",
       "      <td>2</td>\n",
       "      <td>99.95</td>\n",
       "      <td>86.69</td>\n",
       "    </tr>\n",
       "    <tr>\n",
       "      <th>acI-A6</th>\n",
       "      <td>[AAA028E20, AAA028I14]</td>\n",
       "      <td>2</td>\n",
       "      <td>100</td>\n",
       "      <td>81.17</td>\n",
       "    </tr>\n",
       "    <tr>\n",
       "      <th>acI-A7</th>\n",
       "      <td>[AAA023J06, AAA024D14, AAA041L13, AAA044N04]</td>\n",
       "      <td>4</td>\n",
       "      <td>100</td>\n",
       "      <td>87.13</td>\n",
       "    </tr>\n",
       "    <tr>\n",
       "      <th>acI-B1</th>\n",
       "      <td>[AAA023D18, AAA027J17, AAA027L06, AAA028A23, A...</td>\n",
       "      <td>6</td>\n",
       "      <td>100</td>\n",
       "      <td>79.06</td>\n",
       "    </tr>\n",
       "    <tr>\n",
       "      <th>acI-B4</th>\n",
       "      <td>[AAA044D11]</td>\n",
       "      <td>1</td>\n",
       "      <td>100</td>\n",
       "      <td>100</td>\n",
       "    </tr>\n",
       "  </tbody>\n",
       "</table>\n",
       "</div>"
      ],
      "text/plain": [
       "                                                    Samples Num Samples  \\\n",
       "Iluma-A2                                        [AAA027E14]           1   \n",
       "Iluma-B1                                        [AAA027L17]           1   \n",
       "Iluma-B2                                        [AAA028K15]           1   \n",
       "Luna1-A2                                        [AAA028P02]           1   \n",
       "acI-A1                               [AAA027M14, AAA278O22]           2   \n",
       "acI-A5                               [AAA028G02, AAA044O16]           2   \n",
       "acI-A6                               [AAA028E20, AAA028I14]           2   \n",
       "acI-A7         [AAA023J06, AAA024D14, AAA041L13, AAA044N04]           4   \n",
       "acI-B1    [AAA023D18, AAA027J17, AAA027L06, AAA028A23, A...           6   \n",
       "acI-B4                                          [AAA044D11]           1   \n",
       "\n",
       "            Max    Min  \n",
       "Iluma-A2  99.97  99.97  \n",
       "Iluma-B1  99.54  99.54  \n",
       "Iluma-B2  99.53  99.53  \n",
       "Luna1-A2    100    100  \n",
       "acI-A1      100  79.56  \n",
       "acI-A5    99.95  86.69  \n",
       "acI-A6      100  81.17  \n",
       "acI-A7      100  87.13  \n",
       "acI-B1      100  79.06  \n",
       "acI-B4      100    100  "
      ]
     },
     "execution_count": 2,
     "metadata": {},
     "output_type": "execute_result"
    }
   ],
   "source": [
    "[pairwiseANI, taxonClass, tribes] = ANI.importANIandTaxonomy(externalDataDir, 'ANI_out', 'taxonomySAGs.csv')\n",
    "ANI.sameTribePairwiseANI(externalDataDir,pairwiseANI, taxonClass, tribes, 'ANI_out')"
   ]
  },
  {
   "cell_type": "markdown",
   "metadata": {},
   "source": [
    "These results indicate a cutoff of 79.06%, from the acI-B1 tribe. \n",
    "\n",
    "Let's suppose these six SAGs are representative of the entire acI-B1 sequence space. Suppose we only sequenced two SAGs. The function below will compute all possible pairs and their max and min ANI:"
   ]
  },
  {
   "cell_type": "code",
   "execution_count": 3,
   "metadata": {
    "collapsed": false
   },
   "outputs": [
    {
     "name": "stdout",
     "output_type": "stream",
     "text": [
      "                        Max    Min\n",
      "(AAA023D18, AAA027J17)  100  79.88\n",
      "(AAA023D18, AAA027L06)  100  80.01\n",
      "(AAA023D18, AAA028A23)  100  80.01\n",
      "(AAA023D18, AAA278I18)  100  80.94\n",
      "(AAA023D18, AB141P03)   100  79.45\n",
      "(AAA027J17, AAA027L06)  100  81.76\n",
      "(AAA027J17, AAA028A23)  100  81.74\n",
      "(AAA027J17, AAA278I18)  100   80.1\n",
      "(AAA027J17, AB141P03)   100  80.68\n",
      "(AAA027L06, AAA028A23)  100  99.08\n",
      "(AAA027L06, AAA278I18)  100  79.44\n",
      "(AAA027L06, AB141P03)   100  96.44\n",
      "(AAA028A23, AAA278I18)  100  79.32\n",
      "(AAA028A23, AB141P03)   100  96.36\n",
      "(AAA278I18, AB141P03)   100  79.06\n",
      "Sampling tribe acI-B1 with sample size 2.\n",
      "The worst-case minimum ANI is: 99.08\n"
     ]
    }
   ],
   "source": [
    "[pairwiseANI, taxonClass, tribes] = ANI.importANIandTaxonomy(externalDataDir, 'ANI_out', 'taxonomySAGs.csv')\n",
    "ANI.worstCaseANI(externalDataDir, pairwiseANI, taxonClass, tribes, 'ANI_out', 'acI-B1', 2)"
   ]
  },
  {
   "cell_type": "markdown",
   "metadata": {},
   "source": [
    "If we were especially unlucky, we would have sequenced SAGs L06 and A23, and we would have predicted a tribe-specific cutoff of 99.08 ANI. What if we instead sampled three SAGs:"
   ]
  },
  {
   "cell_type": "code",
   "execution_count": 4,
   "metadata": {
    "collapsed": false
   },
   "outputs": [
    {
     "name": "stdout",
     "output_type": "stream",
     "text": [
      "                                   Max    Min\n",
      "(AAA023D18, AAA027J17, AAA027L06)  100  79.88\n",
      "(AAA023D18, AAA027J17, AAA028A23)  100  79.88\n",
      "(AAA023D18, AAA027J17, AAA278I18)  100  79.88\n",
      "(AAA023D18, AAA027J17, AB141P03)   100  79.45\n",
      "(AAA023D18, AAA027L06, AAA028A23)  100  80.01\n",
      "(AAA023D18, AAA027L06, AAA278I18)  100  79.44\n",
      "(AAA023D18, AAA027L06, AB141P03)   100  79.45\n",
      "(AAA023D18, AAA028A23, AAA278I18)  100  79.32\n",
      "(AAA023D18, AAA028A23, AB141P03)   100  79.45\n",
      "(AAA023D18, AAA278I18, AB141P03)   100  79.06\n",
      "(AAA027J17, AAA027L06, AAA028A23)  100  81.74\n",
      "(AAA027J17, AAA027L06, AAA278I18)  100  79.44\n",
      "(AAA027J17, AAA027L06, AB141P03)   100  80.68\n",
      "(AAA027J17, AAA028A23, AAA278I18)  100  79.32\n",
      "(AAA027J17, AAA028A23, AB141P03)   100  80.68\n",
      "(AAA027J17, AAA278I18, AB141P03)   100  79.06\n",
      "(AAA027L06, AAA028A23, AAA278I18)  100  79.32\n",
      "(AAA027L06, AAA028A23, AB141P03)   100  96.36\n",
      "(AAA027L06, AAA278I18, AB141P03)   100  79.06\n",
      "(AAA028A23, AAA278I18, AB141P03)   100  79.06\n",
      "Sampling tribe acI-B1 with sample size 3.\n",
      "The worst-case minimum ANI is: 96.36\n"
     ]
    }
   ],
   "source": [
    "[pairwiseANI, taxonClass, tribes] = ANI.importANIandTaxonomy(externalDataDir,'ANI_out', 'taxonomySAGs.csv')\n",
    "ANI.worstCaseANI(externalDataDir,pairwiseANI, taxonClass, tribes, 'ANI_out', 'acI-B1', 3)"
   ]
  },
  {
   "cell_type": "markdown",
   "metadata": {},
   "source": [
    "If we were again unlucky, we would have sequenced SAGs L06, A23, and P03, and we would have predicted a tribe-specific cutoff of 96.36 ANI. Let's define a new function which repeats this calculation for all possible sample sizes (up to 6 for tribe acI-B1)."
   ]
  },
  {
   "cell_type": "code",
   "execution_count": 5,
   "metadata": {
    "collapsed": false
   },
   "outputs": [
    {
     "name": "stdout",
     "output_type": "stream",
     "text": [
      "Sampling tribe acI-B1 with sample size 2.\n",
      "The worst-case minimum is: 99.08\n",
      "Sampling tribe acI-B1 with sample size 3.\n",
      "The worst-case minimum is: 96.36\n",
      "Sampling tribe acI-B1 with sample size 4.\n",
      "The worst-case minimum is: 80.68\n",
      "Sampling tribe acI-B1 with sample size 5.\n",
      "The worst-case minimum is: 79.45\n",
      "Sampling tribe acI-B1 with sample size 6.\n",
      "The worst-case minimum is: 79.06\n"
     ]
    },
    {
     "data": {
      "image/png": "[encoded data removed]",
      "text/plain": [
       "<matplotlib.figure.Figure at 0x110c42dd0>"
      ]
     },
     "metadata": {},
     "output_type": "display_data"
    }
   ],
   "source": [
    "[pairwiseANI, taxonClass, tribes] = ANI.importANIandTaxonomy(externalDataDir,'ANI_out', 'taxonomySAGs.csv')\n",
    "ANI.allWorstCaseANI(externalDataDir, pairwiseANI, taxonClass, tribes, 'ANI_out', 'acI-B1')"
   ]
  },
  {
   "cell_type": "markdown",
   "metadata": {},
   "source": [
    "So these six samples appear to be enough."
   ]
  },
  {
   "cell_type": "markdown",
   "metadata": {},
   "source": [
    "### Coverage Cutoff\n",
    "\n",
    "We likewise need enough samples to ensure that our estimate of the coverage cutoff isn't changing. Let's examine the cutoffs:"
   ]
  },
  {
   "cell_type": "code",
   "execution_count": 6,
   "metadata": {
    "collapsed": false
   },
   "outputs": [
    {
     "data": {
      "text/html": [
       "<div style=\"max-height:1000px;max-width:1500px;overflow:auto;\">\n",
       "<table border=\"1\" class=\"dataframe\">\n",
       "  <thead>\n",
       "    <tr style=\"text-align: right;\">\n",
       "      <th></th>\n",
       "      <th>Samples</th>\n",
       "      <th>Num Samples</th>\n",
       "      <th>Max</th>\n",
       "      <th>Min</th>\n",
       "    </tr>\n",
       "  </thead>\n",
       "  <tbody>\n",
       "    <tr>\n",
       "      <th>Iluma-A2</th>\n",
       "      <td>[AAA027E14]</td>\n",
       "      <td>1</td>\n",
       "      <td>100.01</td>\n",
       "      <td>100.01</td>\n",
       "    </tr>\n",
       "    <tr>\n",
       "      <th>Iluma-B1</th>\n",
       "      <td>[AAA027L17]</td>\n",
       "      <td>1</td>\n",
       "      <td>101.72</td>\n",
       "      <td>101.72</td>\n",
       "    </tr>\n",
       "    <tr>\n",
       "      <th>Iluma-B2</th>\n",
       "      <td>[AAA028K15]</td>\n",
       "      <td>1</td>\n",
       "      <td>102.41</td>\n",
       "      <td>102.41</td>\n",
       "    </tr>\n",
       "    <tr>\n",
       "      <th>Luna1-A2</th>\n",
       "      <td>[AAA028P02]</td>\n",
       "      <td>1</td>\n",
       "      <td>100.38</td>\n",
       "      <td>100.38</td>\n",
       "    </tr>\n",
       "    <tr>\n",
       "      <th>acI-A1</th>\n",
       "      <td>[AAA027M14, AAA278O22]</td>\n",
       "      <td>2</td>\n",
       "      <td>100.66</td>\n",
       "      <td>22.69</td>\n",
       "    </tr>\n",
       "    <tr>\n",
       "      <th>acI-A5</th>\n",
       "      <td>[AAA028G02, AAA044O16]</td>\n",
       "      <td>2</td>\n",
       "      <td>101.07</td>\n",
       "      <td>52.23</td>\n",
       "    </tr>\n",
       "    <tr>\n",
       "      <th>acI-A6</th>\n",
       "      <td>[AAA028E20, AAA028I14]</td>\n",
       "      <td>2</td>\n",
       "      <td>105.56</td>\n",
       "      <td>16.34</td>\n",
       "    </tr>\n",
       "    <tr>\n",
       "      <th>acI-A7</th>\n",
       "      <td>[AAA023J06, AAA024D14, AAA041L13, AAA044N04]</td>\n",
       "      <td>4</td>\n",
       "      <td>105.08</td>\n",
       "      <td>35.85</td>\n",
       "    </tr>\n",
       "    <tr>\n",
       "      <th>acI-B1</th>\n",
       "      <td>[AAA023D18, AAA027J17, AAA027L06, AAA028A23, A...</td>\n",
       "      <td>6</td>\n",
       "      <td>109.56</td>\n",
       "      <td>18.96</td>\n",
       "    </tr>\n",
       "    <tr>\n",
       "      <th>acI-B4</th>\n",
       "      <td>[AAA044D11]</td>\n",
       "      <td>1</td>\n",
       "      <td>100.12</td>\n",
       "      <td>100.12</td>\n",
       "    </tr>\n",
       "  </tbody>\n",
       "</table>\n",
       "</div>"
      ],
      "text/plain": [
       "                                                    Samples Num Samples  \\\n",
       "Iluma-A2                                        [AAA027E14]           1   \n",
       "Iluma-B1                                        [AAA027L17]           1   \n",
       "Iluma-B2                                        [AAA028K15]           1   \n",
       "Luna1-A2                                        [AAA028P02]           1   \n",
       "acI-A1                               [AAA027M14, AAA278O22]           2   \n",
       "acI-A5                               [AAA028G02, AAA044O16]           2   \n",
       "acI-A6                               [AAA028E20, AAA028I14]           2   \n",
       "acI-A7         [AAA023J06, AAA024D14, AAA041L13, AAA044N04]           4   \n",
       "acI-B1    [AAA023D18, AAA027J17, AAA027L06, AAA028A23, A...           6   \n",
       "acI-B4                                          [AAA044D11]           1   \n",
       "\n",
       "             Max     Min  \n",
       "Iluma-A2  100.01  100.01  \n",
       "Iluma-B1  101.72  101.72  \n",
       "Iluma-B2  102.41  102.41  \n",
       "Luna1-A2  100.38  100.38  \n",
       "acI-A1    100.66   22.69  \n",
       "acI-A5    101.07   52.23  \n",
       "acI-A6    105.56   16.34  \n",
       "acI-A7    105.08   35.85  \n",
       "acI-B1    109.56   18.96  \n",
       "acI-B4    100.12  100.12  "
      ]
     },
     "execution_count": 6,
     "metadata": {},
     "output_type": "execute_result"
    }
   ],
   "source": [
    "[pairwiseANI, taxonClass, tribes] = ANI.importANIandTaxonomy(externalDataDir, 'COV_out', 'taxonomySAGs.csv')\n",
    "ANI.sameTribePairwiseANI(externalDataDir,pairwiseANI, taxonClass, tribes, 'COV_out')"
   ]
  },
  {
   "cell_type": "markdown",
   "metadata": {},
   "source": [
    "These results indicate a cutoff of 16.34% cutoff, from the acI-A6 tribe. The acI-B1 tribe is not far behind, with an 18.96% cutoff. The metadata indicate that one acI-A6 SAG is estimated to be 14% complete. This may contribute to the low coverage value. Among the acI-B1 genomes, again one genome is estimated to be 14% complete.\n",
    "\n",
    "However, genomes from the tribes acI-A1 and acI-A7 are predicted to be even more complete, so completeness alone cannot explain low coverage. Likely it is due to a combination of completeness and varying levels of diversity within each tribe.\n",
    "\n",
    "Just for fun let's look at the expected completeness cutoff for different numbers of acI-B1 samples."
   ]
  },
  {
   "cell_type": "code",
   "execution_count": 7,
   "metadata": {
    "collapsed": false
   },
   "outputs": [
    {
     "name": "stdout",
     "output_type": "stream",
     "text": [
      "Sampling tribe acI-B1 with sample size 2.\n",
      "The worst-case minimum is: 86.92\n",
      "Sampling tribe acI-B1 with sample size 3.\n",
      "The worst-case minimum is: 68.6\n",
      "Sampling tribe acI-B1 with sample size 4.\n",
      "The worst-case minimum is: 25.49\n",
      "Sampling tribe acI-B1 with sample size 5.\n",
      "The worst-case minimum is: 22.87\n",
      "Sampling tribe acI-B1 with sample size 6.\n",
      "The worst-case minimum is: 18.96\n"
     ]
    },
    {
     "data": {
      "image/png": "[encoded data removed]",
      "text/plain": [
       "<matplotlib.figure.Figure at 0x110d15790>"
      ]
     },
     "metadata": {},
     "output_type": "display_data"
    }
   ],
   "source": [
    "[pairwiseANI, taxonClass, tribes] = ANI.importANIandTaxonomy(externalDataDir,'COV_out', 'taxonomySAGs.csv')\n",
    "ANI.allWorstCaseANI(externalDataDir, pairwiseANI, taxonClass, tribes, 'COV_out', 'acI-B1')"
   ]
  },
  {
   "cell_type": "markdown",
   "metadata": {},
   "source": [
    "Within this tribe, the coverage cutoff has a noticable drop at 4 samples, and does not change much as more samples get added. Our lowest cutoff comes from the acI-A6 tribe, with just two samples, so additional SAGs from that tribe might be helpful."
   ]
  },
  {
   "cell_type": "markdown",
   "metadata": {},
   "source": [
    "## Marker Genes\n",
    "\n",
    "I expect that merging metabolic network graphs for genomes from the same tribe will give a metabolic network graph which better represents the metabolic capabilites of the tribe. As a corollary, as I sample more genomes from the same tribe, I expect that the number of observed marker genes will increase.\n",
    "\n",
    "### Phylosift Marker Genes\n",
    "\n",
    "First let's see the maximum and minimum estimated completeness for each tribe:"
   ]
  },
  {
   "cell_type": "code",
   "execution_count": 8,
   "metadata": {
    "collapsed": false
   },
   "outputs": [
    {
     "data": {
      "text/html": [
       "<div style=\"max-height:1000px;max-width:1500px;overflow:auto;\">\n",
       "<table border=\"1\" class=\"dataframe\">\n",
       "  <thead>\n",
       "    <tr style=\"text-align: right;\">\n",
       "      <th></th>\n",
       "      <th>Samples</th>\n",
       "      <th>Num Samples</th>\n",
       "      <th>Max</th>\n",
       "      <th>Min</th>\n",
       "    </tr>\n",
       "  </thead>\n",
       "  <tbody>\n",
       "    <tr>\n",
       "      <th>Iluma-A2</th>\n",
       "      <td>[AAA027E14]</td>\n",
       "      <td>1</td>\n",
       "      <td>0.5945946</td>\n",
       "      <td>0.5945946</td>\n",
       "    </tr>\n",
       "    <tr>\n",
       "      <th>Iluma-B1</th>\n",
       "      <td>[AAA027L17]</td>\n",
       "      <td>1</td>\n",
       "      <td>0.7837838</td>\n",
       "      <td>0.7837838</td>\n",
       "    </tr>\n",
       "    <tr>\n",
       "      <th>Iluma-B2</th>\n",
       "      <td>[AAA028K15]</td>\n",
       "      <td>1</td>\n",
       "      <td>0.08108108</td>\n",
       "      <td>0.08108108</td>\n",
       "    </tr>\n",
       "    <tr>\n",
       "      <th>Luna1-A2</th>\n",
       "      <td>[AAA028P02]</td>\n",
       "      <td>1</td>\n",
       "      <td>0.8378378</td>\n",
       "      <td>0.8378378</td>\n",
       "    </tr>\n",
       "    <tr>\n",
       "      <th>acI-A1</th>\n",
       "      <td>[AAA027M14, AAA278O22]</td>\n",
       "      <td>2</td>\n",
       "      <td>0.972973</td>\n",
       "      <td>0.05405405</td>\n",
       "    </tr>\n",
       "    <tr>\n",
       "      <th>acI-A5</th>\n",
       "      <td>[AAA028G02, AAA044O16]</td>\n",
       "      <td>2</td>\n",
       "      <td>0.972973</td>\n",
       "      <td>0.9459459</td>\n",
       "    </tr>\n",
       "    <tr>\n",
       "      <th>acI-A6</th>\n",
       "      <td>[AAA028E20, AAA028I14]</td>\n",
       "      <td>2</td>\n",
       "      <td>0.8378378</td>\n",
       "      <td>0.1351351</td>\n",
       "    </tr>\n",
       "    <tr>\n",
       "      <th>acI-A7</th>\n",
       "      <td>[AAA023J06, AAA024D14, AAA041L13, AAA044N04]</td>\n",
       "      <td>4</td>\n",
       "      <td>0.7567568</td>\n",
       "      <td>0.1081081</td>\n",
       "    </tr>\n",
       "    <tr>\n",
       "      <th>acI-B1</th>\n",
       "      <td>[AAA023D18, AAA027J17, AAA027L06, AAA028A23, A...</td>\n",
       "      <td>6</td>\n",
       "      <td>0.972973</td>\n",
       "      <td>0.1351351</td>\n",
       "    </tr>\n",
       "    <tr>\n",
       "      <th>acI-B4</th>\n",
       "      <td>[AAA044D11]</td>\n",
       "      <td>1</td>\n",
       "      <td>0.9459459</td>\n",
       "      <td>0.9459459</td>\n",
       "    </tr>\n",
       "  </tbody>\n",
       "</table>\n",
       "</div>"
      ],
      "text/plain": [
       "                                                    Samples Num Samples  \\\n",
       "Iluma-A2                                        [AAA027E14]           1   \n",
       "Iluma-B1                                        [AAA027L17]           1   \n",
       "Iluma-B2                                        [AAA028K15]           1   \n",
       "Luna1-A2                                        [AAA028P02]           1   \n",
       "acI-A1                               [AAA027M14, AAA278O22]           2   \n",
       "acI-A5                               [AAA028G02, AAA044O16]           2   \n",
       "acI-A6                               [AAA028E20, AAA028I14]           2   \n",
       "acI-A7         [AAA023J06, AAA024D14, AAA041L13, AAA044N04]           4   \n",
       "acI-B1    [AAA023D18, AAA027J17, AAA027L06, AAA028A23, A...           6   \n",
       "acI-B4                                          [AAA044D11]           1   \n",
       "\n",
       "                 Max         Min  \n",
       "Iluma-A2   0.5945946   0.5945946  \n",
       "Iluma-B1   0.7837838   0.7837838  \n",
       "Iluma-B2  0.08108108  0.08108108  \n",
       "Luna1-A2   0.8378378   0.8378378  \n",
       "acI-A1      0.972973  0.05405405  \n",
       "acI-A5      0.972973   0.9459459  \n",
       "acI-A6     0.8378378   0.1351351  \n",
       "acI-A7     0.7567568   0.1081081  \n",
       "acI-B1      0.972973   0.1351351  \n",
       "acI-B4     0.9459459   0.9459459  "
      ]
     },
     "execution_count": 8,
     "metadata": {},
     "output_type": "execute_result"
    }
   ],
   "source": [
    "[markerGeneDF, taxonClass, tribes] = mg.importMarkerGenesAndTaxonomy(externalDataDir, 'phylosiftMarkerGenes.csv', 'taxonomySAGs.csv')\n",
    "mg.indivCompleteness(externalDataDir, markerGeneDF, 37, taxonClass, tribes)"
   ]
  },
  {
   "cell_type": "markdown",
   "metadata": {},
   "source": [
    "Let's consider the trib acI-B6, where samples range from 13.5% to 97% complete. Let's suppose these six SAGs are representative of the entire acI-B1 sequence space. Suppose we only sequenced two SAGs. The function below will compute all possible pairs and the total number of marker genes between them."
   ]
  },
  {
   "cell_type": "code",
   "execution_count": 9,
   "metadata": {
    "collapsed": false
   },
   "outputs": [
    {
     "name": "stdout",
     "output_type": "stream",
     "text": [
      "                       Count    Percent\n",
      "(AAA023D18, AAA027J17)    36   0.972973\n",
      "(AAA023D18, AAA027L06)    36   0.972973\n",
      "(AAA023D18, AAA028A23)    33  0.8918919\n",
      "(AAA023D18, AAA278I18)    24  0.6486486\n",
      "(AAA023D18, AB141P03)     16  0.4324324\n",
      "(AAA027J17, AAA027L06)    36   0.972973\n",
      "(AAA027J17, AAA028A23)    34  0.9189189\n",
      "(AAA027J17, AAA278I18)    33  0.8918919\n",
      "(AAA027J17, AB141P03)     36   0.972973\n",
      "(AAA027L06, AAA028A23)    36   0.972973\n",
      "(AAA027L06, AAA278I18)    36   0.972973\n",
      "(AAA027L06, AB141P03)     36   0.972973\n",
      "(AAA028A23, AAA278I18)    34  0.9189189\n",
      "(AAA028A23, AB141P03)     32  0.8648649\n",
      "(AAA278I18, AB141P03)     17  0.4594595\n",
      "Sampling tribe acI-B1 with sample size 2.\n",
      "The worst-case estimated completeness is: 0.432432432432\n"
     ]
    }
   ],
   "source": [
    "[markerGeneDF, taxonClass, tribes] = mg.importMarkerGenesAndTaxonomy(externalDataDir, 'phylosiftMarkerGenes.csv', 'taxonomySAGs.csv')\n",
    "mg.worstCaseCompleteness(externalDataDir, markerGeneDF, 37, taxonClass, tribes, 'acI-B1', 2)"
   ]
  },
  {
   "cell_type": "markdown",
   "metadata": {},
   "source": [
    "In the worst case (SAGs D18 and P03), our aggregated genome would be only 43% complete. \n",
    "\n",
    "Let's consider the same scenario for samples of arbitrary size:"
   ]
  },
  {
   "cell_type": "code",
   "execution_count": 10,
   "metadata": {
    "collapsed": false
   },
   "outputs": [
    {
     "name": "stdout",
     "output_type": "stream",
     "text": [
      "Sampling tribe acI-B1 with sample size 2.\n",
      "The worst-case completeness is: 0.432432432432\n",
      "Sampling tribe acI-B1 with sample size 3.\n",
      "The worst-case completeness is: 0.648648648649\n",
      "Sampling tribe acI-B1 with sample size 4.\n",
      "The worst-case completeness is: 0.972972972973\n",
      "Sampling tribe acI-B1 with sample size 5.\n",
      "The worst-case completeness is: 0.972972972973\n",
      "Sampling tribe acI-B1 with sample size 6.\n",
      "The worst-case completeness is: 0.972972972973\n"
     ]
    },
    {
     "data": {
      "image/png": "[encoded data removed]",
      "text/plain": [
       "<matplotlib.figure.Figure at 0x10c41cf50>"
      ]
     },
     "metadata": {},
     "output_type": "display_data"
    }
   ],
   "source": [
    "[markerGeneDF, taxonClass, tribes] = mg.importMarkerGenesAndTaxonomy(externalDataDir, 'phylosiftMarkerGenes.csv', 'taxonomySAGs.csv')\n",
    "mg.allWorstCaseCompleteness(externalDataDir, markerGeneDF, 37, taxonClass, tribes, 'acI-B1')"
   ]
  },
  {
   "cell_type": "markdown",
   "metadata": {},
   "source": [
    "It appears that all of the Phylosift marker genes have been encountered after 4 genomes have been sequenced. What about tribe acI-A7, for which we have four samples?"
   ]
  },
  {
   "cell_type": "code",
   "execution_count": 11,
   "metadata": {
    "collapsed": false
   },
   "outputs": [
    {
     "name": "stdout",
     "output_type": "stream",
     "text": [
      "Sampling tribe acI-A7 with sample size 2.\n",
      "The worst-case completeness is: 0.189189189189\n",
      "Sampling tribe acI-A7 with sample size 3.\n",
      "The worst-case completeness is: 0.432432432432\n",
      "Sampling tribe acI-A7 with sample size 4.\n",
      "The worst-case completeness is: 0.972972972973\n"
     ]
    },
    {
     "data": {
      "image/png": "[encoded data removed]",
      "text/plain": [
       "<matplotlib.figure.Figure at 0x110cb63d0>"
      ]
     },
     "metadata": {},
     "output_type": "display_data"
    }
   ],
   "source": [
    "[markerGeneDF, taxonClass, tribes] = mg.importMarkerGenesAndTaxonomy(externalDataDir, 'phylosiftMarkerGenes.csv', 'taxonomySAGs.csv')\n",
    "mg.allWorstCaseCompleteness(externalDataDir, markerGeneDF, 37, taxonClass, tribes, 'acI-A7')"
   ]
  },
  {
   "cell_type": "markdown",
   "metadata": {},
   "source": [
    "We see a similar result, all marker genes have been encountered after 4 SAGs have been sequenced.\n",
    "\n",
    "### Phylophlan Marker Genes\n",
    "\n",
    "But this is a small set of marker genes. What if we consider Phylophlan's set of 400 genes?"
   ]
  },
  {
   "cell_type": "code",
   "execution_count": 12,
   "metadata": {
    "collapsed": false
   },
   "outputs": [
    {
     "name": "stdout",
     "output_type": "stream",
     "text": [
      "Sampling tribe acI-B1 with sample size 2.\n",
      "The worst-case completeness is: 0.5025\n",
      "Sampling tribe acI-B1 with sample size 3.\n",
      "The worst-case completeness is: 0.605\n",
      "Sampling tribe acI-B1 with sample size 4.\n",
      "The worst-case completeness is: 0.6575\n",
      "Sampling tribe acI-B1 with sample size 5.\n",
      "The worst-case completeness is: 0.6675\n",
      "Sampling tribe acI-B1 with sample size 6.\n",
      "The worst-case completeness is: 0.6775\n"
     ]
    },
    {
     "data": {
      "image/png": "[encoded data removed]",
      "text/plain": [
       "<matplotlib.figure.Figure at 0x110e06150>"
      ]
     },
     "metadata": {},
     "output_type": "display_data"
    }
   ],
   "source": [
    "[markerGeneDF, taxonClass, tribes] = mg.importMarkerGenesAndTaxonomy(externalDataDir, 'phylophlanMarkerGenes.csv', 'taxonomySAGs.csv')\n",
    "mg.allWorstCaseCompleteness(externalDataDir, markerGeneDF, 400, taxonClass, tribes, 'acI-B1')"
   ]
  },
  {
   "cell_type": "markdown",
   "metadata": {},
   "source": [
    "The estimated completeness levels off around 70%. This is consistent with earlier observations about Phylophlan; namely, even fully complete freshwater genomes (such as Pnec) are predicted to be incomplete. This leveling off does occur around 4 SAGs, which suggests further sampling will not increase coverage of marker genes."
   ]
  },
  {
   "cell_type": "code",
   "execution_count": 13,
   "metadata": {
    "collapsed": false
   },
   "outputs": [
    {
     "name": "stdout",
     "output_type": "stream",
     "text": [
      "Sampling tribe acI-A7 with sample size 2.\n",
      "The worst-case completeness is: 0.5325\n",
      "Sampling tribe acI-A7 with sample size 3.\n",
      "The worst-case completeness is: 0.7\n",
      "Sampling tribe acI-A7 with sample size 4.\n",
      "The worst-case completeness is: 0.725\n"
     ]
    },
    {
     "data": {
      "image/png": "[encoded data removed]",
      "text/plain": [
       "<matplotlib.figure.Figure at 0x110e3b3d0>"
      ]
     },
     "metadata": {},
     "output_type": "display_data"
    }
   ],
   "source": [
    "[markerGeneDF, taxonClass, tribes] = mg.importMarkerGenesAndTaxonomy(externalDataDir, 'phylophlanMarkerGenes.csv', 'taxonomySAGs.csv')\n",
    "mg.allWorstCaseCompleteness(externalDataDir, markerGeneDF, 400, taxonClass, tribes, 'acI-A7')"
   ]
  },
  {
   "cell_type": "markdown",
   "metadata": {},
   "source": [
    "Again estimated completeness appears to be leveling off after 4 SAGs."
   ]
  },
  {
   "cell_type": "markdown",
   "metadata": {},
   "source": [
    "### CheckM Marker Genes\n",
    "\n",
    "CheckM enables estimation of genome completeness using lineage-specific marker genes. For the Actinobacteria phylum, 204 marker genes are used. Let's look at the curve using these marker genes and the acI-B1 tribe."
   ]
  },
  {
   "cell_type": "code",
   "execution_count": 14,
   "metadata": {
    "collapsed": false
   },
   "outputs": [
    {
     "name": "stdout",
     "output_type": "stream",
     "text": [
      "Sampling tribe acI-B1 with sample size 2.\n",
      "The worst-case completeness is: 0.602941176471\n",
      "Sampling tribe acI-B1 with sample size 3.\n",
      "The worst-case completeness is: 0.852941176471\n",
      "Sampling tribe acI-B1 with sample size 4.\n",
      "The worst-case completeness is: 0.921568627451\n",
      "Sampling tribe acI-B1 with sample size 5.\n",
      "The worst-case completeness is: 0.941176470588\n",
      "Sampling tribe acI-B1 with sample size 6.\n",
      "The worst-case completeness is: 0.941176470588\n"
     ]
    },
    {
     "data": {
      "image/png": "[encoded data removed]",
      "text/plain": [
       "<matplotlib.figure.Figure at 0x110c301d0>"
      ]
     },
     "metadata": {},
     "output_type": "display_data"
    }
   ],
   "source": [
    "[markerGeneDF, taxonClass, tribes] = mg.importMarkerGenesAndTaxonomy(externalDataDir, 'checkMMarkerGenes.csv', 'taxonomySAGs.csv')\n",
    "mg.allWorstCaseCompleteness(externalDataDir, markerGeneDF, 204, taxonClass, tribes, 'acI-B1')"
   ]
  },
  {
   "cell_type": "markdown",
   "metadata": {},
   "source": [
    "Here, the completeness doesn't appear to level off until 5 SAGs have been sequenced. This might have to do with CheckM's weighting of gene proximity in estimating completeness. What about the acI-A7 tribe?"
   ]
  },
  {
   "cell_type": "code",
   "execution_count": 15,
   "metadata": {
    "collapsed": false
   },
   "outputs": [
    {
     "name": "stdout",
     "output_type": "stream",
     "text": [
      "Sampling tribe acI-A7 with sample size 2.\n",
      "The worst-case completeness is: 0.676470588235\n",
      "Sampling tribe acI-A7 with sample size 3.\n",
      "The worst-case completeness is: 0.81862745098\n",
      "Sampling tribe acI-A7 with sample size 4.\n",
      "The worst-case completeness is: 0.970588235294\n"
     ]
    },
    {
     "data": {
      "image/png": "[encoded data removed]",
      "text/plain": [
       "<matplotlib.figure.Figure at 0x110c30410>"
      ]
     },
     "metadata": {},
     "output_type": "display_data"
    }
   ],
   "source": [
    "[markerGeneDF, taxonClass, tribes] = mg.importMarkerGenesAndTaxonomy(externalDataDir, 'checkMMarkerGenes.csv', 'taxonomySAGs.csv')\n",
    "mg.allWorstCaseCompleteness(externalDataDir, markerGeneDF, 204, taxonClass, tribes, 'acI-A7')"
   ]
  },
  {
   "cell_type": "markdown",
   "metadata": {},
   "source": [
    "Using the CheckM marker genes, four samples is clearly not enough."
   ]
  },
  {
   "cell_type": "markdown",
   "metadata": {},
   "source": [
    "### Core and Pan-Genomes\n",
    "\n",
    "However, these estimates are only looking at the core genome of each tribe. There may be considerable diversity within the population, such that sequencing of additional SAGs would identify additional genes. The purpose of this module is to examine the size of the core- and pan-genomes for a tribe as the number of sampled tribes changes.\n",
    "\n",
    "For this first pass, I will use COG categories from IMG. The core genome will be computed as all COG categories shared by all genomes, while the pan-genome will contain all COGs found in at least one genome. As in the above scenarios, I will do a worst-case analysis\n",
    "\n",
    "The code below imports the COG abundance data."
   ]
  },
  {
   "cell_type": "code",
   "execution_count": 16,
   "metadata": {
    "collapsed": true
   },
   "outputs": [],
   "source": [
    "[cogAbundance, taxonClass, tribes] = mg.importCogAndTaxonomy(externalDataDir, 'cogAbundance.csv', 'taxonomySAGs.csv')"
   ]
  },
  {
   "cell_type": "markdown",
   "metadata": {},
   "source": [
    "We have 6 samples from the tribe acI-B1. Consider if we had sampled only two genomes. This function computes the size of the core- and pan-genomes for all possible pairings and returns the worst case scenario, e.g., the smallest pan-genome."
   ]
  },
  {
   "cell_type": "code",
   "execution_count": 17,
   "metadata": {
    "collapsed": false
   },
   "outputs": [
    {
     "name": "stdout",
     "output_type": "stream",
     "text": [
      "                       Core Genome Pan Genome\n",
      "(AAA023D18, AAA027J17)         300        755\n",
      "(AAA023D18, AAA027L06)         390        805\n",
      "(AAA023D18, AAA028A23)         312        697\n",
      "(AAA023D18, AAA278I18)         342        710\n",
      "(AAA023D18, AB141P03)          255        613\n",
      "(AAA027J17, AAA027L06)         531        801\n",
      "(AAA027J17, AAA028A23)         411        735\n",
      "(AAA027J17, AAA278I18)         427        762\n",
      "(AAA027J17, AB141P03)          264        741\n",
      "(AAA027L06, AAA028A23)         520        766\n",
      "(AAA027L06, AAA278I18)         530        799\n",
      "(AAA027L06, AB141P03)          362        783\n",
      "(AAA028A23, AAA278I18)         414        729\n",
      "(AAA028A23, AB141P03)          321        638\n",
      "(AAA278I18, AB141P03)          302        700\n",
      "Sampling tribe acI-B1 with sample size 2.\n",
      "The smallest pan genome is: 613\n",
      "The largest pan genome is: 805\n"
     ]
    }
   ],
   "source": [
    "mg.worstCasePanGenome(externalDataDir, cogAbundance, taxonClass, tribes, 'acI-B1', 2)"
   ]
  },
  {
   "cell_type": "markdown",
   "metadata": {},
   "source": [
    "The smallest pan-gemome contains 613 genes, which is 76% of the largest (805 genes). Let's see how the size of the smallest pan-genome varies for different sample sizes. We'll also plot the core genome size for the worst-case sample."
   ]
  },
  {
   "cell_type": "code",
   "execution_count": 18,
   "metadata": {
    "collapsed": false
   },
   "outputs": [
    {
     "data": {
      "image/png": "[encoded data removed]",
      "text/plain": [
       "<matplotlib.figure.Figure at 0x110d08950>"
      ]
     },
     "metadata": {},
     "output_type": "display_data"
    }
   ],
   "source": [
    "[cogAbundance, taxonClass, tribes] = mg.importCogAndTaxonomy(externalDataDir, 'cogAbundance.csv', 'taxonomySAGs.csv')\n",
    "mg.allWorstCasePanGenome(externalDataDir, cogAbundance, taxonClass, tribes, 'acI-B1')"
   ]
  },
  {
   "cell_type": "markdown",
   "metadata": {},
   "source": [
    "We may be close to fully sampling the acI-B1 pan-genome, as the curve appears to be leveling off. How about the acI-A7 tribe, for which we have four genomes?"
   ]
  },
  {
   "cell_type": "code",
   "execution_count": 19,
   "metadata": {
    "collapsed": false
   },
   "outputs": [
    {
     "data": {
      "image/png": "[encoded data removed]",
      "text/plain": [
       "<matplotlib.figure.Figure at 0x110e3b990>"
      ]
     },
     "metadata": {},
     "output_type": "display_data"
    }
   ],
   "source": [
    "[cogAbundance, taxonClass, tribes] = mg.importCogAndTaxonomy(externalDataDir, 'cogAbundance.csv', 'taxonomySAGs.csv')\n",
    "mg.allWorstCasePanGenome(externalDataDir, cogAbundance, taxonClass, tribes, 'acI-A7')"
   ]
  },
  {
   "cell_type": "markdown",
   "metadata": {},
   "source": [
    "We could use some more samples."
   ]
  }
 ],
 "metadata": {
  "kernelspec": {
   "display_name": "Python 2",
   "language": "python",
   "name": "python2"
  },
  "language_info": {
   "codemirror_mode": {
    "name": "ipython",
    "version": 2
   },
   "file_extension": ".py",
   "mimetype": "text/x-python",
   "name": "python",
   "nbconvert_exporter": "python",
   "pygments_lexer": "ipython2",
   "version": "2.7.10"
  }
 },
 "nbformat": 4,
 "nbformat_minor": 0
}
