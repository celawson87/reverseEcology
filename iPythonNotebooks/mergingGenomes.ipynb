{
 "cells": [
  {
   "cell_type": "markdown",
   "metadata": {},
   "source": [
    "# Merging of Metabolic Network Graphs\n",
    "\n",
    "The purpose of this notebook is to identify criteria for classifying GFMs (without 16S sequence data) as members of a particular tribe, based on shared amino acid identity (ANI). The metabolic models of these genomes will then be merged to give a model which is better representative of a particular tribe. Our reverse ecology analysis will then be performed on these merged models."
   ]
  },
  {
   "cell_type": "markdown",
   "metadata": {},
   "source": [
    "## Merging Genomes Based on ANI\n",
    "Pairwise ANI were computed by Sarah using the method in Goris et al IJSEM 2007. This notebook examines pairwise ANI values between all members within a tribe to identify a minimum ANI criterion for adding a new genome to the tribe. Then I identify genomes which are candidates for inclusion within a tribe (based on phylogeny) and determine whether or not they can be included within a tribe (based on ANI).\n",
    "\n",
    "#### References\n",
    "1. Konstantinidis, K. T., & Tiedje, J. M. (2005). Genomic insights that advance the species definition for prokaryotes. Proceedings of the National Academy of Sciences, 102(7), 2567–2572.\n",
    "2. Goris, J., Konstantinidis, K. T., Klappenbach, J. A., Coenye, T., Vandamme, P., & Tiedje, J. M. (2007). DNA-DNA hybridization values and their relationship to whole-genome sequence similarities. International Journal of Systematic and Evolutionary Microbiology, 57(1), 81–91.\n",
    "\n",
    "#### Note\n",
    "I currently do not have ANI computed for the newest CSP. When I have this data from Sarah, update this code and functions to rely on a single taxonomySAGs.file\n",
    "\n",
    "The first chunk of code identifies imports the Python packages necessary for this analysis."
   ]
  },
  {
   "cell_type": "code",
   "execution_count": 1,
   "metadata": {
    "collapsed": false
   },
   "outputs": [],
   "source": [
    "# Import special features for iPython\n",
    "import sys\n",
    "sys.path.append('../Python')\n",
    "import matplotlib\n",
    "%matplotlib inline\n",
    "\n",
    "# Import Python modules \n",
    "# These custom-written modules should have been included with the package\n",
    "# distribution. \n",
    "import pairwiseANIFunctions as ANI\n",
    "\n",
    "# Define local folder structure for data input and processing.\n",
    "externalDataDir = 'ExternalData'"
   ]
  },
  {
   "cell_type": "markdown",
   "metadata": {},
   "source": [
    "### All SAGs and GFMs\n",
    "\n",
    "I want to identify an ANI cutoff, such that any two genomes belonging to the same tribe have an ANI greater than this value. The function below computes the minimum and maximum pairwise ANI for all genomes belonging to the same tribe."
   ]
  },
  {
   "cell_type": "code",
   "execution_count": 2,
   "metadata": {
    "collapsed": false
   },
   "outputs": [
    {
     "data": {
      "text/html": [
       "<div style=\"max-height:1000px;max-width:1500px;overflow:auto;\">\n",
       "<table border=\"1\" class=\"dataframe\">\n",
       "  <thead>\n",
       "    <tr style=\"text-align: right;\">\n",
       "      <th></th>\n",
       "      <th>Samples</th>\n",
       "      <th>Num Samples</th>\n",
       "      <th>Max ANI</th>\n",
       "      <th>Min ANI</th>\n",
       "    </tr>\n",
       "  </thead>\n",
       "  <tbody>\n",
       "    <tr>\n",
       "      <th>Myco</th>\n",
       "      <td>[MEint.metabat.10152]</td>\n",
       "      <td>1</td>\n",
       "      <td>NaN</td>\n",
       "      <td>NaN</td>\n",
       "    </tr>\n",
       "    <tr>\n",
       "      <th>acI-A1</th>\n",
       "      <td>[AAA027M14, AAA278O22]</td>\n",
       "      <td>2</td>\n",
       "      <td>79.71</td>\n",
       "      <td>79.56</td>\n",
       "    </tr>\n",
       "    <tr>\n",
       "      <th>acI-A6</th>\n",
       "      <td>[AAA028I14]</td>\n",
       "      <td>1</td>\n",
       "      <td>NaN</td>\n",
       "      <td>NaN</td>\n",
       "    </tr>\n",
       "    <tr>\n",
       "      <th>acI-A7</th>\n",
       "      <td>[AAA023J06, AAA024D14, AAA041L13, AAA044N04]</td>\n",
       "      <td>4</td>\n",
       "      <td>96.28</td>\n",
       "      <td>87.13</td>\n",
       "    </tr>\n",
       "    <tr>\n",
       "      <th>acI-B1</th>\n",
       "      <td>[AAA023D18, AAA027J17, AAA027L06, AAA028A23, A...</td>\n",
       "      <td>6</td>\n",
       "      <td>99.1</td>\n",
       "      <td>79.06</td>\n",
       "    </tr>\n",
       "    <tr>\n",
       "      <th>acI-B2</th>\n",
       "      <td>[TBepi.metabat.2754, TBhypo.metabat.680]</td>\n",
       "      <td>2</td>\n",
       "      <td>99.51</td>\n",
       "      <td>99.48</td>\n",
       "    </tr>\n",
       "    <tr>\n",
       "      <th>acI-B4</th>\n",
       "      <td>[AAA044D11, MEint.metabat.4252]</td>\n",
       "      <td>2</td>\n",
       "      <td>84.45</td>\n",
       "      <td>84.36</td>\n",
       "    </tr>\n",
       "    <tr>\n",
       "      <th>acSTL-A1</th>\n",
       "      <td>[AAA027D23, MEint.metabat.6647]</td>\n",
       "      <td>2</td>\n",
       "      <td>72.53</td>\n",
       "      <td>71.9</td>\n",
       "    </tr>\n",
       "    <tr>\n",
       "      <th>acTH1-A1</th>\n",
       "      <td>[AAA028N15]</td>\n",
       "      <td>1</td>\n",
       "      <td>NaN</td>\n",
       "      <td>NaN</td>\n",
       "    </tr>\n",
       "  </tbody>\n",
       "</table>\n",
       "</div>"
      ],
      "text/plain": [
       "                                                    Samples Num Samples  \\\n",
       "Myco                                  [MEint.metabat.10152]           1   \n",
       "acI-A1                               [AAA027M14, AAA278O22]           2   \n",
       "acI-A6                                          [AAA028I14]           1   \n",
       "acI-A7         [AAA023J06, AAA024D14, AAA041L13, AAA044N04]           4   \n",
       "acI-B1    [AAA023D18, AAA027J17, AAA027L06, AAA028A23, A...           6   \n",
       "acI-B2             [TBepi.metabat.2754, TBhypo.metabat.680]           2   \n",
       "acI-B4                      [AAA044D11, MEint.metabat.4252]           2   \n",
       "acSTL-A1                    [AAA027D23, MEint.metabat.6647]           2   \n",
       "acTH1-A1                                        [AAA028N15]           1   \n",
       "\n",
       "         Max ANI Min ANI  \n",
       "Myco         NaN     NaN  \n",
       "acI-A1     79.71   79.56  \n",
       "acI-A6       NaN     NaN  \n",
       "acI-A7     96.28   87.13  \n",
       "acI-B1      99.1   79.06  \n",
       "acI-B2     99.51   99.48  \n",
       "acI-B4     84.45   84.36  \n",
       "acSTL-A1   72.53    71.9  \n",
       "acTH1-A1     NaN     NaN  "
      ]
     },
     "execution_count": 2,
     "metadata": {},
     "output_type": "execute_result"
    }
   ],
   "source": [
    "[pairwiseANI, taxonClass, tribes] = ANI.importANIandTaxonomy(externalDataDir, 'ANI_out', 'taxonomy.csv')\n",
    "ANI.sameTribePairwiseANI(externalDataDir, pairwiseANI, taxonClass, tribes)"
   ]
  },
  {
   "cell_type": "markdown",
   "metadata": {},
   "source": [
    "These data indicate considerable variation between members of the same tribe, and suggest a cutoff of 71.9% ANI for inclusion of a genome in a given tribe. But before we get carried away, let's evaluate the maximum pairwise ANI between all members of different tribes as well."
   ]
  },
  {
   "cell_type": "code",
   "execution_count": 3,
   "metadata": {
    "collapsed": false
   },
   "outputs": [
    {
     "data": {
      "text/html": [
       "<div style=\"max-height:1000px;max-width:1500px;overflow:auto;\">\n",
       "<table border=\"1\" class=\"dataframe\">\n",
       "  <thead>\n",
       "    <tr style=\"text-align: right;\">\n",
       "      <th></th>\n",
       "      <th>Max ANI</th>\n",
       "      <th>Min ANI</th>\n",
       "    </tr>\n",
       "  </thead>\n",
       "  <tbody>\n",
       "    <tr>\n",
       "      <th>Myco</th>\n",
       "      <td>83.69</td>\n",
       "      <td>0</td>\n",
       "    </tr>\n",
       "    <tr>\n",
       "      <th>acI-A1</th>\n",
       "      <td>80.92</td>\n",
       "      <td>0</td>\n",
       "    </tr>\n",
       "    <tr>\n",
       "      <th>acI-A6</th>\n",
       "      <td>81.73</td>\n",
       "      <td>64.75</td>\n",
       "    </tr>\n",
       "    <tr>\n",
       "      <th>acI-A7</th>\n",
       "      <td>85.26</td>\n",
       "      <td>63.25</td>\n",
       "    </tr>\n",
       "    <tr>\n",
       "      <th>acI-B1</th>\n",
       "      <td>85.79</td>\n",
       "      <td>0</td>\n",
       "    </tr>\n",
       "    <tr>\n",
       "      <th>acI-B2</th>\n",
       "      <td>74.08</td>\n",
       "      <td>0</td>\n",
       "    </tr>\n",
       "    <tr>\n",
       "      <th>acI-B4</th>\n",
       "      <td>81.27</td>\n",
       "      <td>0</td>\n",
       "    </tr>\n",
       "    <tr>\n",
       "      <th>acSTL-A1</th>\n",
       "      <td>96.42</td>\n",
       "      <td>0</td>\n",
       "    </tr>\n",
       "    <tr>\n",
       "      <th>acTH1-A1</th>\n",
       "      <td>96.13</td>\n",
       "      <td>0</td>\n",
       "    </tr>\n",
       "  </tbody>\n",
       "</table>\n",
       "</div>"
      ],
      "text/plain": [
       "         Max ANI Min ANI\n",
       "Myco       83.69       0\n",
       "acI-A1     80.92       0\n",
       "acI-A6     81.73   64.75\n",
       "acI-A7     85.26   63.25\n",
       "acI-B1     85.79       0\n",
       "acI-B2     74.08       0\n",
       "acI-B4     81.27       0\n",
       "acSTL-A1   96.42       0\n",
       "acTH1-A1   96.13       0"
      ]
     },
     "execution_count": 3,
     "metadata": {},
     "output_type": "execute_result"
    }
   ],
   "source": [
    "[pairwiseANI, taxonClass, tribes] = ANI.importANIandTaxonomy(externalDataDir, 'ANI_out', 'taxonomy.csv')\n",
    "ANI.diffTribePairwiseANI(externalDataDir, pairwiseANI, taxonClass, tribes)"
   ]
  },
  {
   "cell_type": "markdown",
   "metadata": {},
   "source": [
    "These data suggest that that requiring a similarity of 71.9% ANI for membership in a tribe is far too low, as members of different tribes can have pairwise ANI as high as 96%.\n",
    "\n",
    "### SAGs Only\n",
    "\n",
    "Let's see what happens when we run the analysis using only our SAGs."
   ]
  },
  {
   "cell_type": "code",
   "execution_count": 4,
   "metadata": {
    "collapsed": false
   },
   "outputs": [
    {
     "data": {
      "text/html": [
       "<div style=\"max-height:1000px;max-width:1500px;overflow:auto;\">\n",
       "<table border=\"1\" class=\"dataframe\">\n",
       "  <thead>\n",
       "    <tr style=\"text-align: right;\">\n",
       "      <th></th>\n",
       "      <th>Samples</th>\n",
       "      <th>Num Samples</th>\n",
       "      <th>Max ANI</th>\n",
       "      <th>Min ANI</th>\n",
       "    </tr>\n",
       "  </thead>\n",
       "  <tbody>\n",
       "    <tr>\n",
       "      <th>acI-A1</th>\n",
       "      <td>[AAA027M14, AAA278O22]</td>\n",
       "      <td>2</td>\n",
       "      <td>79.71</td>\n",
       "      <td>79.56</td>\n",
       "    </tr>\n",
       "    <tr>\n",
       "      <th>acI-A6</th>\n",
       "      <td>[AAA028I14]</td>\n",
       "      <td>1</td>\n",
       "      <td>NaN</td>\n",
       "      <td>NaN</td>\n",
       "    </tr>\n",
       "    <tr>\n",
       "      <th>acI-A7</th>\n",
       "      <td>[AAA023J06, AAA024D14, AAA041L13, AAA044N04]</td>\n",
       "      <td>4</td>\n",
       "      <td>96.28</td>\n",
       "      <td>87.13</td>\n",
       "    </tr>\n",
       "    <tr>\n",
       "      <th>acI-B1</th>\n",
       "      <td>[AAA023D18, AAA027J17, AAA027L06, AAA028A23, A...</td>\n",
       "      <td>6</td>\n",
       "      <td>99.1</td>\n",
       "      <td>79.06</td>\n",
       "    </tr>\n",
       "    <tr>\n",
       "      <th>acI-B4</th>\n",
       "      <td>[AAA044D11]</td>\n",
       "      <td>1</td>\n",
       "      <td>NaN</td>\n",
       "      <td>NaN</td>\n",
       "    </tr>\n",
       "    <tr>\n",
       "      <th>acSTL-A1</th>\n",
       "      <td>[AAA027D23]</td>\n",
       "      <td>1</td>\n",
       "      <td>NaN</td>\n",
       "      <td>NaN</td>\n",
       "    </tr>\n",
       "    <tr>\n",
       "      <th>acTH1-A1</th>\n",
       "      <td>[AAA028N15]</td>\n",
       "      <td>1</td>\n",
       "      <td>NaN</td>\n",
       "      <td>NaN</td>\n",
       "    </tr>\n",
       "  </tbody>\n",
       "</table>\n",
       "</div>"
      ],
      "text/plain": [
       "                                                    Samples Num Samples  \\\n",
       "acI-A1                               [AAA027M14, AAA278O22]           2   \n",
       "acI-A6                                          [AAA028I14]           1   \n",
       "acI-A7         [AAA023J06, AAA024D14, AAA041L13, AAA044N04]           4   \n",
       "acI-B1    [AAA023D18, AAA027J17, AAA027L06, AAA028A23, A...           6   \n",
       "acI-B4                                          [AAA044D11]           1   \n",
       "acSTL-A1                                        [AAA027D23]           1   \n",
       "acTH1-A1                                        [AAA028N15]           1   \n",
       "\n",
       "         Max ANI Min ANI  \n",
       "acI-A1     79.71   79.56  \n",
       "acI-A6       NaN     NaN  \n",
       "acI-A7     96.28   87.13  \n",
       "acI-B1      99.1   79.06  \n",
       "acI-B4       NaN     NaN  \n",
       "acSTL-A1     NaN     NaN  \n",
       "acTH1-A1     NaN     NaN  "
      ]
     },
     "execution_count": 4,
     "metadata": {},
     "output_type": "execute_result"
    }
   ],
   "source": [
    "[pairwiseANI, taxonClass, tribes] = ANI.importANIandTaxonomy(externalDataDir, 'ANI_out', 'taxonomySAGsforANI.csv')\n",
    "ANI.sameTribePairwiseANI(externalDataDir, pairwiseANI, taxonClass, tribes)"
   ]
  },
  {
   "cell_type": "code",
   "execution_count": 5,
   "metadata": {
    "collapsed": false
   },
   "outputs": [
    {
     "data": {
      "text/html": [
       "<div style=\"max-height:1000px;max-width:1500px;overflow:auto;\">\n",
       "<table border=\"1\" class=\"dataframe\">\n",
       "  <thead>\n",
       "    <tr style=\"text-align: right;\">\n",
       "      <th></th>\n",
       "      <th>Max ANI</th>\n",
       "      <th>Min ANI</th>\n",
       "    </tr>\n",
       "  </thead>\n",
       "  <tbody>\n",
       "    <tr>\n",
       "      <th>acI-A1</th>\n",
       "      <td>80.92</td>\n",
       "      <td>0</td>\n",
       "    </tr>\n",
       "    <tr>\n",
       "      <th>acI-A6</th>\n",
       "      <td>79.07</td>\n",
       "      <td>64.75</td>\n",
       "    </tr>\n",
       "    <tr>\n",
       "      <th>acI-A7</th>\n",
       "      <td>85.26</td>\n",
       "      <td>66.4</td>\n",
       "    </tr>\n",
       "    <tr>\n",
       "      <th>acI-B1</th>\n",
       "      <td>85.79</td>\n",
       "      <td>67.83</td>\n",
       "    </tr>\n",
       "    <tr>\n",
       "      <th>acI-B4</th>\n",
       "      <td>78.73</td>\n",
       "      <td>71.03</td>\n",
       "    </tr>\n",
       "    <tr>\n",
       "      <th>acSTL-A1</th>\n",
       "      <td>96.42</td>\n",
       "      <td>67.51</td>\n",
       "    </tr>\n",
       "    <tr>\n",
       "      <th>acTH1-A1</th>\n",
       "      <td>96.13</td>\n",
       "      <td>68.26</td>\n",
       "    </tr>\n",
       "  </tbody>\n",
       "</table>\n",
       "</div>"
      ],
      "text/plain": [
       "         Max ANI Min ANI\n",
       "acI-A1     80.92       0\n",
       "acI-A6     79.07   64.75\n",
       "acI-A7     85.26    66.4\n",
       "acI-B1     85.79   67.83\n",
       "acI-B4     78.73   71.03\n",
       "acSTL-A1   96.42   67.51\n",
       "acTH1-A1   96.13   68.26"
      ]
     },
     "execution_count": 5,
     "metadata": {},
     "output_type": "execute_result"
    }
   ],
   "source": [
    "ANI.diffTribePairwiseANI(externalDataDir, pairwiseANI, taxonClass, tribes)"
   ]
  },
  {
   "cell_type": "markdown",
   "metadata": {},
   "source": [
    "The ANI obtained from within tribe calculations has increaed to 79%. But ANI from across tribes suggest the cutoff is still too low, as members of different tribes can still have pairwise ANI as high as 96%."
   ]
  },
  {
   "cell_type": "markdown",
   "metadata": {},
   "source": [
    "### Tribe-specific Cut-offs\n",
    "\n",
    "Instead let's use a tribe-specific ANI cutoff. Using sequences obtained from SAGs only, the cutoffs will be given by the 'Min ANI' value in the following table:\n",
    "<table>\n",
    "    <tr> <td>Tribe</td> <td>Max ANI</td> <td>Min ANI</td> </tr>\n",
    "    <tr> <td>acI-A1</td> <td>79.71</td> <td>79.56</td> </tr>\n",
    "    <tr> <td>acI-A7</td> <td>96.28</td> <td>87.13</td> </tr>\n",
    "    <tr> <td>acI-B1</td> <td>99.1</td> <td>79.06</td> </tr>\n",
    "</table>\n",
    "For example, a new candidate genome for tribe acI-A1 must have pairwise ANI of 79.56 or greater to the existing acI-A1 genomes.\n",
    "\n",
    "Take a look at our phylogenetic tree and identify opportunities to merge genomes. A new genome which gets added to the tribe must:\n",
    "* have ANI above the tribe-specific cutoff\n",
    "* maintain the tribe as a monophylogenetic group\n",
    "\n",
    "![Phylogenetic tree](imageFiles/2014-12-01 Actinos Tree-RAxML.png)\n",
    "\n",
    "First we will define a function to compute the minimum pairwise ANI within a particular tribe. The function will also compute the minimum pairwise ANI with the new genome added. If this value is lower than the first, then the additional genome is too divergent to be added to the tribe."
   ]
  },
  {
   "cell_type": "markdown",
   "metadata": {},
   "source": [
    "One candidate for addition to a tribe is MEint2297 to tribe acI-A1. Let's check it out:"
   ]
  },
  {
   "cell_type": "code",
   "execution_count": 6,
   "metadata": {
    "collapsed": false
   },
   "outputs": [
    {
     "name": "stdout",
     "output_type": "stream",
     "text": [
      "                    AAA027M14  AAA278O22  MEint.metabat.2297\n",
      "AAA027M14                 NaN      79.56               75.47\n",
      "AAA278O22               79.71        NaN               75.62\n",
      "MEint.metabat.2297      75.66      75.52                 NaN\n",
      "79.56\n",
      "\n",
      "The ANI cutoff for the tribe acI-A1 is: 79.56\n",
      "\n",
      "When genome MEint.metabat.2297 is added, the min pairwise ANI becomes: 75.47\n"
     ]
    }
   ],
   "source": [
    "[pairwiseANI, taxonClass, tribes] = ANI.importANIandTaxonomy(externalDataDir, 'ANI_out', 'taxonomy.csv')\n",
    "ANI.addGenomeToTribe(pairwiseANI, taxonClass, tribes, 'acI-A1', 'MEint.metabat.2297')"
   ]
  },
  {
   "cell_type": "markdown",
   "metadata": {},
   "source": [
    "The GFM has a smaller pairwise ANI than the acI-A1 SAGs, so it will not get added to the acI-A1 tribe.\n",
    "\n",
    "Another candidate for inclusion is MEint.283 to the tribe acI-B1."
   ]
  },
  {
   "cell_type": "code",
   "execution_count": 7,
   "metadata": {
    "collapsed": false
   },
   "outputs": [
    {
     "name": "stdout",
     "output_type": "stream",
     "text": [
      "                    AAA023D18  AAA027J17  AAA027L06  AAA028A23  AAA278I18  \\\n",
      "AAA023D18                 NaN      80.03      80.04      80.32      80.94   \n",
      "AAA027J17               79.88        NaN      81.85      81.88      80.10   \n",
      "AAA027L06               80.01      81.76        NaN      99.08      79.44   \n",
      "AAA028A23               80.01      81.74      99.10        NaN      79.32   \n",
      "AAA278I18               80.96      80.17      79.60      79.57        NaN   \n",
      "AB141P03                79.56      80.88      96.44      96.36      79.13   \n",
      "MEint.metabat.6647      62.87      69.79      69.52      71.68      70.08   \n",
      "\n",
      "                    AB141P03  MEint.metabat.6647  \n",
      "AAA023D18              79.45               64.43  \n",
      "AAA027J17              80.68               71.68  \n",
      "AAA027L06              96.46               68.89  \n",
      "AAA028A23              96.41               71.73  \n",
      "AAA278I18              79.06               68.24  \n",
      "AB141P03                 NaN               69.08  \n",
      "MEint.metabat.6647     68.22                 NaN  \n",
      "79.06\n",
      "\n",
      "The ANI cutoff for the tribe acI-B1 is: 79.06\n",
      "\n",
      "When genome MEint.metabat.6647 is added, the min pairwise ANI becomes: 62.87\n"
     ]
    }
   ],
   "source": [
    "[pairwiseANI, taxonClass, tribes] = ANI.importANIandTaxonomy(externalDataDir, 'ANI_out', 'taxonomy.csv')\n",
    "ANI.addGenomeToTribe(pairwiseANI, taxonClass, tribes, 'acI-B1', 'MEint.metabat.6647')"
   ]
  },
  {
   "cell_type": "markdown",
   "metadata": {},
   "source": [
    "Once again, the GFM has a smaller pairwise ANI than the acI-B1 SAGs, so this genome will not get added to the acI-B1 tribe."
   ]
  },
  {
   "cell_type": "markdown",
   "metadata": {},
   "source": [
    "### Cases Involving a Tribe with a Single SAG\n",
    "\n",
    "For some tribes we only have a single SAG, such as AAA044-D11 for tribe acI-B4. This SAG forms a monophyletic group with the GFM MEint4252. This monophylogeny was used to assign MEint4252 to tribe acI-B4. It would be nice to have some more confidence in this assignment. We could use the smallest pairwise ANI from two samples from the same tribe: the pairwise ANI between any new sample and a SAG would have to be greater than this value.\n",
    "\n",
    "The function below takes two inputs:\n",
    "* existingGenomes - one or more genomes defined as belonging to the same tribe\n",
    "* newGenome - the genome being considered for addition to a cluster containing existingGenomes\n",
    "\n",
    "and computers the smallest pairwise ANI among all samples belonging to the same tribe. The function will also compute the minimum pairwise ANI with the new genome added. If this value is lower than the first, then the additional genome is too divergent to be added to the tribe."
   ]
  },
  {
   "cell_type": "markdown",
   "metadata": {},
   "source": [
    "Let's check out AAA044-D11 and MEint4252:"
   ]
  },
  {
   "cell_type": "code",
   "execution_count": 8,
   "metadata": {
    "collapsed": false
   },
   "outputs": [
    {
     "name": "stdout",
     "output_type": "stream",
     "text": [
      "\n",
      "The smallest ANI cutoff for any tribe is: 79.06\n",
      "\n",
      "When genome ['MEint.metabat.4252'] is added, the min pairwise ANI among all samples: 84.36\n"
     ]
    }
   ],
   "source": [
    "[pairwiseANI, taxonClass, tribes] = ANI.importANIandTaxonomy(externalDataDir, 'ANI_out', 'taxonomySAGsforANI.csv')\n",
    "ANI.compareSamples(externalDataDir, pairwiseANI, taxonClass, tribes, ['AAA044D11'], ['MEint.metabat.4252'])"
   ]
  },
  {
   "cell_type": "markdown",
   "metadata": {},
   "source": [
    "So we can consider MEint4252 to belong to the same tribe as AAA044-D11. The phylogenetic tree suggests that TBepi.4208 is also a candidate for this tribe:"
   ]
  },
  {
   "cell_type": "code",
   "execution_count": 9,
   "metadata": {
    "collapsed": false
   },
   "outputs": [
    {
     "name": "stdout",
     "output_type": "stream",
     "text": [
      "\n",
      "The smallest ANI cutoff for any tribe is: 79.06\n",
      "\n",
      "When genome ['TBepi.metabat.4208'] is added, the min pairwise ANI among all samples: 76.32\n"
     ]
    }
   ],
   "source": [
    "[pairwiseANI, taxonClass, tribes] = ANI.importANIandTaxonomy(externalDataDir, 'ANI_out', 'taxonomySAGsforANI.csv')\n",
    "ANI.compareSamples(externalDataDir, pairwiseANI, taxonClass, tribes, ['AAA044D11', 'MEint.metabat.4252'], ['TBepi.metabat.4208'])"
   ]
  },
  {
   "cell_type": "markdown",
   "metadata": {},
   "source": [
    "So the GFM TBepi4208 is too divergent to be added to this cluster.\n",
    "\n",
    "Another such cluster is AAA027D23 and MEint.6647:"
   ]
  },
  {
   "cell_type": "code",
   "execution_count": 10,
   "metadata": {
    "collapsed": false
   },
   "outputs": [
    {
     "name": "stdout",
     "output_type": "stream",
     "text": [
      "\n",
      "The smallest ANI cutoff for any tribe is: 79.06\n",
      "\n",
      "When genome ['TBepi.metabat.4208'] is added, the min pairwise ANI among all samples: 76.32\n"
     ]
    }
   ],
   "source": [
    "[pairwiseANI, taxonClass, tribes] = ANI.importANIandTaxonomy(externalDataDir, 'ANI_out', 'taxonomySAGsforANI.csv')\n",
    "ANI.compareSamples(externalDataDir, pairwiseANI, taxonClass, tribes, ['AAA044D11', 'MEint.metabat.4252'], ['TBepi.metabat.4208'])"
   ]
  },
  {
   "cell_type": "markdown",
   "metadata": {},
   "source": [
    "So those two genomes probably represent separate tribes."
   ]
  },
  {
   "cell_type": "markdown",
   "metadata": {},
   "source": [
    "### Constructing Tribes de novo\n",
    "\n",
    "The above approach could also be used to cluster GFMs into tribes in the absence of SAGs. This would enable us to declare multiple GFMs as belonging to the same tribe, but without knowing what specific tribe it might be (e.g., within the acIV and acV lineages which currently lack GFMs.) \n",
    "\n",
    "For example, the acIV lineage contains a monophyletic group of MEint.1091 and MEint.14260. Let's compare these two genomes:"
   ]
  },
  {
   "cell_type": "code",
   "execution_count": 11,
   "metadata": {
    "collapsed": false
   },
   "outputs": [
    {
     "name": "stdout",
     "output_type": "stream",
     "text": [
      "\n",
      "The smallest ANI cutoff for any tribe is: 79.06\n",
      "\n",
      "When genome ['MEint.metabat.14260'] is added, the min pairwise ANI among all samples: 75.1\n"
     ]
    }
   ],
   "source": [
    "[pairwiseANI, taxonClass, tribes] = ANI.importANIandTaxonomy(externalDataDir,'ANI_out', 'taxonomySAGsforANI.csv')\n",
    "ANI.compareSamples(externalDataDir,pairwiseANI, taxonClass, tribes, ['MEint.metabat.1091'], ['MEint.metabat.14260'])"
   ]
  },
  {
   "cell_type": "markdown",
   "metadata": {},
   "source": [
    "This suggests that these two genomes belong to different tribes. Given the branch structure within the acIV lineage, this implies each GFM belongs to its own tribe. However, the \"field guide\" identifies six tribes and we have seven samples, so this conclusion is somewhat suspect.\n",
    "\n",
    "The acV lineage also has some monophyletic clusters:  \n",
    "TBepi.2973 and TBhypo.3180  \n",
    "TBhypo.3219 and TBepi.149  \n",
    "TBhypo.4163 and TBhypo.3765  "
   ]
  },
  {
   "cell_type": "code",
   "execution_count": 12,
   "metadata": {
    "collapsed": false
   },
   "outputs": [
    {
     "name": "stdout",
     "output_type": "stream",
     "text": [
      "\n",
      "The smallest ANI cutoff for any tribe is: 79.06\n",
      "\n",
      "When genome ['TBhypo.metabat.3180'] is added, the min pairwise ANI among all samples: 99.77\n"
     ]
    }
   ],
   "source": [
    "[pairwiseANI, taxonClass, tribes] = ANI.importANIandTaxonomy(externalDataDir,'ANI_out', 'taxonomySAGsforANI.csv')\n",
    "ANI.compareSamples(externalDataDir,pairwiseANI, taxonClass, tribes, ['TBepi.metabat.2973'], ['TBhypo.metabat.3180'])"
   ]
  },
  {
   "cell_type": "code",
   "execution_count": 13,
   "metadata": {
    "collapsed": false
   },
   "outputs": [
    {
     "name": "stdout",
     "output_type": "stream",
     "text": [
      "\n",
      "The smallest ANI cutoff for any tribe is: 79.06\n",
      "\n",
      "When genome ['TBepi.metabat.149'] is added, the min pairwise ANI among all samples: 99.2\n"
     ]
    }
   ],
   "source": [
    "[pairwiseANI, taxonClass, tribes] = ANI.importANIandTaxonomy(externalDataDir,'ANI_out', 'taxonomySAGsforANI.csv')\n",
    "ANI.compareSamples(externalDataDir,pairwiseANI, taxonClass, tribes, ['TBhypo.metabat.3219'], ['TBepi.metabat.149'])"
   ]
  },
  {
   "cell_type": "code",
   "execution_count": 14,
   "metadata": {
    "collapsed": false
   },
   "outputs": [
    {
     "name": "stdout",
     "output_type": "stream",
     "text": [
      "\n",
      "The smallest ANI cutoff for any tribe is: 79.06\n",
      "\n",
      "When genome ['TBhypo.metabat.3765'] is added, the min pairwise ANI among all samples: 99.85\n"
     ]
    }
   ],
   "source": [
    "[pairwiseANI, taxonClass, tribes] = ANI.importANIandTaxonomy(externalDataDir,'ANI_out', 'taxonomySAGsforANI.csv')\n",
    "ANI.compareSamples(externalDataDir,pairwiseANI, taxonClass, tribes, ['TBepi.metabat.4163'], ['TBhypo.metabat.3765'])"
   ]
  },
  {
   "cell_type": "markdown",
   "metadata": {},
   "source": [
    "Based on these results, each pair of genomes can be merged into a single tribe. The pair (TBepi.2973 and TBhypo.3180  ) is deepest within the acIV lineage (is that the correct term?). Let's see if the GFM TBhypo.9906 can be merged with this pair:"
   ]
  },
  {
   "cell_type": "code",
   "execution_count": 15,
   "metadata": {
    "collapsed": false
   },
   "outputs": [
    {
     "name": "stdout",
     "output_type": "stream",
     "text": [
      "\n",
      "The smallest ANI cutoff for any tribe is: 79.06\n",
      "\n",
      "When genome ['TBhypo.metabat.9906'] is added, the min pairwise ANI among all samples: 71.19\n"
     ]
    }
   ],
   "source": [
    "[pairwiseANI, taxonClass, tribes] = ANI.importANIandTaxonomy(externalDataDir,'ANI_out', 'taxonomySAGsforANI.csv')\n",
    "ANI.compareSamples(externalDataDir,pairwiseANI, taxonClass, tribes, ['TBepi.metabat.2973', 'TBhypo.metabat.3180'], ['TBhypo.metabat.9906'])"
   ]
  },
  {
   "cell_type": "markdown",
   "metadata": {},
   "source": [
    "So that genome belongs to a separate tribe."
   ]
  },
  {
   "cell_type": "markdown",
   "metadata": {},
   "source": [
    "### Conclusions\n",
    "\n",
    "In the phylogenetic tree below, I have circled those genomes for which metabolic models can be merged.\n",
    "\n",
    "![Phylogenetic tree](imageFiles/2014-12-01 Actinos Tree-RAxML-Merged.png)"
   ]
  },
  {
   "cell_type": "markdown",
   "metadata": {},
   "source": [
    "### Other Ideas\n",
    "An alternative would be to look at 16S ANI vs whole-genome ANI for each tribe to see if there is a correlation. We know 16S ANI for each tribe from the field guide, so a correlation could also be used to identify tribe-specific cutoffs where we have no (or only one) SAG. I believe Sarah and Sarahi looked at this in their manuscript ... "
   ]
  },
  {
   "cell_type": "markdown",
   "metadata": {},
   "source": [
    "### How Many SAGs Do We Need?\n",
    "\n",
    "In order to have a robust estimate of the ANI which defines a tribe (or clade, or lineage), we need to be confident we have enough samples (e.g., so that acculumating more SAGs doesn't change the ANI cutoff). Let's see how many samples we have from each tribe:"
   ]
  },
  {
   "cell_type": "code",
   "execution_count": 19,
   "metadata": {
    "collapsed": false
   },
   "outputs": [
    {
     "data": {
      "text/html": [
       "<div style=\"max-height:1000px;max-width:1500px;overflow:auto;\">\n",
       "<table border=\"1\" class=\"dataframe\">\n",
       "  <thead>\n",
       "    <tr style=\"text-align: right;\">\n",
       "      <th></th>\n",
       "      <th>Samples</th>\n",
       "      <th>Num Samples</th>\n",
       "      <th>Max ANI</th>\n",
       "      <th>Min ANI</th>\n",
       "    </tr>\n",
       "  </thead>\n",
       "  <tbody>\n",
       "    <tr>\n",
       "      <th>acI-A1</th>\n",
       "      <td>[AAA027M14, AAA278O22]</td>\n",
       "      <td>2</td>\n",
       "      <td>79.71</td>\n",
       "      <td>79.56</td>\n",
       "    </tr>\n",
       "    <tr>\n",
       "      <th>acI-A6</th>\n",
       "      <td>[AAA028I14]</td>\n",
       "      <td>1</td>\n",
       "      <td>NaN</td>\n",
       "      <td>NaN</td>\n",
       "    </tr>\n",
       "    <tr>\n",
       "      <th>acI-A7</th>\n",
       "      <td>[AAA023J06, AAA024D14, AAA041L13, AAA044N04]</td>\n",
       "      <td>4</td>\n",
       "      <td>96.28</td>\n",
       "      <td>87.13</td>\n",
       "    </tr>\n",
       "    <tr>\n",
       "      <th>acI-B1</th>\n",
       "      <td>[AAA023D18, AAA027J17, AAA027L06, AAA028A23, A...</td>\n",
       "      <td>6</td>\n",
       "      <td>99.1</td>\n",
       "      <td>79.06</td>\n",
       "    </tr>\n",
       "    <tr>\n",
       "      <th>acI-B4</th>\n",
       "      <td>[AAA044D11]</td>\n",
       "      <td>1</td>\n",
       "      <td>NaN</td>\n",
       "      <td>NaN</td>\n",
       "    </tr>\n",
       "    <tr>\n",
       "      <th>acSTL-A1</th>\n",
       "      <td>[AAA027D23]</td>\n",
       "      <td>1</td>\n",
       "      <td>NaN</td>\n",
       "      <td>NaN</td>\n",
       "    </tr>\n",
       "    <tr>\n",
       "      <th>acTH1-A1</th>\n",
       "      <td>[AAA028N15]</td>\n",
       "      <td>1</td>\n",
       "      <td>NaN</td>\n",
       "      <td>NaN</td>\n",
       "    </tr>\n",
       "  </tbody>\n",
       "</table>\n",
       "</div>"
      ],
      "text/plain": [
       "                                                    Samples Num Samples  \\\n",
       "acI-A1                               [AAA027M14, AAA278O22]           2   \n",
       "acI-A6                                          [AAA028I14]           1   \n",
       "acI-A7         [AAA023J06, AAA024D14, AAA041L13, AAA044N04]           4   \n",
       "acI-B1    [AAA023D18, AAA027J17, AAA027L06, AAA028A23, A...           6   \n",
       "acI-B4                                          [AAA044D11]           1   \n",
       "acSTL-A1                                        [AAA027D23]           1   \n",
       "acTH1-A1                                        [AAA028N15]           1   \n",
       "\n",
       "         Max ANI Min ANI  \n",
       "acI-A1     79.71   79.56  \n",
       "acI-A6       NaN     NaN  \n",
       "acI-A7     96.28   87.13  \n",
       "acI-B1      99.1   79.06  \n",
       "acI-B4       NaN     NaN  \n",
       "acSTL-A1     NaN     NaN  \n",
       "acTH1-A1     NaN     NaN  "
      ]
     },
     "execution_count": 19,
     "metadata": {},
     "output_type": "execute_result"
    }
   ],
   "source": [
    "[pairwiseANI, taxonClass, tribes] = ANI.importANIandTaxonomy(externalDataDir,'ANI_out', 'taxonomySAGsforANI.csv')\n",
    "ANI.sameTribePairwiseANI(externalDataDir,pairwiseANI, taxonClass, tribes)"
   ]
  },
  {
   "cell_type": "markdown",
   "metadata": {},
   "source": [
    "We have the most SAGs from tribe acI-B1, and the pairwise ANI between samples ranges from 79 to 99%. Let's suppose these six SAGs are representative of the entire acI-B1 sequence space. Suppose we only sequenced two SAGs. The function below will compute all possible pairs and their max and min ANI:"
   ]
  },
  {
   "cell_type": "code",
   "execution_count": 20,
   "metadata": {
    "collapsed": false
   },
   "outputs": [
    {
     "data": {
      "text/html": [
       "<div style=\"max-height:1000px;max-width:1500px;overflow:auto;\">\n",
       "<table border=\"1\" class=\"dataframe\">\n",
       "  <thead>\n",
       "    <tr style=\"text-align: right;\">\n",
       "      <th></th>\n",
       "      <th>Samples</th>\n",
       "      <th>Num Samples</th>\n",
       "      <th>Max ANI</th>\n",
       "      <th>Min ANI</th>\n",
       "    </tr>\n",
       "  </thead>\n",
       "  <tbody>\n",
       "    <tr>\n",
       "      <th>acI-A1</th>\n",
       "      <td>[AAA027M14, AAA278O22]</td>\n",
       "      <td>2</td>\n",
       "      <td>79.71</td>\n",
       "      <td>79.56</td>\n",
       "    </tr>\n",
       "    <tr>\n",
       "      <th>acI-A6</th>\n",
       "      <td>[AAA028I14]</td>\n",
       "      <td>1</td>\n",
       "      <td>NaN</td>\n",
       "      <td>NaN</td>\n",
       "    </tr>\n",
       "    <tr>\n",
       "      <th>acI-A7</th>\n",
       "      <td>[AAA023J06, AAA024D14, AAA041L13, AAA044N04]</td>\n",
       "      <td>4</td>\n",
       "      <td>96.28</td>\n",
       "      <td>87.13</td>\n",
       "    </tr>\n",
       "    <tr>\n",
       "      <th>acI-B1</th>\n",
       "      <td>[AAA023D18, AAA027J17, AAA027L06, AAA028A23, A...</td>\n",
       "      <td>6</td>\n",
       "      <td>99.1</td>\n",
       "      <td>79.06</td>\n",
       "    </tr>\n",
       "    <tr>\n",
       "      <th>acI-B4</th>\n",
       "      <td>[AAA044D11]</td>\n",
       "      <td>1</td>\n",
       "      <td>NaN</td>\n",
       "      <td>NaN</td>\n",
       "    </tr>\n",
       "    <tr>\n",
       "      <th>acSTL-A1</th>\n",
       "      <td>[AAA027D23]</td>\n",
       "      <td>1</td>\n",
       "      <td>NaN</td>\n",
       "      <td>NaN</td>\n",
       "    </tr>\n",
       "    <tr>\n",
       "      <th>acTH1-A1</th>\n",
       "      <td>[AAA028N15]</td>\n",
       "      <td>1</td>\n",
       "      <td>NaN</td>\n",
       "      <td>NaN</td>\n",
       "    </tr>\n",
       "  </tbody>\n",
       "</table>\n",
       "</div>"
      ],
      "text/plain": [
       "                                                    Samples Num Samples  \\\n",
       "acI-A1                               [AAA027M14, AAA278O22]           2   \n",
       "acI-A6                                          [AAA028I14]           1   \n",
       "acI-A7         [AAA023J06, AAA024D14, AAA041L13, AAA044N04]           4   \n",
       "acI-B1    [AAA023D18, AAA027J17, AAA027L06, AAA028A23, A...           6   \n",
       "acI-B4                                          [AAA044D11]           1   \n",
       "acSTL-A1                                        [AAA027D23]           1   \n",
       "acTH1-A1                                        [AAA028N15]           1   \n",
       "\n",
       "         Max ANI Min ANI  \n",
       "acI-A1     79.71   79.56  \n",
       "acI-A6       NaN     NaN  \n",
       "acI-A7     96.28   87.13  \n",
       "acI-B1      99.1   79.06  \n",
       "acI-B4       NaN     NaN  \n",
       "acSTL-A1     NaN     NaN  \n",
       "acTH1-A1     NaN     NaN  "
      ]
     },
     "execution_count": 20,
     "metadata": {},
     "output_type": "execute_result"
    }
   ],
   "source": [
    "[pairwiseANI, taxonClass, tribes] = ANI.importANIandTaxonomy(externalDataDir,'ANI_out', 'taxonomySAGsforANI.csv')\n",
    "ANI.sameTribePairwiseANI(externalDataDir,pairwiseANI, taxonClass, tribes)\n",
    "ANI.worstCaseANI(externalDataDir,pairwiseANI, taxonClass, tribes, 'acI-B1', 2)"
   ]
  },
  {
   "cell_type": "markdown",
   "metadata": {},
   "source": [
    "If we were especially unlucky, we would have sequenced SAGs L06 and A23, and we would have predicted a tribe-specific cutoff of 99.08 ANI. What if we instead sampled three SAGs:"
   ]
  },
  {
   "cell_type": "code",
   "execution_count": null,
   "metadata": {
    "collapsed": false
   },
   "outputs": [],
   "source": [
    "[pairwiseANI, taxonClass, tribes] = ANI.importANIandTaxonomy(externalDataDir,'ANI_out', 'taxonomySAGsforANI.csv')\n",
    "ANI.sameTribePairwiseANI(externalDataDir,pairwiseANI, taxonClass, tribes)\n",
    "ANI.worstCaseANI(externalDataDir,pairwiseANI, taxonClass, tribes, 'acI-B1', 3)"
   ]
  },
  {
   "cell_type": "markdown",
   "metadata": {},
   "source": [
    "If we were again unlucky, we would have sequenced SAGs L06, A23, and P03, and we would have predicted a tribe-specific cutoff of 96.36 ANI. Let's define a new function which repeats this calculation for all possible sample sizes (up to 6 for tribe acI-B1)."
   ]
  },
  {
   "cell_type": "code",
   "execution_count": null,
   "metadata": {
    "collapsed": false
   },
   "outputs": [],
   "source": [
    "[pairwiseANI, taxonClass, tribes] = ANI.importANIandTaxonomy(externalDataDir,'ANI_out', 'taxonomySAGsforANI.csv')\n",
    "ANI.sameTribePairwiseANI(externalDataDir,pairwiseANI, taxonClass, tribes)\n",
    "ANI.allWorstCaseANI(externalDataDir, pairwiseANI, taxonClass, tribes, 'acI-B1')"
   ]
  },
  {
   "cell_type": "markdown",
   "metadata": {},
   "source": [
    "These six samples appear to be enough. What about tribe acI-A7, for which we have 4 samples?"
   ]
  },
  {
   "cell_type": "code",
   "execution_count": null,
   "metadata": {
    "collapsed": false
   },
   "outputs": [],
   "source": [
    "[pairwiseANI, taxonClass, tribes] = ANI.importANIandTaxonomy(externalDataDir,'ANI_out', 'taxonomySAGsforANI.csv')\n",
    "ANI.sameTribePairwiseANI(externalDataDir,pairwiseANI, taxonClass, tribes)\n",
    "ANI.allWorstCaseANI(externalDataDir,pairwiseANI, taxonClass, tribes, 'acI-A7')"
   ]
  },
  {
   "cell_type": "markdown",
   "metadata": {},
   "source": [
    "Having one more SAG would give us more confidence in the ANI cutoff."
   ]
  },
  {
   "cell_type": "markdown",
   "metadata": {},
   "source": [
    "## Reverse Ecology Analysis on Merged Genomes\n",
    "\n",
    "When the above analysis is complete, we will have sets of genomes whose metabolic network models can be merged to give a more comprehensive model for each tribe. For now, we will only merge graphs for those SAGs belonging to the same tribe.\n",
    "\n",
    "First import the necessary preliminaries and custom functions."
   ]
  },
  {
   "cell_type": "code",
   "execution_count": null,
   "metadata": {
    "collapsed": true
   },
   "outputs": [],
   "source": [
    "# Import special features for iPython\n",
    "import sys\n",
    "sys.path.append('../Python')\n",
    "import matplotlib\n",
    "%matplotlib inline\n",
    "\n",
    "# Import Python modules \n",
    "# These custom-written modules should have been included with the package\n",
    "# distribution. \n",
    "import graphFunctions as gf\n",
    "import metadataFunctions as mf\n",
    "import sbmlFunctions as sf\n",
    "import seedFunctions as ef\n",
    "\n",
    "# Define local folder structure for data input and processing.\n",
    "rawModelDir = 'ProcessedModelFiles'\n",
    "processedDataDir = 'MergedData'\n",
    "summaryStatsDir = 'DataSummaries/MergedData'\n",
    "externalDataDir = 'ExternalData'"
   ]
  },
  {
   "cell_type": "markdown",
   "metadata": {},
   "source": [
    "First read in a file listing {lineage, clade, tribe} for each sample and aggregate all genomes belonging to the same tribe. The current input file taxonomySAGs.csv contains classifications for the SAGs only."
   ]
  },
  {
   "cell_type": "code",
   "execution_count": null,
   "metadata": {
    "collapsed": false
   },
   "outputs": [],
   "source": [
    "tribeSampleDict =  mf.importTaxonomy('../ExternalData/taxonomySAGs.csv')\n",
    "tribeSampleDict"
   ]
  },
  {
   "cell_type": "markdown",
   "metadata": {},
   "source": [
    "Then, merge the metabolic network graphs for the samples from each tribe. Each sample is converted to a graph object and merged with the previous graph. The final graph is written to file."
   ]
  },
  {
   "cell_type": "code",
   "execution_count": null,
   "metadata": {
    "collapsed": false
   },
   "outputs": [],
   "source": [
    "gf.createTribalGraph(tribeSampleDict, processedDataDir, rawModelDir)"
   ]
  },
  {
   "cell_type": "markdown",
   "metadata": {},
   "source": [
    "The remaining code operates similarly to the RE analysis using all individual genomes. The metabolic network graphs corresponding to each tribe are imported:"
   ]
  },
  {
   "cell_type": "code",
   "execution_count": null,
   "metadata": {
    "collapsed": true
   },
   "outputs": [],
   "source": [
    "dirList = mf.getDirList('../'+processedDataDir)\n",
    "numSubDir = len(dirList)"
   ]
  },
  {
   "cell_type": "markdown",
   "metadata": {},
   "source": [
    "Compute summary statistics on the size of each tribe's network graph."
   ]
  },
  {
   "cell_type": "code",
   "execution_count": null,
   "metadata": {
    "collapsed": false
   },
   "outputs": [],
   "source": [
    "graphStatArray, diGraphStatArray = gf.computeGraphStats(dirList, processedDataDir, summaryStatsDir)\n",
    "gf.plotGraphStats(graphStatArray)"
   ]
  },
  {
   "cell_type": "markdown",
   "metadata": {},
   "source": [
    "Convert each network graph to its largest component."
   ]
  },
  {
   "cell_type": "code",
   "execution_count": null,
   "metadata": {
    "collapsed": false
   },
   "outputs": [],
   "source": [
    "reducedGraphStatArray = gf.reduceToLargeComponent(dirList, processedDataDir, summaryStatsDir)"
   ]
  },
  {
   "cell_type": "markdown",
   "metadata": {},
   "source": [
    "Compute seed sets and plot summary statistics."
   ]
  },
  {
   "cell_type": "code",
   "execution_count": null,
   "metadata": {
    "collapsed": false
   },
   "outputs": [],
   "source": [
    "seedSetList = gf.computeSeedSets(dirList, externalDataDir, processedDataDir)\n",
    "gf.plotSeedStatsForTribes(seedSetList, reducedGraphStatArray)"
   ]
  },
  {
   "cell_type": "markdown",
   "metadata": {},
   "source": [
    "Aggregate the seed compounds for all tribes into a single matrix and write the results to file."
   ]
  },
  {
   "cell_type": "code",
   "execution_count": null,
   "metadata": {
    "collapsed": false
   },
   "outputs": [],
   "source": [
    "seedMatrixDF = ef.consolidateSeeds(dirList, externalDataDir, processedDataDir, summaryStatsDir)\n",
    "ef.normalizedSeedCounts(dirList, processedDataDir, summaryStatsDir)"
   ]
  },
  {
   "cell_type": "markdown",
   "metadata": {},
   "source": [
    "Cluster the seed profiles and create the dendrogram:"
   ]
  },
  {
   "cell_type": "code",
   "execution_count": null,
   "metadata": {
    "collapsed": false
   },
   "outputs": [],
   "source": [
    "ef.clusterSeedSets(seedMatrixDF, dirList, externalDataDir, summaryStatsDir, 'tribalColors.csv')"
   ]
  },
  {
   "cell_type": "markdown",
   "metadata": {},
   "source": [
    "Genomes in the above clustergram are colored as follows:\n",
    "\n",
    "acI-A: green  \n",
    "acI-B: blue  \n",
    "acIV-A: red  \n",
    "acIV-B: maroon  \n",
    "acSTL-A: black  \n",
    "acTH1-A: grey  \n",
    "Luna1-A:  cyan  \n",
    "\n",
    "And here is just the dendrogram for genomes:"
   ]
  },
  {
   "cell_type": "code",
   "execution_count": null,
   "metadata": {
    "collapsed": false
   },
   "outputs": [],
   "source": [
    "ef.clusterOnly(seedMatrixDF, dirList, externalDataDir, 'tribalColors.csv')"
   ]
  },
  {
   "cell_type": "markdown",
   "metadata": {},
   "source": [
    "Compute the competidion index"
   ]
  },
  {
   "cell_type": "code",
   "execution_count": null,
   "metadata": {
    "collapsed": false
   },
   "outputs": [],
   "source": [
    "metabCompeteDF = ef.computeMetabCompete(dirList, processedDataDir, summaryStatsDir)\n",
    "ef.clusterPairwise(metabCompeteDF, dirList, externalDataDir, summaryStatsDir, 'tribalColors.csv', 'metabolicCompetition.png')"
   ]
  },
  {
   "cell_type": "markdown",
   "metadata": {},
   "source": [
    "Compute the cooperation index:"
   ]
  },
  {
   "cell_type": "code",
   "execution_count": null,
   "metadata": {
    "collapsed": false
   },
   "outputs": [],
   "source": [
    "metabComplementDF = ef.computeMetabComplement(dirList, processedDataDir, summaryStatsDir)\n",
    "ef.clusterPairwise(metabComplementDF, dirList, externalDataDir, summaryStatsDir, 'tribalColors.csv', 'metabolicComplementarity.png')"
   ]
  },
  {
   "cell_type": "markdown",
   "metadata": {},
   "source": [
    "We are currently analyzing the seed profiles to look for shared features of the actinobacterial lineage, and unique features of each tribe. \n",
    "\n",
    "\n",
    "** TO DO **\n",
    "1. Provide an illustration of what the \"merging\" process looks like for metabolic network graphs."
   ]
  },
  {
   "cell_type": "code",
   "execution_count": null,
   "metadata": {
    "collapsed": true
   },
   "outputs": [],
   "source": []
  }
 ],
 "metadata": {
  "kernelspec": {
   "display_name": "Python 2",
   "language": "python",
   "name": "python2"
  },
  "language_info": {
   "codemirror_mode": {
    "name": "ipython",
    "version": 2
   },
   "file_extension": ".py",
   "mimetype": "text/x-python",
   "name": "python",
   "nbconvert_exporter": "python",
   "pygments_lexer": "ipython2",
   "version": "2.7.6"
  }
 },
 "nbformat": 4,
 "nbformat_minor": 0
}
