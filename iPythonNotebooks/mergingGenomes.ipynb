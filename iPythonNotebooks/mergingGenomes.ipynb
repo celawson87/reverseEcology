{
 "cells": [
  {
   "cell_type": "markdown",
   "metadata": {},
   "source": [
    "# Merging of Metabolic Network Graphs: Reverse Ecology\n",
    "\n",
    "The purpose of this notebook is to identify criteria for classifying GFMs (without 16S sequence data) as members of a particular tribe, based on shared amino acid identity (ANI). The metabolic models of these genomes will then be merged to give a model which is better representative of a particular tribe. Our reverse ecology analysis will then be performed on these merged models."
   ]
  },
  {
   "cell_type": "markdown",
   "metadata": {},
   "source": [
    "Having one more SAG would give us more confidence in the ANI cutoff."
   ]
  },
  {
   "cell_type": "markdown",
   "metadata": {},
   "source": [
    "## Reverse Ecology Analysis on Merged Genomes\n",
    "\n",
    "When the above analysis is complete, we will have sets of genomes whose metabolic network models can be merged to give a more comprehensive model for each tribe. For now, we will only merge graphs for those SAGs belonging to the same tribe.\n",
    "\n",
    "First import the necessary preliminaries and custom functions."
   ]
  },
  {
   "cell_type": "code",
   "execution_count": 13,
   "metadata": {
    "collapsed": true
   },
   "outputs": [],
   "source": [
    "# Import special features for iPython\n",
    "import sys\n",
    "sys.path.append('../Python')\n",
    "import matplotlib\n",
    "%matplotlib inline\n",
    "\n",
    "# Import Python modules \n",
    "# These custom-written modules should have been included with the package\n",
    "# distribution. \n",
    "import graphFunctions as gf\n",
    "import metadataFunctions as mf\n",
    "import sbmlFunctions as sf\n",
    "import seedFunctions as ef\n",
    "\n",
    "# Define local folder structure for data input and processing.\n",
    "rawModelDir = 'ProcessedModelFiles'\n",
    "processedDataDir = 'MergedData'\n",
    "summaryStatsDir = 'DataSummaries/MergedData'\n",
    "externalDataDir = 'ExternalData'"
   ]
  },
  {
   "cell_type": "markdown",
   "metadata": {},
   "source": [
    "First read in a file listing {lineage, clade, tribe} for each sample and aggregate all genomes belonging to the same tribe. The current input file taxonomySAGs.csv contains classifications for the SAGs only."
   ]
  },
  {
   "cell_type": "code",
   "execution_count": 14,
   "metadata": {
    "collapsed": false
   },
   "outputs": [
    {
     "name": "stdout",
     "output_type": "stream",
     "text": [
      "Importing taxonomy\n"
     ]
    },
    {
     "data": {
      "text/plain": [
       "{'Iluma-A2': ['AAA027E14'],\n",
       " 'Iluma-B1': ['AAA027L17'],\n",
       " 'Luna1-A2': ['AAA028P02'],\n",
       " 'acI-A1': ['AAA027M14', 'AAA278O22'],\n",
       " 'acI-A5': ['AAA028G02', 'AAA044O16'],\n",
       " 'acI-A6': ['AAA028E20', 'AAA028I14'],\n",
       " 'acI-A7': ['AAA023J06', 'AAA024D14', 'AAA041L13', 'AAA044N04'],\n",
       " 'acI-B1': ['AAA023D18',\n",
       "  'AAA027J17',\n",
       "  'AAA027L06',\n",
       "  'AAA028A23',\n",
       "  'AAA278I18',\n",
       "  'AB141P03'],\n",
       " 'acI-B4': ['AAA044D11']}"
      ]
     },
     "execution_count": 14,
     "metadata": {},
     "output_type": "execute_result"
    }
   ],
   "source": [
    "tribeSampleDict =  mf.importTaxonomy('../ExternalData/taxonomySAGs.csv')\n",
    "tribeSampleDict"
   ]
  },
  {
   "cell_type": "markdown",
   "metadata": {},
   "source": [
    "Then, merge the metabolic network graphs for the samples from each tribe. Each sample is converted to a graph object and merged with the previous graph. The final graph is written to file."
   ]
  },
  {
   "cell_type": "code",
   "execution_count": 15,
   "metadata": {
    "collapsed": false
   },
   "outputs": [
    {
     "name": "stdout",
     "output_type": "stream",
     "text": [
      "Merging genomes from individual tribes\n"
     ]
    }
   ],
   "source": [
    "gf.createTribalGraph(tribeSampleDict, processedDataDir, rawModelDir)"
   ]
  },
  {
   "cell_type": "markdown",
   "metadata": {},
   "source": [
    "The remaining code operates similarly to the RE analysis using all individual genomes. The metabolic network graphs corresponding to each tribe are imported:"
   ]
  },
  {
   "cell_type": "code",
   "execution_count": 16,
   "metadata": {
    "collapsed": true
   },
   "outputs": [],
   "source": [
    "dirList = mf.getDirList('../'+processedDataDir)\n",
    "numSubDir = len(dirList)"
   ]
  },
  {
   "cell_type": "markdown",
   "metadata": {},
   "source": [
    "Compute summary statistics on the size of each tribe's network graph."
   ]
  },
  {
   "cell_type": "code",
   "execution_count": 17,
   "metadata": {
    "collapsed": false
   },
   "outputs": [
    {
     "ename": "IOError",
     "evalue": "[Errno 2] No such file or directory: '../DataSummaries/MergedData/GraphStatistics.txt'",
     "output_type": "error",
     "traceback": [
      "\u001b[0;31m---------------------------------------------------------------------------\u001b[0m",
      "\u001b[0;31mIOError\u001b[0m                                   Traceback (most recent call last)",
      "\u001b[0;32m<ipython-input-17-0f114f2240fa>\u001b[0m in \u001b[0;36m<module>\u001b[0;34m()\u001b[0m\n\u001b[0;32m----> 1\u001b[0;31m \u001b[0mgraphStatArray\u001b[0m\u001b[0;34m,\u001b[0m \u001b[0mdiGraphStatArray\u001b[0m \u001b[0;34m=\u001b[0m \u001b[0mgf\u001b[0m\u001b[0;34m.\u001b[0m\u001b[0mcomputeGraphStats\u001b[0m\u001b[0;34m(\u001b[0m\u001b[0mdirList\u001b[0m\u001b[0;34m,\u001b[0m \u001b[0mprocessedDataDir\u001b[0m\u001b[0;34m,\u001b[0m \u001b[0msummaryStatsDir\u001b[0m\u001b[0;34m)\u001b[0m\u001b[0;34m\u001b[0m\u001b[0m\n\u001b[0m\u001b[1;32m      2\u001b[0m \u001b[0mgf\u001b[0m\u001b[0;34m.\u001b[0m\u001b[0mplotGraphStats\u001b[0m\u001b[0;34m(\u001b[0m\u001b[0mgraphStatArray\u001b[0m\u001b[0;34m)\u001b[0m\u001b[0;34m\u001b[0m\u001b[0m\n",
      "\u001b[0;32m/Users/joshamilton/Documents/Research/2014aii-ActinosRecon/2015-04-13-REMasterDirectory/Python/graphFunctions.pyc\u001b[0m in \u001b[0;36mcomputeGraphStats\u001b[0;34m(dirList, processedDataDir, summaryStatsDir)\u001b[0m\n\u001b[1;32m    308\u001b[0m \u001b[0;34m\u001b[0m\u001b[0m\n\u001b[1;32m    309\u001b[0m \u001b[0;31m# Create files to record the summary statistics.\u001b[0m\u001b[0;34m\u001b[0m\u001b[0;34m\u001b[0m\u001b[0m\n\u001b[0;32m--> 310\u001b[0;31m     \u001b[0mgraphFile\u001b[0m \u001b[0;34m=\u001b[0m \u001b[0mopen\u001b[0m\u001b[0;34m(\u001b[0m\u001b[0;34m'../'\u001b[0m\u001b[0;34m+\u001b[0m\u001b[0msummaryStatsDir\u001b[0m\u001b[0;34m+\u001b[0m\u001b[0;34m'/'\u001b[0m\u001b[0;34m+\u001b[0m\u001b[0;34m'GraphStatistics.txt'\u001b[0m\u001b[0;34m,\u001b[0m \u001b[0;34m'w'\u001b[0m\u001b[0;34m)\u001b[0m\u001b[0;34m\u001b[0m\u001b[0m\n\u001b[0m\u001b[1;32m    311\u001b[0m     \u001b[0mgraphFile\u001b[0m\u001b[0;34m.\u001b[0m\u001b[0mwrite\u001b[0m\u001b[0;34m(\u001b[0m\u001b[0;34m'Model,Nodes,Edges,Total Components,Size of Largest\\n'\u001b[0m\u001b[0;34m)\u001b[0m\u001b[0;34m\u001b[0m\u001b[0m\n\u001b[1;32m    312\u001b[0m \u001b[0;34m\u001b[0m\u001b[0m\n",
      "\u001b[0;31mIOError\u001b[0m: [Errno 2] No such file or directory: '../DataSummaries/MergedData/GraphStatistics.txt'"
     ]
    }
   ],
   "source": [
    "graphStatArray, diGraphStatArray = gf.computeGraphStats(dirList, processedDataDir, summaryStatsDir)\n",
    "gf.plotGraphStats(graphStatArray)"
   ]
  },
  {
   "cell_type": "markdown",
   "metadata": {},
   "source": [
    "Convert each network graph to its largest component."
   ]
  },
  {
   "cell_type": "code",
   "execution_count": null,
   "metadata": {
    "collapsed": false
   },
   "outputs": [],
   "source": [
    "reducedGraphStatArray = gf.reduceToLargeComponent(dirList, processedDataDir, summaryStatsDir)"
   ]
  },
  {
   "cell_type": "markdown",
   "metadata": {},
   "source": [
    "Compute seed sets and plot summary statistics."
   ]
  },
  {
   "cell_type": "code",
   "execution_count": null,
   "metadata": {
    "collapsed": false
   },
   "outputs": [],
   "source": [
    "seedSetList = gf.computeSeedSets(dirList, externalDataDir, processedDataDir)\n",
    "gf.plotSeedStatsForTribes(seedSetList, reducedGraphStatArray)"
   ]
  },
  {
   "cell_type": "markdown",
   "metadata": {},
   "source": [
    "Aggregate the seed compounds for all tribes into a single matrix and write the results to file."
   ]
  },
  {
   "cell_type": "code",
   "execution_count": null,
   "metadata": {
    "collapsed": false
   },
   "outputs": [],
   "source": [
    "seedMatrixDF = ef.consolidateSeeds(dirList, externalDataDir, processedDataDir, summaryStatsDir)\n",
    "ef.normalizedSeedCounts(dirList, processedDataDir, summaryStatsDir)"
   ]
  },
  {
   "cell_type": "markdown",
   "metadata": {},
   "source": [
    "Cluster the seed profiles and create the dendrogram:"
   ]
  },
  {
   "cell_type": "code",
   "execution_count": null,
   "metadata": {
    "collapsed": false
   },
   "outputs": [],
   "source": [
    "ef.clusterSeedSets(seedMatrixDF, dirList, externalDataDir, summaryStatsDir, 'tribalColors.csv')"
   ]
  },
  {
   "cell_type": "markdown",
   "metadata": {},
   "source": [
    "Genomes in the above clustergram are colored as follows:\n",
    "\n",
    "acI-A: green  \n",
    "acI-B: blue  \n",
    "acIV-A: red  \n",
    "acIV-B: maroon  \n",
    "acSTL-A: black  \n",
    "acTH1-A: grey  \n",
    "Luna1-A:  cyan  \n",
    "\n",
    "And here is just the dendrogram for genomes:"
   ]
  },
  {
   "cell_type": "code",
   "execution_count": null,
   "metadata": {
    "collapsed": false
   },
   "outputs": [],
   "source": [
    "ef.clusterOnly(seedMatrixDF, dirList, externalDataDir, 'tribalColors.csv')"
   ]
  },
  {
   "cell_type": "markdown",
   "metadata": {},
   "source": [
    "Compute the competidion index"
   ]
  },
  {
   "cell_type": "code",
   "execution_count": null,
   "metadata": {
    "collapsed": false
   },
   "outputs": [],
   "source": [
    "metabCompeteDF = ef.computeMetabCompete(dirList, processedDataDir, summaryStatsDir)\n",
    "ef.clusterPairwise(metabCompeteDF, dirList, externalDataDir, summaryStatsDir, 'tribalColors.csv', 'metabolicCompetition.png')"
   ]
  },
  {
   "cell_type": "markdown",
   "metadata": {},
   "source": [
    "Compute the cooperation index:"
   ]
  },
  {
   "cell_type": "code",
   "execution_count": null,
   "metadata": {
    "collapsed": false
   },
   "outputs": [],
   "source": [
    "metabComplementDF = ef.computeMetabComplement(dirList, processedDataDir, summaryStatsDir)\n",
    "ef.clusterPairwise(metabComplementDF, dirList, externalDataDir, summaryStatsDir, 'tribalColors.csv', 'metabolicComplementarity.png')"
   ]
  },
  {
   "cell_type": "markdown",
   "metadata": {},
   "source": [
    "We are currently analyzing the seed profiles to look for shared features of the actinobacterial lineage, and unique features of each tribe. \n",
    "\n",
    "\n",
    "** TO DO **\n",
    "1. Provide an illustration of what the \"merging\" process looks like for metabolic network graphs."
   ]
  },
  {
   "cell_type": "code",
   "execution_count": null,
   "metadata": {
    "collapsed": true
   },
   "outputs": [],
   "source": []
  }
 ],
 "metadata": {
  "kernelspec": {
   "display_name": "Python 2",
   "language": "python",
   "name": "python2"
  },
  "language_info": {
   "codemirror_mode": {
    "name": "ipython",
    "version": 2
   },
   "file_extension": ".py",
   "mimetype": "text/x-python",
   "name": "python",
   "nbconvert_exporter": "python",
   "pygments_lexer": "ipython2",
   "version": "2.7.6"
  }
 },
 "nbformat": 4,
 "nbformat_minor": 0
}
