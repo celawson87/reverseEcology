{
 "cells": [
  {
   "cell_type": "markdown",
   "metadata": {},
   "source": [
    "# Gene Expression Among acI Clades: Mapping Metatranscriptomes to Consensus Genomes"
   ]
  },
  {
   "cell_type": "markdown",
   "metadata": {},
   "source": [
    "## Overview\n",
    "\n",
    "We believe that reverse ecology metrics are sensitive to genome completeness. We also observed that--for a single tribe--at least four SAGs or MAGs were required before the pan-genome was \"complete\", based on single-copy marker genes. Because we only have four genomes for two tribes, we cannot confidently perform reverse ecology analysis at the tribe-level. At the clade level, we have 12 genomes from clade acI-A, 21 from clade acI-B, and 3 from acI-C. This should allow us to make confident predictions about the differences between the acI-A and acI-B clades.\n",
    "\n",
    "We decided to map metatranscriptome samples to the \"pan-genome\" of each clade. To construct the pan-genome, we used our reference genome collection to define actinobacterial COGs (clusters of orthologous groups), and defined the pan-genome of a clade as the union of all COGs present in at least one genome. To obtain the pan-genome sequence, we aligned all sequences belonging to each COG and obtained a consensus sequence for each COG. We then mapped a number of metatranscriptomes to each consensus genome and looked for differentially expressed genes."
   ]
  },
  {
   "cell_type": "markdown",
   "metadata": {},
   "source": [
    "## Creation of Consensus Genomes"
   ]
  },
  {
   "cell_type": "markdown",
   "metadata": {},
   "source": [
    "## Mapping to Consensus Genomes"
   ]
  },
  {
   "cell_type": "markdown",
   "metadata": {},
   "source": [
    "## Differential Expression Analysis\n",
    "\n",
    "Finally, I plan to use edgeR or DESeq to identify COGs which show differential expression across the acI clades. I hypothesize that such genes will be associated with metabolic machinery (such as transporters) required to uptake and metabolize seed compounds unique to individual clades. DESeq and edgeR rely on biological replicates to test for statistically significant differences in expression. In this study, we used three sets of \"replicates\", as follows:\n",
    "\n",
    "* Lake Mendota - Three samples collected during OMD-TOIL. These are not true biological replicates as they were collected at different time points, but we are treating them as such. Additional documentation can be found in the [OMD-TOIL Github repo] (https://github.com/McMahonLab/OMD-TOILv2).\n",
    "\n",
    "* Amazon River - Twelve samples taken from six stations along the Amazon River (two biological replicates each station). For ease of analysis, I am currently analyzing these as twelve biological replicates.\n",
    "\n",
    "* Lake Lanier - Four biological replicates.\n",
    "\n",
    "I am currently analyzing these data\n",
    "\n",
    "### References\n",
    "1. Anders, S., & Huber, W. (2010). Differential expression analysis for sequence count data. Genome Biology, 11, R106. http://doi.org/10.1186/gb-2010-11-10-r106\n",
    "2. McCarthy, D. J., Chen, Y., & Smyth, G. K. (2012). Differential expression analysis of multifactor RNA-Seq experiments with respect to biological variation. Nucleic Acids Research, 40(10), 4288–4297. http://doi.org/10.1093/nar/gks042\n",
    "3. Satinsky, B. M., Fortunato, C. S., Doherty, M., Smith, C. B., Sharma, S., Ward, N. D., … Crump, B. C. (2015). Metagenomic and metatranscriptomic inventories of the lower Amazon River, May 2011. Microbiome, 3, 39. http://doi.org/10.1186/s40168-015-0099-0\n",
    "4. Tsementzi, D., Poretsky, R. S., Rodriguez-R, L. M., Luo, C., & Konstantinidis, K. T. (2014). Evaluation of metatranscriptomic protocols and application to the study of freshwater microbial communities. Environmental Microbiology Reports, 6(6), 640–655. http://doi.org/10.1111/1758-2229.12180"
   ]
  },
  {
   "cell_type": "code",
   "execution_count": null,
   "metadata": {
    "collapsed": true
   },
   "outputs": [],
   "source": []
  }
 ],
 "metadata": {
  "kernelspec": {
   "display_name": "Python 2",
   "language": "python",
   "name": "python2"
  },
  "language_info": {
   "codemirror_mode": {
    "name": "ipython",
    "version": 2
   },
   "file_extension": ".py",
   "mimetype": "text/x-python",
   "name": "python",
   "nbconvert_exporter": "python",
   "pygments_lexer": "ipython2",
   "version": "2.7.10"
  }
 },
 "nbformat": 4,
 "nbformat_minor": 0
}
