{
 "cells": [
  {
   "cell_type": "markdown",
   "metadata": {},
   "source": [
    "# Merging of Metabolic Network Graphs: ANI Calculations\n",
    "\n",
    "The purpose of this notebook is to identify criteria for classifying GFMs (without 16S sequence data) as members of a particular tribe, based on shared amino acid identity (ANI) and genome coverage. The metabolic models of these genomes will then be merged to give a model which is better representative of a particular tribe. Our reverse ecology analysis will then be performed on these merged models."
   ]
  },
  {
   "cell_type": "markdown",
   "metadata": {},
   "source": [
    "## Merging Genomes Based on ANI\n",
    "Pairwise ANI were computed by Sarah using the method in Goris et al IJSEM 2007. This notebook examines pairwise ANI and coverage values between all members within a tribe to identify minimum ANI and coverage criterion for adding a new genome to the tribe. Then I identify genomes which are candidates for inclusion within a tribe (based on phylogeny) and determine whether or not they can be included within a tribe (based on ANI and coverage).\n",
    "\n",
    "#### References\n",
    "1. Konstantinidis, K. T., & Tiedje, J. M. (2005). Genomic insights that advance the species definition for prokaryotes. Proceedings of the National Academy of Sciences, 102(7), 2567–2572.\n",
    "2. Goris, J., Konstantinidis, K. T., Klappenbach, J. A., Coenye, T., Vandamme, P., & Tiedje, J. M. (2007). DNA-DNA hybridization values and their relationship to whole-genome sequence similarities. International Journal of Systematic and Evolutionary Microbiology, 57(1), 81–91.\n",
    "\n",
    "The first chunk of code identifies imports the Python packages necessary for this analysis."
   ]
  },
  {
   "cell_type": "code",
   "execution_count": 1,
   "metadata": {
    "collapsed": false
   },
   "outputs": [],
   "source": [
    "# Import special features for iPython\n",
    "import sys\n",
    "sys.path.append('../Python')\n",
    "import matplotlib\n",
    "%matplotlib inline\n",
    "\n",
    "# Import Python modules \n",
    "# These custom-written modules should have been included with the package\n",
    "# distribution. \n",
    "import pairwiseANIFunctions as ANI\n",
    "\n",
    "# Define local folder structure for data input and processing.\n",
    "externalDataDir = 'ExternalData'"
   ]
  },
  {
   "cell_type": "markdown",
   "metadata": {},
   "source": [
    "### Using SAGs to Compute Cutoffs\n",
    "\n",
    "I want to identify ANI and coverage cutoffs, such that any two genomes belonging to the same tribe have ANI and coverage greater than this value. The function below computes the minimum and maximum pairwise ANI (or coverage) for all genomes belonging to the same tribe."
   ]
  },
  {
   "cell_type": "code",
   "execution_count": 2,
   "metadata": {
    "collapsed": false
   },
   "outputs": [
    {
     "data": {
      "text/html": [
       "<div style=\"max-height:1000px;max-width:1500px;overflow:auto;\">\n",
       "<table border=\"1\" class=\"dataframe\">\n",
       "  <thead>\n",
       "    <tr style=\"text-align: right;\">\n",
       "      <th></th>\n",
       "      <th>Samples</th>\n",
       "      <th>Num Samples</th>\n",
       "      <th>Max</th>\n",
       "      <th>Min</th>\n",
       "    </tr>\n",
       "  </thead>\n",
       "  <tbody>\n",
       "    <tr>\n",
       "      <th>Iluma-A2</th>\n",
       "      <td>[AAA027E14]</td>\n",
       "      <td>1</td>\n",
       "      <td>99.97</td>\n",
       "      <td>99.97</td>\n",
       "    </tr>\n",
       "    <tr>\n",
       "      <th>Iluma-B1</th>\n",
       "      <td>[AAA027L17]</td>\n",
       "      <td>1</td>\n",
       "      <td>99.54</td>\n",
       "      <td>99.54</td>\n",
       "    </tr>\n",
       "    <tr>\n",
       "      <th>Iluma-B2</th>\n",
       "      <td>[AAA028K15]</td>\n",
       "      <td>1</td>\n",
       "      <td>99.53</td>\n",
       "      <td>99.53</td>\n",
       "    </tr>\n",
       "    <tr>\n",
       "      <th>Luna1-A2</th>\n",
       "      <td>[AAA028P02, Rhodoluna]</td>\n",
       "      <td>2</td>\n",
       "      <td>100</td>\n",
       "      <td>76.68</td>\n",
       "    </tr>\n",
       "    <tr>\n",
       "      <th>acI-A1</th>\n",
       "      <td>[AAA027M14, AAA278O22]</td>\n",
       "      <td>2</td>\n",
       "      <td>100</td>\n",
       "      <td>79.56</td>\n",
       "    </tr>\n",
       "    <tr>\n",
       "      <th>acI-A5</th>\n",
       "      <td>[AAA028G02, AAA044O16]</td>\n",
       "      <td>2</td>\n",
       "      <td>99.95</td>\n",
       "      <td>86.69</td>\n",
       "    </tr>\n",
       "    <tr>\n",
       "      <th>acI-A6</th>\n",
       "      <td>[AAA028E20, AAA028I14]</td>\n",
       "      <td>2</td>\n",
       "      <td>100</td>\n",
       "      <td>81.17</td>\n",
       "    </tr>\n",
       "    <tr>\n",
       "      <th>acI-A7</th>\n",
       "      <td>[AAA023J06, AAA024D14, AAA041L13, AAA044N04]</td>\n",
       "      <td>4</td>\n",
       "      <td>100</td>\n",
       "      <td>87.13</td>\n",
       "    </tr>\n",
       "    <tr>\n",
       "      <th>acI-B1</th>\n",
       "      <td>[AAA023D18, AAA027J17, AAA027L06, AAA028A23, A...</td>\n",
       "      <td>6</td>\n",
       "      <td>100</td>\n",
       "      <td>79.06</td>\n",
       "    </tr>\n",
       "    <tr>\n",
       "      <th>acI-B2</th>\n",
       "      <td>[bin_7_acI-B2]</td>\n",
       "      <td>1</td>\n",
       "      <td>98.13</td>\n",
       "      <td>98.13</td>\n",
       "    </tr>\n",
       "    <tr>\n",
       "      <th>acI-B4</th>\n",
       "      <td>[AAA044D11]</td>\n",
       "      <td>1</td>\n",
       "      <td>100</td>\n",
       "      <td>100</td>\n",
       "    </tr>\n",
       "  </tbody>\n",
       "</table>\n",
       "</div>"
      ],
      "text/plain": [
       "                                                    Samples Num Samples  \\\n",
       "Iluma-A2                                        [AAA027E14]           1   \n",
       "Iluma-B1                                        [AAA027L17]           1   \n",
       "Iluma-B2                                        [AAA028K15]           1   \n",
       "Luna1-A2                             [AAA028P02, Rhodoluna]           2   \n",
       "acI-A1                               [AAA027M14, AAA278O22]           2   \n",
       "acI-A5                               [AAA028G02, AAA044O16]           2   \n",
       "acI-A6                               [AAA028E20, AAA028I14]           2   \n",
       "acI-A7         [AAA023J06, AAA024D14, AAA041L13, AAA044N04]           4   \n",
       "acI-B1    [AAA023D18, AAA027J17, AAA027L06, AAA028A23, A...           6   \n",
       "acI-B2                                       [bin_7_acI-B2]           1   \n",
       "acI-B4                                          [AAA044D11]           1   \n",
       "\n",
       "            Max    Min  \n",
       "Iluma-A2  99.97  99.97  \n",
       "Iluma-B1  99.54  99.54  \n",
       "Iluma-B2  99.53  99.53  \n",
       "Luna1-A2    100  76.68  \n",
       "acI-A1      100  79.56  \n",
       "acI-A5    99.95  86.69  \n",
       "acI-A6      100  81.17  \n",
       "acI-A7      100  87.13  \n",
       "acI-B1      100  79.06  \n",
       "acI-B2    98.13  98.13  \n",
       "acI-B4      100    100  "
      ]
     },
     "execution_count": 2,
     "metadata": {},
     "output_type": "execute_result"
    }
   ],
   "source": [
    "[pairwiseANI, taxonClass, tribes] = ANI.importANIandTaxonomy(externalDataDir, 'ANI_out', 'taxonomySAGs.csv')\n",
    "ANI.sameTribePairwiseANI(externalDataDir, pairwiseANI, taxonClass, tribes, 'ANI_out')"
   ]
  },
  {
   "cell_type": "code",
   "execution_count": 3,
   "metadata": {
    "collapsed": false
   },
   "outputs": [
    {
     "data": {
      "text/html": [
       "<div style=\"max-height:1000px;max-width:1500px;overflow:auto;\">\n",
       "<table border=\"1\" class=\"dataframe\">\n",
       "  <thead>\n",
       "    <tr style=\"text-align: right;\">\n",
       "      <th></th>\n",
       "      <th>Samples</th>\n",
       "      <th>Num Samples</th>\n",
       "      <th>Max</th>\n",
       "      <th>Min</th>\n",
       "    </tr>\n",
       "  </thead>\n",
       "  <tbody>\n",
       "    <tr>\n",
       "      <th>Iluma-A2</th>\n",
       "      <td>[AAA027E14]</td>\n",
       "      <td>1</td>\n",
       "      <td>100.01</td>\n",
       "      <td>100.01</td>\n",
       "    </tr>\n",
       "    <tr>\n",
       "      <th>Iluma-B1</th>\n",
       "      <td>[AAA027L17]</td>\n",
       "      <td>1</td>\n",
       "      <td>101.72</td>\n",
       "      <td>101.72</td>\n",
       "    </tr>\n",
       "    <tr>\n",
       "      <th>Iluma-B2</th>\n",
       "      <td>[AAA028K15]</td>\n",
       "      <td>1</td>\n",
       "      <td>102.41</td>\n",
       "      <td>102.41</td>\n",
       "    </tr>\n",
       "    <tr>\n",
       "      <th>Luna1-A2</th>\n",
       "      <td>[AAA028P02, Rhodoluna]</td>\n",
       "      <td>2</td>\n",
       "      <td>100.38</td>\n",
       "      <td>5.4</td>\n",
       "    </tr>\n",
       "    <tr>\n",
       "      <th>acI-A1</th>\n",
       "      <td>[AAA027M14, AAA278O22]</td>\n",
       "      <td>2</td>\n",
       "      <td>100.66</td>\n",
       "      <td>22.69</td>\n",
       "    </tr>\n",
       "    <tr>\n",
       "      <th>acI-A5</th>\n",
       "      <td>[AAA028G02, AAA044O16]</td>\n",
       "      <td>2</td>\n",
       "      <td>101.07</td>\n",
       "      <td>52.23</td>\n",
       "    </tr>\n",
       "    <tr>\n",
       "      <th>acI-A6</th>\n",
       "      <td>[AAA028E20, AAA028I14]</td>\n",
       "      <td>2</td>\n",
       "      <td>105.56</td>\n",
       "      <td>16.34</td>\n",
       "    </tr>\n",
       "    <tr>\n",
       "      <th>acI-A7</th>\n",
       "      <td>[AAA023J06, AAA024D14, AAA041L13, AAA044N04]</td>\n",
       "      <td>4</td>\n",
       "      <td>105.08</td>\n",
       "      <td>35.85</td>\n",
       "    </tr>\n",
       "    <tr>\n",
       "      <th>acI-B1</th>\n",
       "      <td>[AAA023D18, AAA027J17, AAA027L06, AAA028A23, A...</td>\n",
       "      <td>6</td>\n",
       "      <td>109.56</td>\n",
       "      <td>18.96</td>\n",
       "    </tr>\n",
       "    <tr>\n",
       "      <th>acI-B2</th>\n",
       "      <td>[bin_7_acI-B2]</td>\n",
       "      <td>1</td>\n",
       "      <td>158.31</td>\n",
       "      <td>158.31</td>\n",
       "    </tr>\n",
       "    <tr>\n",
       "      <th>acI-B4</th>\n",
       "      <td>[AAA044D11]</td>\n",
       "      <td>1</td>\n",
       "      <td>100.12</td>\n",
       "      <td>100.12</td>\n",
       "    </tr>\n",
       "  </tbody>\n",
       "</table>\n",
       "</div>"
      ],
      "text/plain": [
       "                                                    Samples Num Samples  \\\n",
       "Iluma-A2                                        [AAA027E14]           1   \n",
       "Iluma-B1                                        [AAA027L17]           1   \n",
       "Iluma-B2                                        [AAA028K15]           1   \n",
       "Luna1-A2                             [AAA028P02, Rhodoluna]           2   \n",
       "acI-A1                               [AAA027M14, AAA278O22]           2   \n",
       "acI-A5                               [AAA028G02, AAA044O16]           2   \n",
       "acI-A6                               [AAA028E20, AAA028I14]           2   \n",
       "acI-A7         [AAA023J06, AAA024D14, AAA041L13, AAA044N04]           4   \n",
       "acI-B1    [AAA023D18, AAA027J17, AAA027L06, AAA028A23, A...           6   \n",
       "acI-B2                                       [bin_7_acI-B2]           1   \n",
       "acI-B4                                          [AAA044D11]           1   \n",
       "\n",
       "             Max     Min  \n",
       "Iluma-A2  100.01  100.01  \n",
       "Iluma-B1  101.72  101.72  \n",
       "Iluma-B2  102.41  102.41  \n",
       "Luna1-A2  100.38     5.4  \n",
       "acI-A1    100.66   22.69  \n",
       "acI-A5    101.07   52.23  \n",
       "acI-A6    105.56   16.34  \n",
       "acI-A7    105.08   35.85  \n",
       "acI-B1    109.56   18.96  \n",
       "acI-B2    158.31  158.31  \n",
       "acI-B4    100.12  100.12  "
      ]
     },
     "execution_count": 3,
     "metadata": {},
     "output_type": "execute_result"
    }
   ],
   "source": [
    "[pairwiseANI, taxonClass, tribes] = ANI.importANIandTaxonomy(externalDataDir, 'COV_out', 'taxonomySAGs.csv')\n",
    "ANI.sameTribePairwiseANI(externalDataDir, pairwiseANI, taxonClass, tribes, 'COV_out')"
   ]
  },
  {
   "cell_type": "markdown",
   "metadata": {},
   "source": [
    "These results suggest a cutoff of 76.68% ANI and 5.4% coverage as a reasonable cutoff for merging an additional genome into the tribe. **This coverage cutoff is incredibly low.** Let's step through the workflow and see if any cases arise where this cutoff would influence classification."
   ]
  },
  {
   "cell_type": "markdown",
   "metadata": {},
   "source": [
    "So, let's take a look at our phylogenetic tree and identify opportunities to merge genomes. \n",
    "\n",
    "A new genome which gets added to the tribe must:\n",
    "* have ANI and coverage above the cutoff\n",
    "* maintain the tribe as a monophylogenetic group\n",
    "\n",
    "![Phylogenetic tree](imageFiles/2015-08-19-Tree-16S&Taxon&Clustering.png)\n",
    "\n",
    "First we will define a function to compute the minimum pairwise ANI within a particular tribe. The function will also compute the minimum pairwise ANI with the new genome added. If this value is lower than the cutoff defined above, then the additional genome is too divergent to be added to the tribe."
   ]
  },
  {
   "cell_type": "markdown",
   "metadata": {},
   "source": [
    "### Cases Involving a Tribe with Multiple SAGs\n",
    "One candidate for addition to a tribe is MEint2297 to tribe acI-A1. Let's check it out:"
   ]
  },
  {
   "cell_type": "code",
   "execution_count": 4,
   "metadata": {
    "collapsed": false
   },
   "outputs": [
    {
     "name": "stdout",
     "output_type": "stream",
     "text": [
      "           AAA027M14  AAA278O22  MEint2297\n",
      "AAA027M14     100.00      79.56      75.47\n",
      "AAA278O22      79.71     100.00      75.62\n",
      "MEint2297      75.66      75.52      99.44\n",
      "79.56\n",
      "\n",
      "The minimum within the tribe acI-A1 is: 79.56\n",
      "\n",
      "When genome MEint2297 is added, the new minimum becomes: 75.47\n",
      "           AAA027M14  AAA278O22  MEint2297\n",
      "AAA027M14     100.66      22.69      12.34\n",
      "AAA278O22      22.83     100.56       7.71\n",
      "MEint2297      11.50       7.80     113.07\n",
      "22.69\n",
      "\n",
      "The minimum within the tribe acI-A1 is: 22.69\n",
      "\n",
      "When genome MEint2297 is added, the new minimum becomes: 7.71\n"
     ]
    }
   ],
   "source": [
    "[pairwiseANI, taxonClass, tribes] = ANI.importANIandTaxonomy(externalDataDir, 'ANI_out', 'taxonomy.csv')\n",
    "ANI.addGenomeToTribe(pairwiseANI, taxonClass, tribes, 'acI-A1', 'MEint2297')\n",
    "\n",
    "[pairwiseANI, taxonClass, tribes] = ANI.importANIandTaxonomy(externalDataDir, 'COV_out', 'taxonomy.csv')\n",
    "ANI.addGenomeToTribe(pairwiseANI, taxonClass, tribes, 'acI-A1', 'MEint2297')"
   ]
  },
  {
   "cell_type": "markdown",
   "metadata": {},
   "source": [
    "The GFM has a smaller pairwise ANI than the cutoff, so it will not get added to the acI-A1 tribe. ** However, this case is borderline and we could consider adding it back in. **"
   ]
  },
  {
   "cell_type": "markdown",
   "metadata": {},
   "source": [
    "### Cases Involving a Tribe with a Single SAG\n",
    "\n",
    "For some tribes we only have a single SAG, such as AAA044-D11 for tribe acI-B4. This SAG forms a monophyletic group with the GFM MEint4252. Can we assign them to the same tribe?\n",
    "\n",
    "The function below takes two inputs:\n",
    "* existingGenomes - one or more genomes defined as belonging to the same tribe\n",
    "* newGenome - the genome being considered for addition to a cluster containing existingGenomes\n",
    "and computes the smallest pairwise ANI among all samples belonging to the same tribe (e.g., the 'cutoff' described above). The function will also compute the minimum pairwise ANI with the new genome added. If this value is lower than the first, then the additional genome is too divergent to be added to the tribe."
   ]
  },
  {
   "cell_type": "markdown",
   "metadata": {},
   "source": [
    "Let's check out AAA044-D11 and MEint4252:"
   ]
  },
  {
   "cell_type": "code",
   "execution_count": 5,
   "metadata": {
    "collapsed": false
   },
   "outputs": [
    {
     "name": "stdout",
     "output_type": "stream",
     "text": [
      "\n",
      "When genome ['MEint4252'] is added, the min among all samples: 84.36\n",
      "\n",
      "When genome ['MEint4252'] is added, the min among all samples: 44.5\n"
     ]
    }
   ],
   "source": [
    "[pairwiseANI, taxonClass, tribes] = ANI.importANIandTaxonomy(externalDataDir, 'ANI_out', 'taxonomy.csv')\n",
    "ANI.compareSamples(externalDataDir, pairwiseANI, taxonClass, tribes, 'ANI_out', ['AAA044D11'], ['MEint4252'])\n",
    "\n",
    "[pairwiseANI, taxonClass, tribes] = ANI.importANIandTaxonomy(externalDataDir, 'COV_out', 'taxonomy.csv')\n",
    "ANI.compareSamples(externalDataDir, pairwiseANI, taxonClass, tribes, 'COV_out', ['AAA044D11'], ['MEint4252'])"
   ]
  },
  {
   "cell_type": "markdown",
   "metadata": {},
   "source": [
    "So we can consider MEint4252 to belong to the same tribe as AAA044-D11. The phylogenetic tree suggests that TBepi.4208 is also a candidate for this tribe:"
   ]
  },
  {
   "cell_type": "code",
   "execution_count": 6,
   "metadata": {
    "collapsed": false
   },
   "outputs": [
    {
     "name": "stdout",
     "output_type": "stream",
     "text": [
      "\n",
      "When genome ['TBepi4208'] is added, the min among all samples: 76.32\n",
      "\n",
      "When genome ['TBepi4208'] is added, the min among all samples: 9.26\n"
     ]
    }
   ],
   "source": [
    "[pairwiseANI, taxonClass, tribes] = ANI.importANIandTaxonomy(externalDataDir, 'ANI_out', 'taxonomySAGs.csv')\n",
    "ANI.compareSamples(externalDataDir, pairwiseANI, taxonClass, tribes, 'ANI_out', ['AAA044D11', 'MEint4252'], ['TBepi4208'])\n",
    "\n",
    "[pairwiseANI, taxonClass, tribes] = ANI.importANIandTaxonomy(externalDataDir, 'COV_out', 'taxonomySAGs.csv')\n",
    "ANI.compareSamples(externalDataDir, pairwiseANI, taxonClass, tribes, 'ANI_out', ['AAA044D11', 'MEint4252'], ['TBepi4208'])"
   ]
  },
  {
   "cell_type": "markdown",
   "metadata": {},
   "source": [
    "Based on ANI, that genome should not get added to the tribe. However, the case is again borderline.\n",
    "\n",
    "There are also examples within the acIV lineage. The SAG AAA027L17 (acIV-B1) forms a monophyletic group with the GFM MEint1719:"
   ]
  },
  {
   "cell_type": "code",
   "execution_count": 7,
   "metadata": {
    "collapsed": false
   },
   "outputs": [
    {
     "name": "stdout",
     "output_type": "stream",
     "text": [
      "\n",
      "When genome ['MEint1719'] is added, the min among all samples: 85.45\n",
      "\n",
      "When genome ['MEint1719'] is added, the min among all samples: 51.33\n"
     ]
    }
   ],
   "source": [
    "[pairwiseANI, taxonClass, tribes] = ANI.importANIandTaxonomy(externalDataDir, 'ANI_out', 'taxonomy.csv')\n",
    "ANI.compareSamples(externalDataDir, pairwiseANI, taxonClass, tribes, 'ANI_out', ['AAA027L17'], ['MEint1719'])\n",
    "\n",
    "[pairwiseANI, taxonClass, tribes] = ANI.importANIandTaxonomy(externalDataDir, 'COV_out', 'taxonomy.csv')\n",
    "ANI.compareSamples(externalDataDir, pairwiseANI, taxonClass, tribes, 'COV_out', ['AAA027L17'], ['MEint1719'])"
   ]
  },
  {
   "cell_type": "markdown",
   "metadata": {},
   "source": [
    "So those two genomes belong to the same tribe.\n",
    "\n",
    "The SAG AAA028K15 (acIV-B2) forms a monophyletic group with the GFM MEint2729:"
   ]
  },
  {
   "cell_type": "code",
   "execution_count": 8,
   "metadata": {
    "collapsed": false
   },
   "outputs": [
    {
     "name": "stdout",
     "output_type": "stream",
     "text": [
      "\n",
      "When genome ['MEint2729'] is added, the min among all samples: 85.11\n",
      "\n",
      "When genome ['MEint2729'] is added, the min among all samples: 47.35\n"
     ]
    }
   ],
   "source": [
    "[pairwiseANI, taxonClass, tribes] = ANI.importANIandTaxonomy(externalDataDir, 'ANI_out', 'taxonomy.csv')\n",
    "ANI.compareSamples(externalDataDir, pairwiseANI, taxonClass, tribes, 'ANI_out', ['AAA028K15'], ['MEint2729'])\n",
    "\n",
    "[pairwiseANI, taxonClass, tribes] = ANI.importANIandTaxonomy(externalDataDir, 'COV_out', 'taxonomy.csv')\n",
    "ANI.compareSamples(externalDataDir, pairwiseANI, taxonClass, tribes, 'COV_out', ['AAA028K15'], ['MEint2729'])"
   ]
  },
  {
   "cell_type": "markdown",
   "metadata": {},
   "source": [
    "So those two genomes belong to the same tribe. This tribe could be expanded through the addition of MEint1091:"
   ]
  },
  {
   "cell_type": "code",
   "execution_count": 9,
   "metadata": {
    "collapsed": false
   },
   "outputs": [
    {
     "name": "stdout",
     "output_type": "stream",
     "text": [
      "\n",
      "When genome ['MEint1091'] is added, the min among all samples: 76.85\n",
      "\n",
      "When genome ['MEint1091'] is added, the min among all samples: 11.99\n"
     ]
    }
   ],
   "source": [
    "[pairwiseANI, taxonClass, tribes] = ANI.importANIandTaxonomy(externalDataDir, 'ANI_out', 'taxonomy.csv')\n",
    "ANI.compareSamples(externalDataDir, pairwiseANI, taxonClass, tribes, 'ANI_out', ['AAA028K15', 'MEint2729'], ['MEint1091'])\n",
    "\n",
    "[pairwiseANI, taxonClass, tribes] = ANI.importANIandTaxonomy(externalDataDir, 'COV_out', 'taxonomy.csv')\n",
    "ANI.compareSamples(externalDataDir, pairwiseANI, taxonClass, tribes, 'COV_out', ['AAA028K15', 'MEint2729'], ['MEint1091'])"
   ]
  },
  {
   "cell_type": "markdown",
   "metadata": {},
   "source": [
    "So this genome can also be added to the tribe, though again the case is borderline."
   ]
  },
  {
   "cell_type": "markdown",
   "metadata": {},
   "source": [
    "### Constructing Tribes de novo\n",
    "\n",
    "The above approach could also be used to cluster GFMs into tribes in the absence of SAGs. This would enable us to declare multiple GFMs as belonging to the same tribe, but without knowing what specific tribe it might be (e.g., within the acIV and acV lineages which suffer from a shortage of GFMs.) \n",
    "\n",
    "For example, the acIV lineage contains a monophyletic group of MEint11576 and BIN_15. Let's compare these two genomes:"
   ]
  },
  {
   "cell_type": "code",
   "execution_count": 10,
   "metadata": {
    "collapsed": false
   },
   "outputs": [
    {
     "name": "stdout",
     "output_type": "stream",
     "text": [
      "\n",
      "When genome ['BIN_15'] is added, the min among all samples: 71.44\n",
      "\n",
      "When genome ['BIN_15'] is added, the min among all samples: 0.78\n"
     ]
    }
   ],
   "source": [
    "[pairwiseANI, taxonClass, tribes] = ANI.importANIandTaxonomy(externalDataDir, 'ANI_out', 'taxonomy.csv')\n",
    "ANI.compareSamples(externalDataDir,pairwiseANI, taxonClass, tribes, 'ANI_out',['MEint11576'], ['BIN_15'])\n",
    "\n",
    "[pairwiseANI, taxonClass, tribes] = ANI.importANIandTaxonomy(externalDataDir,'COV_out', 'taxonomy.csv')\n",
    "ANI.compareSamples(externalDataDir,pairwiseANI, taxonClass, tribes, 'COV_out',['MEint11576'], ['BIN_15'])"
   ]
  },
  {
   "cell_type": "markdown",
   "metadata": {},
   "source": [
    "So those genomes belong to separate tribes."
   ]
  },
  {
   "cell_type": "markdown",
   "metadata": {},
   "source": [
    "Likewise, the acV lineage contains a monophyletic group of TBepi2973 and TBhypo3180. Let's compare these two genomes:"
   ]
  },
  {
   "cell_type": "code",
   "execution_count": 11,
   "metadata": {
    "collapsed": false
   },
   "outputs": [
    {
     "name": "stdout",
     "output_type": "stream",
     "text": [
      "\n",
      "When genome ['TBhypo3180'] is added, the min among all samples: 99.77\n",
      "\n",
      "When genome ['TBhypo3180'] is added, the min among all samples: 92.35\n"
     ]
    }
   ],
   "source": [
    "[pairwiseANI, taxonClass, tribes] = ANI.importANIandTaxonomy(externalDataDir, 'ANI_out', 'taxonomy.csv')\n",
    "ANI.compareSamples(externalDataDir,pairwiseANI, taxonClass, tribes, 'ANI_out',['TBepi2973'], ['TBhypo3180'])\n",
    "\n",
    "[pairwiseANI, taxonClass, tribes] = ANI.importANIandTaxonomy(externalDataDir,'COV_out', 'taxonomy.csv')\n",
    "ANI.compareSamples(externalDataDir,pairwiseANI, taxonClass, tribes, 'COV_out',['TBepi2973'], ['TBhypo3180'])"
   ]
  },
  {
   "cell_type": "markdown",
   "metadata": {},
   "source": [
    "So those two genomes belong to the same tribe. The sample TBhypo9906 is also monophyletic with the two samples above. Should we add it?"
   ]
  },
  {
   "cell_type": "code",
   "execution_count": 12,
   "metadata": {
    "collapsed": false
   },
   "outputs": [
    {
     "name": "stdout",
     "output_type": "stream",
     "text": [
      "\n",
      "When genome ['TBhypo9906'] is added, the min among all samples: 71.19\n",
      "\n",
      "When genome ['TBhypo9906'] is added, the min among all samples: 1.41\n"
     ]
    }
   ],
   "source": [
    "[pairwiseANI, taxonClass, tribes] = ANI.importANIandTaxonomy(externalDataDir, 'ANI_out', 'taxonomy.csv')\n",
    "ANI.compareSamples(externalDataDir,pairwiseANI, taxonClass, tribes, 'ANI_out', ['TBepi2973','TBhypo3180'], ['TBhypo9906'])\n",
    "\n",
    "[pairwiseANI, taxonClass, tribes] = ANI.importANIandTaxonomy(externalDataDir, 'COV_out', 'taxonomy.csv')\n",
    "ANI.compareSamples(externalDataDir,pairwiseANI, taxonClass, tribes, 'COV_out', ['TBepi2973','TBhypo3180'], ['TBhypo9906'])"
   ]
  },
  {
   "cell_type": "markdown",
   "metadata": {},
   "source": [
    "So that genome belongs to a separate tribe. (Remember, the cutoff is 76.68% ANI).\n",
    "\n",
    "The two GFMs TBepi149 and TBhypo3219 also form a monophyletic group:"
   ]
  },
  {
   "cell_type": "code",
   "execution_count": 13,
   "metadata": {
    "collapsed": false
   },
   "outputs": [
    {
     "name": "stdout",
     "output_type": "stream",
     "text": [
      "\n",
      "When genome ['TBhypo3219'] is added, the min among all samples: 99.2\n",
      "\n",
      "When genome ['TBhypo3219'] is added, the min among all samples: 85.46\n"
     ]
    }
   ],
   "source": [
    "[pairwiseANI, taxonClass, tribes] = ANI.importANIandTaxonomy(externalDataDir, 'ANI_out', 'taxonomy.csv')\n",
    "ANI.compareSamples(externalDataDir,pairwiseANI, taxonClass, tribes, 'ANI_out',['TBepi149'], ['TBhypo3219'])\n",
    "\n",
    "[pairwiseANI, taxonClass, tribes] = ANI.importANIandTaxonomy(externalDataDir,'COV_out', 'taxonomy.csv')\n",
    "ANI.compareSamples(externalDataDir,pairwiseANI, taxonClass, tribes, 'COV_out',['TBepi149'], ['TBhypo3219'])"
   ]
  },
  {
   "cell_type": "markdown",
   "metadata": {},
   "source": [
    "So those two genomes belong to the same tribe.\n",
    "\n",
    "The two GFMs TBepi4163 and TBhypo3765 also form a monophyletic group:"
   ]
  },
  {
   "cell_type": "code",
   "execution_count": 14,
   "metadata": {
    "collapsed": false
   },
   "outputs": [
    {
     "name": "stdout",
     "output_type": "stream",
     "text": [
      "\n",
      "When genome ['TBhypo3765'] is added, the min among all samples: 99.85\n",
      "\n",
      "When genome ['TBhypo3765'] is added, the min among all samples: 71.64\n"
     ]
    }
   ],
   "source": [
    "[pairwiseANI, taxonClass, tribes] = ANI.importANIandTaxonomy(externalDataDir, 'ANI_out', 'taxonomy.csv')\n",
    "ANI.compareSamples(externalDataDir,pairwiseANI, taxonClass, tribes, 'ANI_out',['TBepi4163'], ['TBhypo3765'])\n",
    "\n",
    "[pairwiseANI, taxonClass, tribes] = ANI.importANIandTaxonomy(externalDataDir,'COV_out', 'taxonomy.csv')\n",
    "ANI.compareSamples(externalDataDir,pairwiseANI, taxonClass, tribes, 'COV_out',['TBepi4163'], ['TBhypo3765'])"
   ]
  },
  {
   "cell_type": "markdown",
   "metadata": {
    "collapsed": true
   },
   "source": [
    "So those two genomes belong to the same tribe."
   ]
  },
  {
   "cell_type": "markdown",
   "metadata": {},
   "source": [
    "We have three genomes from the acI-C lineage, BIN10, MEint885 and MEint3864. BIN_10 and MEint885 form a monophyletic group. Do they belong to the same tribe?"
   ]
  },
  {
   "cell_type": "code",
   "execution_count": 15,
   "metadata": {
    "collapsed": false
   },
   "outputs": [
    {
     "name": "stdout",
     "output_type": "stream",
     "text": [
      "\n",
      "When genome ['MEint885'] is added, the min among all samples: 88.43\n",
      "\n",
      "When genome ['MEint885'] is added, the min among all samples: 62.24\n"
     ]
    }
   ],
   "source": [
    "[pairwiseANI, taxonClass, tribes] = ANI.importANIandTaxonomy(externalDataDir, 'ANI_out', 'taxonomy.csv')\n",
    "ANI.compareSamples(externalDataDir,pairwiseANI, taxonClass, tribes, 'ANI_out',['BIN_10'], ['MEint885'])\n",
    "\n",
    "[pairwiseANI, taxonClass, tribes] = ANI.importANIandTaxonomy(externalDataDir,'COV_out', 'taxonomy.csv')\n",
    "ANI.compareSamples(externalDataDir,pairwiseANI, taxonClass, tribes, 'COV_out',['BIN_10'], ['MEint885'])"
   ]
  },
  {
   "cell_type": "markdown",
   "metadata": {},
   "source": [
    "So BIN_10 and MEint885 belong to the same tribe. Does MEint3864 belong to this tribe also?"
   ]
  },
  {
   "cell_type": "code",
   "execution_count": 16,
   "metadata": {
    "collapsed": false
   },
   "outputs": [
    {
     "name": "stdout",
     "output_type": "stream",
     "text": [
      "\n",
      "When genome ['MEint3864'] is added, the min among all samples: 74.07\n",
      "\n",
      "When genome ['MEint3864'] is added, the min among all samples: 6.83\n"
     ]
    }
   ],
   "source": [
    "[pairwiseANI, taxonClass, tribes] = ANI.importANIandTaxonomy(externalDataDir, 'ANI_out', 'taxonomy.csv')\n",
    "ANI.compareSamples(externalDataDir,pairwiseANI, taxonClass, tribes, 'ANI_out',['BIN_10', 'MEint885'], ['MEint3864'])\n",
    "\n",
    "[pairwiseANI, taxonClass, tribes] = ANI.importANIandTaxonomy(externalDataDir,'COV_out', 'taxonomy.csv')\n",
    "ANI.compareSamples(externalDataDir,pairwiseANI, taxonClass, tribes, 'COV_out',['BIN_10', 'MEint885'], ['MEint3864'])"
   ]
  },
  {
   "cell_type": "markdown",
   "metadata": {},
   "source": [
    "No it does not, though again just barely."
   ]
  },
  {
   "cell_type": "markdown",
   "metadata": {},
   "source": [
    "Within the acI-B lineage, we have a number of TB samples but no SAGs. Monophyletic groups include:\n",
    "* TBhypo3838 and TBepi2057\n",
    "* TBhypo680 and TBepi2754\n",
    "* TBhypo3463 and TBepi3207"
   ]
  },
  {
   "cell_type": "code",
   "execution_count": 17,
   "metadata": {
    "collapsed": false
   },
   "outputs": [
    {
     "name": "stdout",
     "output_type": "stream",
     "text": [
      "\n",
      "When genome ['TBepi2057'] is added, the min among all samples: 99.04\n",
      "\n",
      "When genome ['TBepi2057'] is added, the min among all samples: 79.07\n"
     ]
    }
   ],
   "source": [
    "[pairwiseANI, taxonClass, tribes] = ANI.importANIandTaxonomy(externalDataDir, 'ANI_out', 'taxonomy.csv')\n",
    "ANI.compareSamples(externalDataDir,pairwiseANI, taxonClass, tribes, 'ANI_out',['TBhypo3838'], ['TBepi2057'])\n",
    "\n",
    "[pairwiseANI, taxonClass, tribes] = ANI.importANIandTaxonomy(externalDataDir,'COV_out', 'taxonomy.csv')\n",
    "ANI.compareSamples(externalDataDir,pairwiseANI, taxonClass, tribes, 'COV_out',['TBhypo3838'], ['TBepi2057'])"
   ]
  },
  {
   "cell_type": "code",
   "execution_count": 18,
   "metadata": {
    "collapsed": false
   },
   "outputs": [
    {
     "name": "stdout",
     "output_type": "stream",
     "text": [
      "\n",
      "When genome ['TBepi2754'] is added, the min among all samples: 99.48\n",
      "\n",
      "When genome ['TBepi2754'] is added, the min among all samples: 88.84\n"
     ]
    }
   ],
   "source": [
    "[pairwiseANI, taxonClass, tribes] = ANI.importANIandTaxonomy(externalDataDir, 'ANI_out', 'taxonomy.csv')\n",
    "ANI.compareSamples(externalDataDir,pairwiseANI, taxonClass, tribes, 'ANI_out',['TBhypo680'], ['TBepi2754'])\n",
    "\n",
    "[pairwiseANI, taxonClass, tribes] = ANI.importANIandTaxonomy(externalDataDir,'COV_out', 'taxonomy.csv')\n",
    "ANI.compareSamples(externalDataDir,pairwiseANI, taxonClass, tribes, 'COV_out',['TBhypo680'], ['TBepi2754'])"
   ]
  },
  {
   "cell_type": "code",
   "execution_count": 19,
   "metadata": {
    "collapsed": false
   },
   "outputs": [
    {
     "name": "stdout",
     "output_type": "stream",
     "text": [
      "\n",
      "When genome ['TBepi3207'] is added, the min among all samples: 99.53\n",
      "\n",
      "When genome ['TBepi3207'] is added, the min among all samples: 81.82\n"
     ]
    }
   ],
   "source": [
    "[pairwiseANI, taxonClass, tribes] = ANI.importANIandTaxonomy(externalDataDir, 'ANI_out', 'taxonomy.csv')\n",
    "ANI.compareSamples(externalDataDir,pairwiseANI, taxonClass, tribes, 'ANI_out',['TBhypo3463'], ['TBepi3207'])\n",
    "\n",
    "[pairwiseANI, taxonClass, tribes] = ANI.importANIandTaxonomy(externalDataDir,'COV_out', 'taxonomy.csv')\n",
    "ANI.compareSamples(externalDataDir,pairwiseANI, taxonClass, tribes, 'COV_out',['TBhypo3463'], ['TBepi3207'])"
   ]
  },
  {
   "cell_type": "markdown",
   "metadata": {},
   "source": [
    "So each monophyletic pair contains two members of a tribe.\n",
    "\n",
    "The two tribes TBhypo680, TBepi2754, also form a monophyletic group with bin7_acI_B2. Could they all belong to the same tribe?"
   ]
  },
  {
   "cell_type": "code",
   "execution_count": 20,
   "metadata": {
    "collapsed": false
   },
   "outputs": [
    {
     "name": "stdout",
     "output_type": "stream",
     "text": [
      "\n",
      "When genome ['bin_7_acI-B2'] is added, the min among all samples: 77.78\n",
      "\n",
      "When genome ['bin_7_acI-B2'] is added, the min among all samples: 23.92\n"
     ]
    }
   ],
   "source": [
    "[pairwiseANI, taxonClass, tribes] = ANI.importANIandTaxonomy(externalDataDir, 'ANI_out', 'taxonomy.csv')\n",
    "ANI.compareSamples(externalDataDir,pairwiseANI, taxonClass, tribes, 'ANI_out', ['TBhypo680', 'TBepi2754'], ['bin_7_acI-B2'])\n",
    "\n",
    "[pairwiseANI, taxonClass, tribes] = ANI.importANIandTaxonomy(externalDataDir, 'COV_out', 'taxonomy.csv')\n",
    "ANI.compareSamples(externalDataDir,pairwiseANI, taxonClass, tribes, 'COV_out', ['TBhypo680', 'TBepi2754'], ['bin_7_acI-B2'])"
   ]
  },
  {
   "cell_type": "markdown",
   "metadata": {},
   "source": [
    "Yes. These three samples are from the tribe acI-B2! The five samples TBepi2754, TBhypo680, bin_7_acI-B2, TBepi3207, TBhypo3838 also form a monophyletic group. Could all five belong to the same tribe?"
   ]
  },
  {
   "cell_type": "code",
   "execution_count": 21,
   "metadata": {
    "collapsed": false
   },
   "outputs": [
    {
     "name": "stdout",
     "output_type": "stream",
     "text": [
      "\n",
      "When genome ['TBhypo3838'] is added, the min among all samples: 72.99\n",
      "\n",
      "When genome ['TBhypo3838'] is added, the min among all samples: 7.45\n"
     ]
    }
   ],
   "source": [
    "[pairwiseANI, taxonClass, tribes] = ANI.importANIandTaxonomy(externalDataDir, 'ANI_out', 'taxonomy.csv')\n",
    "ANI.compareSamples(externalDataDir,pairwiseANI, taxonClass, tribes, 'ANI_out', ['TBhypo680', 'TBepi2754', 'bin_7_acI-B2', 'TBepi3207'], ['TBhypo3838'])\n",
    "\n",
    "[pairwiseANI, taxonClass, tribes] = ANI.importANIandTaxonomy(externalDataDir, 'COV_out', 'taxonomy.csv')\n",
    "ANI.compareSamples(externalDataDir,pairwiseANI, taxonClass, tribes, 'COV_out', ['TBhypo680', 'TBepi2754', 'bin_7_acI-B2', 'TBepi3207'], ['TBhypo3838'])"
   ]
  },
  {
   "cell_type": "markdown",
   "metadata": {},
   "source": [
    "So these genomes belong to separate tribes.\n",
    "\n",
    "Finally, Ghai et al proposed a new acMicro lineage. Let's look at those two genomes, acMicro-1 and acMicro-4:"
   ]
  },
  {
   "cell_type": "code",
   "execution_count": 22,
   "metadata": {
    "collapsed": false
   },
   "outputs": [
    {
     "name": "stdout",
     "output_type": "stream",
     "text": [
      "\n",
      "When genome ['acMicro-4'] is added, the min among all samples: 74.79\n",
      "\n",
      "When genome ['acMicro-4'] is added, the min among all samples: 2.39\n"
     ]
    }
   ],
   "source": [
    "[pairwiseANI, taxonClass, tribes] = ANI.importANIandTaxonomy(externalDataDir, 'ANI_out', 'taxonomy.csv')\n",
    "ANI.compareSamples(externalDataDir,pairwiseANI, taxonClass, tribes, 'ANI_out', ['acMicro-1'], ['acMicro-4'])\n",
    "\n",
    "[pairwiseANI, taxonClass, tribes] = ANI.importANIandTaxonomy(externalDataDir, 'COV_out', 'taxonomy.csv')\n",
    "ANI.compareSamples(externalDataDir,pairwiseANI, taxonClass, tribes, 'COV_out', ['acMicro-1'], ['acMicro-4'])"
   ]
  },
  {
   "cell_type": "markdown",
   "metadata": {},
   "source": [
    "So those two genomes belong to separate tribes."
   ]
  },
  {
   "cell_type": "markdown",
   "metadata": {},
   "source": [
    "### Conclusions\n",
    "\n",
    "This analysis allowed us to classify the following GFMs as belonging to a tribe:\n",
    "\n",
    "* acI-B2: bin_7_acI-B2 and (TBepi2754 and TBhypo680)\n",
    "* acI-B4: AAA044-D11 and MEint4252\n",
    "* Other acI-B tribes\n",
    "    * TBepi2057 and TBhypo3838\n",
    "    * TBepi3207 and TBhypo3463\n",
    "* Unknown acI-C tribe: BIN_10 and MEint885\n",
    "* acIV-B1: AAA027L17 and MEint1719\n",
    "* acIV-B2: (AAA028K15 and MEint2729) and MEint1091\n",
    "* Unknown V tribes\n",
    "    * TBepi2973 and TBhypo3180\n",
    "    * TBepi149 and TBhypo3219\n",
    "    * TBepi4163 and TBhypo3765\n",
    "    \n",
    "However, the following classifications are \"borderline,\" or sensitive to the final ANI and coverage cutoffs. \n",
    "\n",
    "* acI-B2: bin_7_acI-B2 and (TBepi2754 and TBhypo680)\n",
    "* acIV-B2: (AAA028K15 and MEint2729) and MEint1091\n",
    "\n",
    "Generally, these classifications arise when building a larger monophyletic group from a smaller one. For this reason, I have chosen only to consider merges taken at the narrowest phylogenetic group within a progression. Thus, the final merges are:\n",
    "\n",
    "* acI-B4: AAA044-D11 and MEint4252\n",
    "* Other acI-B tribes\n",
    "    * TBepi2754 and TBhypo680\n",
    "    * TBepi2057 and TBhypo3838\n",
    "    * TBepi3207 and TBhypo3463\n",
    "* Unknown acI-C tribe: BIN_10 and MEint885\n",
    "* acIV-B1: AAA027L17 and MEint1719\n",
    "* acIV-B2: AAA028K15 and MEint2729\n",
    "* Unknown V tribes\n",
    "    * TBepi2973 and TBhypo3180\n",
    "    * TBepi149 and TBhypo3219\n",
    "    * TBepi4163 and TBhypo3765\n",
    "    \n",
    "The phylogenetic tree shown below highlights these GFMs (in black). Merges which are rejected are shown in gray.\n",
    "\n",
    "![Phylogenetic tree](imageFiles/2015-08-19-Tree-16S&Taxon&Clustering&Merging.png)\n",
    "\n",
    "For reference, additional genomes which could be merged include:\n",
    "\n",
    "* MEint1091\n",
    "* TBhypo9906\n",
    "* bin_7_acI-B2\n",
    "* TBepi4208\n",
    "* MEint3864\n",
    "* MEint2297\n",
    "\n",
    "There are still some shortcomings with this approach. For example, the acI-B clade has four tribes, A through D. If we assume tribes are monophyletic (which we have been assuming), our analysis indicate seven tribes within the acI-B clade: the four circled pairs plus the tree singletons. Our analysis similarly predicts too many tribes within the acIV and acV lineags as well."
   ]
  },
  {
   "cell_type": "markdown",
   "metadata": {
    "collapsed": true
   },
   "source": [
    "\n",
    "To avoid this problem, for genome merging at the tribe level, only samples classified into a named tribe will be used. The phylogenetic tree shown below includes *only* those samples.\n",
    "\n",
    "![Phylogenetic tree](imageFiles/2015-08-21-FinalTree-TribesOnly.png)\n"
   ]
  },
  {
   "cell_type": "code",
   "execution_count": null,
   "metadata": {
    "collapsed": true
   },
   "outputs": [],
   "source": []
  }
 ],
 "metadata": {
  "kernelspec": {
   "display_name": "Python 2",
   "language": "python",
   "name": "python2"
  },
  "language_info": {
   "codemirror_mode": {
    "name": "ipython",
    "version": 2
   },
   "file_extension": ".py",
   "mimetype": "text/x-python",
   "name": "python",
   "nbconvert_exporter": "python",
   "pygments_lexer": "ipython2",
   "version": "2.7.10"
  }
 },
 "nbformat": 4,
 "nbformat_minor": 0
}
