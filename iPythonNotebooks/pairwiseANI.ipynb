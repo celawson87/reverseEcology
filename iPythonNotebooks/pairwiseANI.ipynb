{
 "cells": [
  {
   "cell_type": "markdown",
   "metadata": {},
   "source": [
    "# Merging of Metabolic Network Graphs\n",
    "\n",
    "The purpose of this notebook is to identify criteria for classifying GFMs (without 16S sequence data) as members of a particular tribe, based on shared amino acid identity (ANI). The metabolic models of these genomes will then be merged to give a model which is better representative of a particular tribe. Our reverse ecology analysis will then be performed on these merged models."
   ]
  },
  {
   "cell_type": "markdown",
   "metadata": {},
   "source": [
    "## Merging Genomes Based on ANI\n",
    "Pairwise ANI were computed by Sarah using the method in Goris et al IJSEM 2007. This notebook examines pairwise ANI values between all members within a tribe to identify a minimum ANI criterion for adding a new genome to the tribe. Then I identify genomes which are candidates for inclusion within a tribe (based on phylogeny) and determine whether or not they can be included within a tribe (based on ANI).\n",
    "\n",
    "#### References\n",
    "1. Konstantinidis, K. T., & Tiedje, J. M. (2005). Genomic insights that advance the species definition for prokaryotes. Proceedings of the National Academy of Sciences, 102(7), 2567–2572.\n",
    "2. Goris, J., Konstantinidis, K. T., Klappenbach, J. A., Coenye, T., Vandamme, P., & Tiedje, J. M. (2007). DNA-DNA hybridization values and their relationship to whole-genome sequence similarities. International Journal of Systematic and Evolutionary Microbiology, 57(1), 81–91.\n",
    "\n",
    "#### TO DO\n",
    "1. Extend this analysis to examine coverage as well as ANI.\n",
    "\n",
    "The first chunk of code identifies imports the Python packages necessary for this analysis."
   ]
  },
  {
   "cell_type": "code",
   "execution_count": 1,
   "metadata": {
    "collapsed": false
   },
   "outputs": [],
   "source": [
    "# Import special features for iPython\n",
    "import sys\n",
    "sys.path.append('../Python')\n",
    "import matplotlib\n",
    "%matplotlib inline\n",
    "\n",
    "# Import Python modules \n",
    "# These custom-written modules should have been included with the package\n",
    "# distribution. \n",
    "import pairwiseANIFunctions as ANI\n",
    "\n",
    "# Define local folder structure for data input and processing.\n",
    "externalDataDir = 'ExternalData'"
   ]
  },
  {
   "cell_type": "markdown",
   "metadata": {},
   "source": [
    "### Using SAGs to Compute Cutoffs\n",
    "\n",
    "I want to identify an ANI cutoff, such that any two genomes belonging to the same tribe have an ANI greater than this value. The function below computes the minimum and maximum pairwise ANI for all genomes belonging to the same tribe."
   ]
  },
  {
   "cell_type": "code",
   "execution_count": 2,
   "metadata": {
    "collapsed": false
   },
   "outputs": [
    {
     "data": {
      "text/html": [
       "<div style=\"max-height:1000px;max-width:1500px;overflow:auto;\">\n",
       "<table border=\"1\" class=\"dataframe\">\n",
       "  <thead>\n",
       "    <tr style=\"text-align: right;\">\n",
       "      <th></th>\n",
       "      <th>Samples</th>\n",
       "      <th>Num Samples</th>\n",
       "      <th>Max ANI</th>\n",
       "      <th>Min ANI</th>\n",
       "    </tr>\n",
       "  </thead>\n",
       "  <tbody>\n",
       "    <tr>\n",
       "      <th>Iluma-A2</th>\n",
       "      <td>[AAA027E14]</td>\n",
       "      <td>1</td>\n",
       "      <td>99.97</td>\n",
       "      <td>99.97</td>\n",
       "    </tr>\n",
       "    <tr>\n",
       "      <th>Iluma-B1</th>\n",
       "      <td>[AAA027L17]</td>\n",
       "      <td>1</td>\n",
       "      <td>99.54</td>\n",
       "      <td>99.54</td>\n",
       "    </tr>\n",
       "    <tr>\n",
       "      <th>Luna1-A2</th>\n",
       "      <td>[AAA028P02]</td>\n",
       "      <td>1</td>\n",
       "      <td>100</td>\n",
       "      <td>100</td>\n",
       "    </tr>\n",
       "    <tr>\n",
       "      <th>acI-A1</th>\n",
       "      <td>[AAA027M14, AAA278O22]</td>\n",
       "      <td>2</td>\n",
       "      <td>100</td>\n",
       "      <td>79.56</td>\n",
       "    </tr>\n",
       "    <tr>\n",
       "      <th>acI-A5</th>\n",
       "      <td>[AAA028G02, AAA044O16]</td>\n",
       "      <td>2</td>\n",
       "      <td>99.95</td>\n",
       "      <td>86.69</td>\n",
       "    </tr>\n",
       "    <tr>\n",
       "      <th>acI-A6</th>\n",
       "      <td>[AAA028E20, AAA028I14]</td>\n",
       "      <td>2</td>\n",
       "      <td>100</td>\n",
       "      <td>81.17</td>\n",
       "    </tr>\n",
       "    <tr>\n",
       "      <th>acI-A7</th>\n",
       "      <td>[AAA023J06, AAA024D14, AAA041L13, AAA044N04]</td>\n",
       "      <td>4</td>\n",
       "      <td>100</td>\n",
       "      <td>87.13</td>\n",
       "    </tr>\n",
       "    <tr>\n",
       "      <th>acI-B1</th>\n",
       "      <td>[AAA023D18, AAA027J17, AAA027L06, AAA028A23, A...</td>\n",
       "      <td>6</td>\n",
       "      <td>100</td>\n",
       "      <td>79.06</td>\n",
       "    </tr>\n",
       "    <tr>\n",
       "      <th>acI-B4</th>\n",
       "      <td>[AAA044D11]</td>\n",
       "      <td>1</td>\n",
       "      <td>100</td>\n",
       "      <td>100</td>\n",
       "    </tr>\n",
       "  </tbody>\n",
       "</table>\n",
       "</div>"
      ],
      "text/plain": [
       "                                                    Samples Num Samples  \\\n",
       "Iluma-A2                                        [AAA027E14]           1   \n",
       "Iluma-B1                                        [AAA027L17]           1   \n",
       "Luna1-A2                                        [AAA028P02]           1   \n",
       "acI-A1                               [AAA027M14, AAA278O22]           2   \n",
       "acI-A5                               [AAA028G02, AAA044O16]           2   \n",
       "acI-A6                               [AAA028E20, AAA028I14]           2   \n",
       "acI-A7         [AAA023J06, AAA024D14, AAA041L13, AAA044N04]           4   \n",
       "acI-B1    [AAA023D18, AAA027J17, AAA027L06, AAA028A23, A...           6   \n",
       "acI-B4                                          [AAA044D11]           1   \n",
       "\n",
       "         Max ANI Min ANI  \n",
       "Iluma-A2   99.97   99.97  \n",
       "Iluma-B1   99.54   99.54  \n",
       "Luna1-A2     100     100  \n",
       "acI-A1       100   79.56  \n",
       "acI-A5     99.95   86.69  \n",
       "acI-A6       100   81.17  \n",
       "acI-A7       100   87.13  \n",
       "acI-B1       100   79.06  \n",
       "acI-B4       100     100  "
      ]
     },
     "execution_count": 2,
     "metadata": {},
     "output_type": "execute_result"
    }
   ],
   "source": [
    "[pairwiseANI, taxonClass, tribes] = ANI.importANIandTaxonomy(externalDataDir, 'ANI_out', 'taxonomySAGs.csv')\n",
    "ANI.sameTribePairwiseANI(externalDataDir, pairwiseANI, taxonClass, tribes)"
   ]
  },
  {
   "cell_type": "markdown",
   "metadata": {},
   "source": [
    "This suggests a cutoff of 79% ANI as a reasonable cutoff for merging an additional genome into the tribe."
   ]
  },
  {
   "cell_type": "markdown",
   "metadata": {},
   "source": [
    "So, let's take a look at our phylogenetic tree and identify opportunities to merge genomes. A new genome which gets added to the tribe must:\n",
    "* have ANI above the tribe-specific cutoff\n",
    "* maintain the tribe as a monophylogenetic group\n",
    "\n",
    "![Phylogenetic tree](imageFiles/2015-07-03 Phylogenetic Tree.png)\n",
    "\n",
    "First we will define a function to compute the minimum pairwise ANI within a particular tribe. The function will also compute the minimum pairwise ANI with the new genome added. If this value is lower than the cutoff defined above, then the additional genome is too divergent to be added to the tribe."
   ]
  },
  {
   "cell_type": "markdown",
   "metadata": {},
   "source": [
    "### Cases Involving a Tribe with Multiple SAGs\n",
    "One candidate for addition to a tribe is MEint2297 to tribe acI-A1. Let's check it out:"
   ]
  },
  {
   "cell_type": "code",
   "execution_count": 3,
   "metadata": {
    "collapsed": false
   },
   "outputs": [
    {
     "name": "stdout",
     "output_type": "stream",
     "text": [
      "                  AAA027M14  AAA278O22  MEintmetabat2297\n",
      "AAA027M14            100.00      79.56             75.47\n",
      "AAA278O22             79.71     100.00             75.62\n",
      "MEintmetabat2297      75.66      75.52             99.44\n",
      "79.56\n",
      "\n",
      "The minimum ANI within the tribe acI-A1 is: 79.56\n",
      "\n",
      "When genome MEintmetabat2297 is added, the min pairwise ANI becomes: 75.47\n"
     ]
    }
   ],
   "source": [
    "[pairwiseANI, taxonClass, tribes] = ANI.importANIandTaxonomy(externalDataDir, 'ANI_out', 'taxonomy.csv')\n",
    "ANI.addGenomeToTribe(pairwiseANI, taxonClass, tribes, 'acI-A1', 'MEintmetabat2297')"
   ]
  },
  {
   "cell_type": "markdown",
   "metadata": {},
   "source": [
    "The GFM has a smaller pairwise ANI than the cutoff (79.06), so it will not get added to the acI-A1 tribe."
   ]
  },
  {
   "cell_type": "markdown",
   "metadata": {},
   "source": [
    "### Cases Involving a Tribe with a Single SAG\n",
    "\n",
    "For some tribes we only have a single SAG, such as AAA044-D11 for tribe acI-B4. This SAG forms a monophyletic group with the GFM MEint4252. Can we assign them to the same tribe?\n",
    "\n",
    "The function below takes two inputs:\n",
    "* existingGenomes - one or more genomes defined as belonging to the same tribe\n",
    "* newGenome - the genome being considered for addition to a cluster containing existingGenomes\n",
    "and computes the smallest pairwise ANI among all samples belonging to the same tribe (e.g., the 'cutoff' described above). The function will also compute the minimum pairwise ANI with the new genome added. If this value is lower than the first, then the additional genome is too divergent to be added to the tribe."
   ]
  },
  {
   "cell_type": "markdown",
   "metadata": {},
   "source": [
    "Let's check out AAA044-D11 and MEint4252:"
   ]
  },
  {
   "cell_type": "code",
   "execution_count": 4,
   "metadata": {
    "collapsed": false
   },
   "outputs": [
    {
     "name": "stdout",
     "output_type": "stream",
     "text": [
      "\n",
      "When genome ['MEintmetabat4252'] is added, the min pairwise ANI among all samples: 84.36\n"
     ]
    }
   ],
   "source": [
    "[pairwiseANI, taxonClass, tribes] = ANI.importANIandTaxonomy(externalDataDir, 'ANI_out', 'taxonomy.csv')\n",
    "\n",
    "ANI.compareSamples(externalDataDir, pairwiseANI, taxonClass, tribes, ['AAA044D11'], ['MEintmetabat4252'])"
   ]
  },
  {
   "cell_type": "markdown",
   "metadata": {},
   "source": [
    "So we can consider MEint4252 to belong to the same tribe as AAA044-D11. The phylogenetic tree suggests that TBepi.4208 is also a candidate for this tribe:"
   ]
  },
  {
   "cell_type": "code",
   "execution_count": 5,
   "metadata": {
    "collapsed": false
   },
   "outputs": [
    {
     "name": "stdout",
     "output_type": "stream",
     "text": [
      "\n",
      "When genome ['TBepimetabat4208'] is added, the min pairwise ANI among all samples: 76.32\n"
     ]
    }
   ],
   "source": [
    "[pairwiseANI, taxonClass, tribes] = ANI.importANIandTaxonomy(externalDataDir, 'ANI_out', 'taxonomySAGs.csv')\n",
    "ANI.compareSamples(externalDataDir, pairwiseANI, taxonClass, tribes, ['AAA044D11', 'MEintmetabat4252'], ['TBepimetabat4208'])"
   ]
  },
  {
   "cell_type": "markdown",
   "metadata": {},
   "source": [
    "So that genome should not get added to the tribe.\n",
    "\n",
    "There are other examples, but I will hold off on further analysis until I incorporate coverage into my analysis."
   ]
  },
  {
   "cell_type": "markdown",
   "metadata": {},
   "source": [
    "### Constructing Tribes de novo\n",
    "\n",
    "The above approach could also be used to cluster GFMs into tribes in the absence of SAGs. This would enable us to declare multiple GFMs as belonging to the same tribe, but without knowing what specific tribe it might be (e.g., within the acIV and acV lineages which currently lack GFMs.) \n",
    "\n",
    "For example, the acV lineage contains a monophyletic group of TBepi2973 and TBhypo3180. Let's compare these two genomes:"
   ]
  },
  {
   "cell_type": "code",
   "execution_count": 6,
   "metadata": {
    "collapsed": false
   },
   "outputs": [
    {
     "name": "stdout",
     "output_type": "stream",
     "text": [
      "\n",
      "When genome ['TBhypometabat3180'] is added, the min pairwise ANI among all samples: 99.77\n"
     ]
    }
   ],
   "source": [
    "[pairwiseANI, taxonClass, tribes] = ANI.importANIandTaxonomy(externalDataDir,'ANI_out', 'taxonomy.csv')\n",
    "ANI.compareSamples(externalDataDir,pairwiseANI, taxonClass, tribes, ['TBepimetabat2973'], ['TBhypometabat3180'])"
   ]
  },
  {
   "cell_type": "markdown",
   "metadata": {},
   "source": [
    "The sample TBhypo9906 is also monophyletic with the two samples above. Should we add it?"
   ]
  },
  {
   "cell_type": "code",
   "execution_count": 7,
   "metadata": {
    "collapsed": false
   },
   "outputs": [
    {
     "name": "stdout",
     "output_type": "stream",
     "text": [
      "\n",
      "When genome ['TBhypometabat9906'] is added, the min pairwise ANI among all samples: 71.19\n"
     ]
    }
   ],
   "source": [
    "[pairwiseANI, taxonClass, tribes] = ANI.importANIandTaxonomy(externalDataDir,'ANI_out', 'taxonomy.csv')\n",
    "ANI.compareSamples(externalDataDir,pairwiseANI, taxonClass, tribes, ['TBepimetabat2973','TBhypometabat3180'], ['TBhypometabat9906'])"
   ]
  },
  {
   "cell_type": "markdown",
   "metadata": {},
   "source": [
    "So that genome belongs to a separate tribe. (Remember, the cutoff is 79.06% ANI)"
   ]
  },
  {
   "cell_type": "markdown",
   "metadata": {},
   "source": [
    "### Conclusions\n",
    "\n",
    "Use of ANI seems a promising way to classify genomes into tribes. To be continued..."
   ]
  },
  {
   "cell_type": "markdown",
   "metadata": {},
   "source": [
    "### How Many SAGs Do We Need?\n",
    "\n",
    "In order to have a robust estimate of the ANI which defines a tribe (or clade, or lineage), we need to be confident we have enough samples (e.g., so that acculumating more SAGs doesn't change the ANI cutoff). Let's see how many samples we have from each tribe:"
   ]
  },
  {
   "cell_type": "code",
   "execution_count": 8,
   "metadata": {
    "collapsed": false
   },
   "outputs": [
    {
     "data": {
      "text/html": [
       "<div style=\"max-height:1000px;max-width:1500px;overflow:auto;\">\n",
       "<table border=\"1\" class=\"dataframe\">\n",
       "  <thead>\n",
       "    <tr style=\"text-align: right;\">\n",
       "      <th></th>\n",
       "      <th>Samples</th>\n",
       "      <th>Num Samples</th>\n",
       "      <th>Max ANI</th>\n",
       "      <th>Min ANI</th>\n",
       "    </tr>\n",
       "  </thead>\n",
       "  <tbody>\n",
       "    <tr>\n",
       "      <th>Iluma-A2</th>\n",
       "      <td>[AAA027E14]</td>\n",
       "      <td>1</td>\n",
       "      <td>99.97</td>\n",
       "      <td>99.97</td>\n",
       "    </tr>\n",
       "    <tr>\n",
       "      <th>Iluma-B1</th>\n",
       "      <td>[AAA027L17]</td>\n",
       "      <td>1</td>\n",
       "      <td>99.54</td>\n",
       "      <td>99.54</td>\n",
       "    </tr>\n",
       "    <tr>\n",
       "      <th>Luna1-A2</th>\n",
       "      <td>[AAA028P02]</td>\n",
       "      <td>1</td>\n",
       "      <td>100</td>\n",
       "      <td>100</td>\n",
       "    </tr>\n",
       "    <tr>\n",
       "      <th>acI-A1</th>\n",
       "      <td>[AAA027M14, AAA278O22]</td>\n",
       "      <td>2</td>\n",
       "      <td>100</td>\n",
       "      <td>79.56</td>\n",
       "    </tr>\n",
       "    <tr>\n",
       "      <th>acI-A5</th>\n",
       "      <td>[AAA028G02, AAA044O16]</td>\n",
       "      <td>2</td>\n",
       "      <td>99.95</td>\n",
       "      <td>86.69</td>\n",
       "    </tr>\n",
       "    <tr>\n",
       "      <th>acI-A6</th>\n",
       "      <td>[AAA028E20, AAA028I14]</td>\n",
       "      <td>2</td>\n",
       "      <td>100</td>\n",
       "      <td>81.17</td>\n",
       "    </tr>\n",
       "    <tr>\n",
       "      <th>acI-A7</th>\n",
       "      <td>[AAA023J06, AAA024D14, AAA041L13, AAA044N04]</td>\n",
       "      <td>4</td>\n",
       "      <td>100</td>\n",
       "      <td>87.13</td>\n",
       "    </tr>\n",
       "    <tr>\n",
       "      <th>acI-B1</th>\n",
       "      <td>[AAA023D18, AAA027J17, AAA027L06, AAA028A23, A...</td>\n",
       "      <td>6</td>\n",
       "      <td>100</td>\n",
       "      <td>79.06</td>\n",
       "    </tr>\n",
       "    <tr>\n",
       "      <th>acI-B4</th>\n",
       "      <td>[AAA044D11]</td>\n",
       "      <td>1</td>\n",
       "      <td>100</td>\n",
       "      <td>100</td>\n",
       "    </tr>\n",
       "  </tbody>\n",
       "</table>\n",
       "</div>"
      ],
      "text/plain": [
       "                                                    Samples Num Samples  \\\n",
       "Iluma-A2                                        [AAA027E14]           1   \n",
       "Iluma-B1                                        [AAA027L17]           1   \n",
       "Luna1-A2                                        [AAA028P02]           1   \n",
       "acI-A1                               [AAA027M14, AAA278O22]           2   \n",
       "acI-A5                               [AAA028G02, AAA044O16]           2   \n",
       "acI-A6                               [AAA028E20, AAA028I14]           2   \n",
       "acI-A7         [AAA023J06, AAA024D14, AAA041L13, AAA044N04]           4   \n",
       "acI-B1    [AAA023D18, AAA027J17, AAA027L06, AAA028A23, A...           6   \n",
       "acI-B4                                          [AAA044D11]           1   \n",
       "\n",
       "         Max ANI Min ANI  \n",
       "Iluma-A2   99.97   99.97  \n",
       "Iluma-B1   99.54   99.54  \n",
       "Luna1-A2     100     100  \n",
       "acI-A1       100   79.56  \n",
       "acI-A5     99.95   86.69  \n",
       "acI-A6       100   81.17  \n",
       "acI-A7       100   87.13  \n",
       "acI-B1       100   79.06  \n",
       "acI-B4       100     100  "
      ]
     },
     "execution_count": 8,
     "metadata": {},
     "output_type": "execute_result"
    }
   ],
   "source": [
    "[pairwiseANI, taxonClass, tribes] = ANI.importANIandTaxonomy(externalDataDir,'ANI_out', 'taxonomySAGs.csv')\n",
    "ANI.sameTribePairwiseANI(externalDataDir,pairwiseANI, taxonClass, tribes)"
   ]
  },
  {
   "cell_type": "markdown",
   "metadata": {},
   "source": [
    "We have the most SAGs from tribe acI-B1, and the pairwise ANI between samples ranges from 79 to 99%. Let's suppose these six SAGs are representative of the entire acI-B1 sequence space. Suppose we only sequenced two SAGs. The function below will compute all possible pairs and their max and min ANI:"
   ]
  },
  {
   "cell_type": "code",
   "execution_count": 9,
   "metadata": {
    "collapsed": false
   },
   "outputs": [
    {
     "name": "stdout",
     "output_type": "stream",
     "text": [
      "                       Max ANI Min ANI\n",
      "(AAA023D18, AAA027J17)     100   79.88\n",
      "(AAA023D18, AAA027L06)     100   80.01\n",
      "(AAA023D18, AAA028A23)     100   80.01\n",
      "(AAA023D18, AAA278I18)     100   80.94\n",
      "(AAA023D18, AB141P03)      100   79.45\n",
      "(AAA027J17, AAA027L06)     100   81.76\n",
      "(AAA027J17, AAA028A23)     100   81.74\n",
      "(AAA027J17, AAA278I18)     100    80.1\n",
      "(AAA027J17, AB141P03)      100   80.68\n",
      "(AAA027L06, AAA028A23)     100   99.08\n",
      "(AAA027L06, AAA278I18)     100   79.44\n",
      "(AAA027L06, AB141P03)      100   96.44\n",
      "(AAA028A23, AAA278I18)     100   79.32\n",
      "(AAA028A23, AB141P03)      100   96.36\n",
      "(AAA278I18, AB141P03)      100   79.06\n",
      "Sampling tribe acI-B1 with sample size 2.\n",
      "The worst-case pairwise minimum ANI is: 99.08\n"
     ]
    }
   ],
   "source": [
    "[pairwiseANI, taxonClass, tribes] = ANI.importANIandTaxonomy(externalDataDir, 'ANI_out', 'taxonomySAGs.csv')\n",
    "ANI.worstCaseANI(externalDataDir, pairwiseANI, taxonClass, tribes, 'acI-B1', 2)"
   ]
  },
  {
   "cell_type": "markdown",
   "metadata": {},
   "source": [
    "If we were especially unlucky, we would have sequenced SAGs L06 and A23, and we would have predicted a tribe-specific cutoff of 99.08 ANI. What if we instead sampled three SAGs:"
   ]
  },
  {
   "cell_type": "code",
   "execution_count": 10,
   "metadata": {
    "collapsed": false
   },
   "outputs": [
    {
     "name": "stdout",
     "output_type": "stream",
     "text": [
      "                                  Max ANI Min ANI\n",
      "(AAA023D18, AAA027J17, AAA027L06)     100   79.88\n",
      "(AAA023D18, AAA027J17, AAA028A23)     100   79.88\n",
      "(AAA023D18, AAA027J17, AAA278I18)     100   79.88\n",
      "(AAA023D18, AAA027J17, AB141P03)      100   79.45\n",
      "(AAA023D18, AAA027L06, AAA028A23)     100   80.01\n",
      "(AAA023D18, AAA027L06, AAA278I18)     100   79.44\n",
      "(AAA023D18, AAA027L06, AB141P03)      100   79.45\n",
      "(AAA023D18, AAA028A23, AAA278I18)     100   79.32\n",
      "(AAA023D18, AAA028A23, AB141P03)      100   79.45\n",
      "(AAA023D18, AAA278I18, AB141P03)      100   79.06\n",
      "(AAA027J17, AAA027L06, AAA028A23)     100   81.74\n",
      "(AAA027J17, AAA027L06, AAA278I18)     100   79.44\n",
      "(AAA027J17, AAA027L06, AB141P03)      100   80.68\n",
      "(AAA027J17, AAA028A23, AAA278I18)     100   79.32\n",
      "(AAA027J17, AAA028A23, AB141P03)      100   80.68\n",
      "(AAA027J17, AAA278I18, AB141P03)      100   79.06\n",
      "(AAA027L06, AAA028A23, AAA278I18)     100   79.32\n",
      "(AAA027L06, AAA028A23, AB141P03)      100   96.36\n",
      "(AAA027L06, AAA278I18, AB141P03)      100   79.06\n",
      "(AAA028A23, AAA278I18, AB141P03)      100   79.06\n",
      "Sampling tribe acI-B1 with sample size 3.\n",
      "The worst-case pairwise minimum ANI is: 96.36\n"
     ]
    }
   ],
   "source": [
    "[pairwiseANI, taxonClass, tribes] = ANI.importANIandTaxonomy(externalDataDir,'ANI_out', 'taxonomySAGs.csv')\n",
    "ANI.worstCaseANI(externalDataDir,pairwiseANI, taxonClass, tribes, 'acI-B1', 3)"
   ]
  },
  {
   "cell_type": "markdown",
   "metadata": {},
   "source": [
    "If we were again unlucky, we would have sequenced SAGs L06, A23, and P03, and we would have predicted a tribe-specific cutoff of 96.36 ANI. Let's define a new function which repeats this calculation for all possible sample sizes (up to 6 for tribe acI-B1)."
   ]
  },
  {
   "cell_type": "code",
   "execution_count": 11,
   "metadata": {
    "collapsed": false
   },
   "outputs": [
    {
     "name": "stdout",
     "output_type": "stream",
     "text": [
      "Sampling tribe acI-B1 with sample size 2.\n",
      "The worst-case pairwise minimum ANI is: 99.08\n",
      "Sampling tribe acI-B1 with sample size 3.\n",
      "The worst-case pairwise minimum ANI is: 96.36\n",
      "Sampling tribe acI-B1 with sample size 4.\n",
      "The worst-case pairwise minimum ANI is: 80.68\n",
      "Sampling tribe acI-B1 with sample size 5.\n",
      "The worst-case pairwise minimum ANI is: 79.45\n",
      "Sampling tribe acI-B1 with sample size 6.\n",
      "The worst-case pairwise minimum ANI is: 79.06\n"
     ]
    },
    {
     "data": {
      "image/png": "[encoded data removed]",
      "text/plain": [
       "<matplotlib.figure.Figure at 0x1066b6a50>"
      ]
     },
     "metadata": {},
     "output_type": "display_data"
    }
   ],
   "source": [
    "[pairwiseANI, taxonClass, tribes] = ANI.importANIandTaxonomy(externalDataDir,'ANI_out', 'taxonomySAGs.csv')\n",
    "ANI.sameTribePairwiseANI(externalDataDir,pairwiseANI, taxonClass, tribes)\n",
    "ANI.allWorstCaseANI(externalDataDir, pairwiseANI, taxonClass, tribes, 'acI-B1')"
   ]
  },
  {
   "cell_type": "markdown",
   "metadata": {},
   "source": [
    "These six samples appear to be enough. What about tribe acI-A7, for which we have 4 samples?"
   ]
  },
  {
   "cell_type": "code",
   "execution_count": 12,
   "metadata": {
    "collapsed": false
   },
   "outputs": [
    {
     "name": "stdout",
     "output_type": "stream",
     "text": [
      "Sampling tribe acI-A7 with sample size 2.\n",
      "The worst-case pairwise minimum ANI is: 96.2\n",
      "Sampling tribe acI-A7 with sample size 3.\n",
      "The worst-case pairwise minimum ANI is: 88.21\n",
      "Sampling tribe acI-A7 with sample size 4.\n",
      "The worst-case pairwise minimum ANI is: 87.13\n"
     ]
    },
    {
     "data": {
      "image/png": "[encoded data removed]",
      "text/plain": [
       "<matplotlib.figure.Figure at 0x1096aadd0>"
      ]
     },
     "metadata": {},
     "output_type": "display_data"
    }
   ],
   "source": [
    "[pairwiseANI, taxonClass, tribes] = ANI.importANIandTaxonomy(externalDataDir,'ANI_out', 'taxonomySAGs.csv')\n",
    "ANI.sameTribePairwiseANI(externalDataDir,pairwiseANI, taxonClass, tribes)\n",
    "ANI.allWorstCaseANI(externalDataDir,pairwiseANI, taxonClass, tribes, 'acI-A7')"
   ]
  },
  {
   "cell_type": "markdown",
   "metadata": {},
   "source": [
    "Having one more SAG would give us more confidence in the ANI cutoff."
   ]
  },
  {
   "cell_type": "markdown",
   "metadata": {},
   "source": [
    "## Reverse Ecology Analysis on Merged Genomes\n",
    "\n",
    "When the above analysis is complete, we will have sets of genomes whose metabolic network models can be merged to give a more comprehensive model for each tribe. For now, we will only merge graphs for those SAGs belonging to the same tribe.\n",
    "\n",
    "First import the necessary preliminaries and custom functions."
   ]
  },
  {
   "cell_type": "code",
   "execution_count": 13,
   "metadata": {
    "collapsed": true
   },
   "outputs": [],
   "source": [
    "# Import special features for iPython\n",
    "import sys\n",
    "sys.path.append('../Python')\n",
    "import matplotlib\n",
    "%matplotlib inline\n",
    "\n",
    "# Import Python modules \n",
    "# These custom-written modules should have been included with the package\n",
    "# distribution. \n",
    "import graphFunctions as gf\n",
    "import metadataFunctions as mf\n",
    "import sbmlFunctions as sf\n",
    "import seedFunctions as ef\n",
    "\n",
    "# Define local folder structure for data input and processing.\n",
    "rawModelDir = 'ProcessedModelFiles'\n",
    "processedDataDir = 'MergedData'\n",
    "summaryStatsDir = 'DataSummaries/MergedData'\n",
    "externalDataDir = 'ExternalData'"
   ]
  },
  {
   "cell_type": "markdown",
   "metadata": {},
   "source": [
    "First read in a file listing {lineage, clade, tribe} for each sample and aggregate all genomes belonging to the same tribe. The current input file taxonomySAGs.csv contains classifications for the SAGs only."
   ]
  },
  {
   "cell_type": "code",
   "execution_count": 14,
   "metadata": {
    "collapsed": false
   },
   "outputs": [
    {
     "name": "stdout",
     "output_type": "stream",
     "text": [
      "Importing taxonomy\n"
     ]
    },
    {
     "data": {
      "text/plain": [
       "{'Iluma-A2': ['AAA027E14'],\n",
       " 'Iluma-B1': ['AAA027L17'],\n",
       " 'Luna1-A2': ['AAA028P02'],\n",
       " 'acI-A1': ['AAA027M14', 'AAA278O22'],\n",
       " 'acI-A5': ['AAA028G02', 'AAA044O16'],\n",
       " 'acI-A6': ['AAA028E20', 'AAA028I14'],\n",
       " 'acI-A7': ['AAA023J06', 'AAA024D14', 'AAA041L13', 'AAA044N04'],\n",
       " 'acI-B1': ['AAA023D18',\n",
       "  'AAA027J17',\n",
       "  'AAA027L06',\n",
       "  'AAA028A23',\n",
       "  'AAA278I18',\n",
       "  'AB141P03'],\n",
       " 'acI-B4': ['AAA044D11']}"
      ]
     },
     "execution_count": 14,
     "metadata": {},
     "output_type": "execute_result"
    }
   ],
   "source": [
    "tribeSampleDict =  mf.importTaxonomy('../ExternalData/taxonomySAGs.csv')\n",
    "tribeSampleDict"
   ]
  },
  {
   "cell_type": "markdown",
   "metadata": {},
   "source": [
    "Then, merge the metabolic network graphs for the samples from each tribe. Each sample is converted to a graph object and merged with the previous graph. The final graph is written to file."
   ]
  },
  {
   "cell_type": "code",
   "execution_count": 15,
   "metadata": {
    "collapsed": false
   },
   "outputs": [
    {
     "name": "stdout",
     "output_type": "stream",
     "text": [
      "Merging genomes from individual tribes\n"
     ]
    }
   ],
   "source": [
    "gf.createTribalGraph(tribeSampleDict, processedDataDir, rawModelDir)"
   ]
  },
  {
   "cell_type": "markdown",
   "metadata": {},
   "source": [
    "The remaining code operates similarly to the RE analysis using all individual genomes. The metabolic network graphs corresponding to each tribe are imported:"
   ]
  },
  {
   "cell_type": "code",
   "execution_count": 16,
   "metadata": {
    "collapsed": true
   },
   "outputs": [],
   "source": [
    "dirList = mf.getDirList('../'+processedDataDir)\n",
    "numSubDir = len(dirList)"
   ]
  },
  {
   "cell_type": "markdown",
   "metadata": {},
   "source": [
    "Compute summary statistics on the size of each tribe's network graph."
   ]
  },
  {
   "cell_type": "code",
   "execution_count": 17,
   "metadata": {
    "collapsed": false
   },
   "outputs": [
    {
     "ename": "IOError",
     "evalue": "[Errno 2] No such file or directory: '../DataSummaries/MergedData/GraphStatistics.txt'",
     "output_type": "error",
     "traceback": [
      "\u001b[0;31m---------------------------------------------------------------------------\u001b[0m",
      "\u001b[0;31mIOError\u001b[0m                                   Traceback (most recent call last)",
      "\u001b[0;32m<ipython-input-17-0f114f2240fa>\u001b[0m in \u001b[0;36m<module>\u001b[0;34m()\u001b[0m\n\u001b[0;32m----> 1\u001b[0;31m \u001b[0mgraphStatArray\u001b[0m\u001b[0;34m,\u001b[0m \u001b[0mdiGraphStatArray\u001b[0m \u001b[0;34m=\u001b[0m \u001b[0mgf\u001b[0m\u001b[0;34m.\u001b[0m\u001b[0mcomputeGraphStats\u001b[0m\u001b[0;34m(\u001b[0m\u001b[0mdirList\u001b[0m\u001b[0;34m,\u001b[0m \u001b[0mprocessedDataDir\u001b[0m\u001b[0;34m,\u001b[0m \u001b[0msummaryStatsDir\u001b[0m\u001b[0;34m)\u001b[0m\u001b[0;34m\u001b[0m\u001b[0m\n\u001b[0m\u001b[1;32m      2\u001b[0m \u001b[0mgf\u001b[0m\u001b[0;34m.\u001b[0m\u001b[0mplotGraphStats\u001b[0m\u001b[0;34m(\u001b[0m\u001b[0mgraphStatArray\u001b[0m\u001b[0;34m)\u001b[0m\u001b[0;34m\u001b[0m\u001b[0m\n",
      "\u001b[0;32m/Users/joshamilton/Documents/Research/2014aii-ActinosRecon/2015-04-13-REMasterDirectory/Python/graphFunctions.pyc\u001b[0m in \u001b[0;36mcomputeGraphStats\u001b[0;34m(dirList, processedDataDir, summaryStatsDir)\u001b[0m\n\u001b[1;32m    308\u001b[0m \u001b[0;34m\u001b[0m\u001b[0m\n\u001b[1;32m    309\u001b[0m \u001b[0;31m# Create files to record the summary statistics.\u001b[0m\u001b[0;34m\u001b[0m\u001b[0;34m\u001b[0m\u001b[0m\n\u001b[0;32m--> 310\u001b[0;31m     \u001b[0mgraphFile\u001b[0m \u001b[0;34m=\u001b[0m \u001b[0mopen\u001b[0m\u001b[0;34m(\u001b[0m\u001b[0;34m'../'\u001b[0m\u001b[0;34m+\u001b[0m\u001b[0msummaryStatsDir\u001b[0m\u001b[0;34m+\u001b[0m\u001b[0;34m'/'\u001b[0m\u001b[0;34m+\u001b[0m\u001b[0;34m'GraphStatistics.txt'\u001b[0m\u001b[0;34m,\u001b[0m \u001b[0;34m'w'\u001b[0m\u001b[0;34m)\u001b[0m\u001b[0;34m\u001b[0m\u001b[0m\n\u001b[0m\u001b[1;32m    311\u001b[0m     \u001b[0mgraphFile\u001b[0m\u001b[0;34m.\u001b[0m\u001b[0mwrite\u001b[0m\u001b[0;34m(\u001b[0m\u001b[0;34m'Model,Nodes,Edges,Total Components,Size of Largest\\n'\u001b[0m\u001b[0;34m)\u001b[0m\u001b[0;34m\u001b[0m\u001b[0m\n\u001b[1;32m    312\u001b[0m \u001b[0;34m\u001b[0m\u001b[0m\n",
      "\u001b[0;31mIOError\u001b[0m: [Errno 2] No such file or directory: '../DataSummaries/MergedData/GraphStatistics.txt'"
     ]
    }
   ],
   "source": [
    "graphStatArray, diGraphStatArray = gf.computeGraphStats(dirList, processedDataDir, summaryStatsDir)\n",
    "gf.plotGraphStats(graphStatArray)"
   ]
  },
  {
   "cell_type": "markdown",
   "metadata": {},
   "source": [
    "Convert each network graph to its largest component."
   ]
  },
  {
   "cell_type": "code",
   "execution_count": null,
   "metadata": {
    "collapsed": false
   },
   "outputs": [],
   "source": [
    "reducedGraphStatArray = gf.reduceToLargeComponent(dirList, processedDataDir, summaryStatsDir)"
   ]
  },
  {
   "cell_type": "markdown",
   "metadata": {},
   "source": [
    "Compute seed sets and plot summary statistics."
   ]
  },
  {
   "cell_type": "code",
   "execution_count": null,
   "metadata": {
    "collapsed": false
   },
   "outputs": [],
   "source": [
    "seedSetList = gf.computeSeedSets(dirList, externalDataDir, processedDataDir)\n",
    "gf.plotSeedStatsForTribes(seedSetList, reducedGraphStatArray)"
   ]
  },
  {
   "cell_type": "markdown",
   "metadata": {},
   "source": [
    "Aggregate the seed compounds for all tribes into a single matrix and write the results to file."
   ]
  },
  {
   "cell_type": "code",
   "execution_count": null,
   "metadata": {
    "collapsed": false
   },
   "outputs": [],
   "source": [
    "seedMatrixDF = ef.consolidateSeeds(dirList, externalDataDir, processedDataDir, summaryStatsDir)\n",
    "ef.normalizedSeedCounts(dirList, processedDataDir, summaryStatsDir)"
   ]
  },
  {
   "cell_type": "markdown",
   "metadata": {},
   "source": [
    "Cluster the seed profiles and create the dendrogram:"
   ]
  },
  {
   "cell_type": "code",
   "execution_count": null,
   "metadata": {
    "collapsed": false
   },
   "outputs": [],
   "source": [
    "ef.clusterSeedSets(seedMatrixDF, dirList, externalDataDir, summaryStatsDir, 'tribalColors.csv')"
   ]
  },
  {
   "cell_type": "markdown",
   "metadata": {},
   "source": [
    "Genomes in the above clustergram are colored as follows:\n",
    "\n",
    "acI-A: green  \n",
    "acI-B: blue  \n",
    "acIV-A: red  \n",
    "acIV-B: maroon  \n",
    "acSTL-A: black  \n",
    "acTH1-A: grey  \n",
    "Luna1-A:  cyan  \n",
    "\n",
    "And here is just the dendrogram for genomes:"
   ]
  },
  {
   "cell_type": "code",
   "execution_count": null,
   "metadata": {
    "collapsed": false
   },
   "outputs": [],
   "source": [
    "ef.clusterOnly(seedMatrixDF, dirList, externalDataDir, 'tribalColors.csv')"
   ]
  },
  {
   "cell_type": "markdown",
   "metadata": {},
   "source": [
    "Compute the competidion index"
   ]
  },
  {
   "cell_type": "code",
   "execution_count": null,
   "metadata": {
    "collapsed": false
   },
   "outputs": [],
   "source": [
    "metabCompeteDF = ef.computeMetabCompete(dirList, processedDataDir, summaryStatsDir)\n",
    "ef.clusterPairwise(metabCompeteDF, dirList, externalDataDir, summaryStatsDir, 'tribalColors.csv', 'metabolicCompetition.png')"
   ]
  },
  {
   "cell_type": "markdown",
   "metadata": {},
   "source": [
    "Compute the cooperation index:"
   ]
  },
  {
   "cell_type": "code",
   "execution_count": null,
   "metadata": {
    "collapsed": false
   },
   "outputs": [],
   "source": [
    "metabComplementDF = ef.computeMetabComplement(dirList, processedDataDir, summaryStatsDir)\n",
    "ef.clusterPairwise(metabComplementDF, dirList, externalDataDir, summaryStatsDir, 'tribalColors.csv', 'metabolicComplementarity.png')"
   ]
  },
  {
   "cell_type": "markdown",
   "metadata": {},
   "source": [
    "We are currently analyzing the seed profiles to look for shared features of the actinobacterial lineage, and unique features of each tribe. \n",
    "\n",
    "\n",
    "** TO DO **\n",
    "1. Provide an illustration of what the \"merging\" process looks like for metabolic network graphs."
   ]
  },
  {
   "cell_type": "code",
   "execution_count": null,
   "metadata": {
    "collapsed": true
   },
   "outputs": [],
   "source": []
  }
 ],
 "metadata": {
  "kernelspec": {
   "display_name": "Python 2",
   "language": "python",
   "name": "python2"
  },
  "language_info": {
   "codemirror_mode": {
    "name": "ipython",
    "version": 2
   },
   "file_extension": ".py",
   "mimetype": "text/x-python",
   "name": "python",
   "nbconvert_exporter": "python",
   "pygments_lexer": "ipython2",
   "version": "2.7.6"
  }
 },
 "nbformat": 4,
 "nbformat_minor": 0
}
