{
 "cells": [
  {
   "cell_type": "markdown",
   "metadata": {},
   "source": [
    "# From Genomes to Traits: Reverse Ecology of Uncultivated Freshwater Actinobacteria"
   ]
  },
  {
   "cell_type": "markdown",
   "metadata": {},
   "source": [
    "### Background and Preliminary Data"
   ]
  },
  {
   "cell_type": "markdown",
   "metadata": {},
   "source": [
    "#### Trait-Based Ecology\n",
    "Microbes are critical players in all ecosystems, where they support essential ecosystem functions. While microbes have tremendous influence on ecosystems, microbial ecologists do not have robust approaches to translate microbial-level observations to ecosystem-scale predictions. A better understanding of the microbial contribution to ecosystem behavior will enable more accurate predictions of ecosystem response to drivers such as climate change, as well as the impact these changes will have on ecosystem functions.\n",
    "\n",
    "Trait-based approaches represent a promising approach for achieving such an understanding: their focus on the measurable properties of an organism (e.g., amino acid requirements, pH sensitivity) enables a mechanistic understanding of species-environment relationships. As a result, the application of trait-based approaches to microbial ecology has the potential to produce generalizable principles that elevate descriptive and correlative studies to a predictive level.\n",
    "\n",
    "Bacterial communities in freshwater lakes are compelling model systems for which to develop a scaled-up understanding, as these bacteria drive the cycling of most biologically active elements in their ecosystems. In addition, existing heterogeneous datasets, laboratory experiments, and field observations contain a tremendous amount of information about the composition, dynamics, and environmental context of freshwater microbial communities. Of the freshwater bacteria, Actinobacteria are often the numerically dominant phylum, with phylotypes exhibiting contrasting dynamics through time. Nonetheless, the genetic basis underlying this niche partitioning remains unclear. As a result, the Actinobacteria represent a model phylum for linking genomic content to relevant microbial traits."
   ]
  },
  {
   "cell_type": "markdown",
   "metadata": {},
   "source": [
    "#### Preliminary Data\n",
    "The McMahon laboratory has learned a tremendous amount about the ecology of freshwater lake bacteria in the past decade. They have developed a curated taxonomy for freshwater microbes, which uses a controlled nomenclature of phylum/lineage/clade/tribe to classify microbes based on 16S rRNA sequences. A total of 79 tribes have been identified, with the Actinobacteria comprising nine lineages, 14 clades, and 32 tribes. Some tribes seem to niche partition based on pH and water chemistry (associated with carbon source, terrestrial vs. aquatic).\n",
    "\n",
    "The McMahon laboratory and collaborators have sequenced 46 single-cell amplified genomes (SAGs) from Lake Mendota and Trout Bog (Vilas County, WI). They have also sequenced 97 shotgun metagenomes from Lake Mendota, and 90 shotgun metagenomes from Trout Bog. More than 200 draft genomes have been assembled from the metagenomes (MAGs). These data are archived digitally with the public JGI-IMG platform and also through the NTL-LTER public database. Using phylogenetic analysis, **I have identified and classified a total of 60 genomes (SAGs+MAGs) belonging to members of the Actinobacteria: 25 SAGs and 35 MAGs.**"
   ]
  },
  {
   "cell_type": "markdown",
   "metadata": {},
   "source": [
    "####References\n",
    "1. Green JL, Bohannan BJM, Whitaker RJ (2008) Microbial biogeography: from taxonomy to traits. Science 320: 1039–1043.\n",
    "2. Levy R, Borenstein E (2012) Reverse Ecology: From Systems to Environments and Back. In: Soyer OS, editor. Advances in Experimental Medicine and Biology. Advances in Experimental Medicine and Biology. New York, NY: Springer New York, Vol. 751. pp. 329–345.\n",
    "3. Newton RJ, Jones SE, Eiler A, McMahon KD, Bertilsson S (2011) A guide to the natural history of freshwater lake bacteria. Microbiol Mol Biol Rev 75: 14–49."
   ]
  },
  {
   "cell_type": "markdown",
   "metadata": {},
   "source": [
    "### Reverse Ecology\n",
    "\n",
    "The term reverse ecology refer to a set of computational techniques which aim to infer the ecological traits of an organism directly from its metabolic network. The \"flavor\" of reverse ecology used in this work relies on the computation of two metabolic network properties, the \"seed set\" and the \"expansion set.\" The seed set represents the minimal set of metabolites which must be exogenously acquired for growth. These are typically non-unique and can identify the range of nutrient sources used by an organism, as well as those substrates that can substitute for one another.  The expansion set represents the total set of metabolites an organism can synthesize given a set of exogenous metabolites. The two sets of compounds will reveal auxotrophies and biosynthetic capabilities that define metabolic phenotypes for each tribe. \n",
    "\n",
    "Furthermore, by comparing seed and expansion sets for each tribe, I can calculate a number of other metrics, including the environmental scope index (ESI) and the cohabitation score (CHS). ESI correlates with environmental flexibility (high ESI scores denote generalists and low scores denote specialists), while CHS measures the amount of competition a species could expect from other organisms. I will also compute the effective metabolic overlap (EMO) between each pair of tribes. The EMO measures the robustness of an organism to competition from other organisms, and EMO scores have been shown to positively correlate with inter-species competition and negatively correlate with growth rates. These metrics will illuminate each tribe’s ecological traits, such as niche (specialist vs. generalist) and robustness to competition."
   ]
  },
  {
   "cell_type": "markdown",
   "metadata": {},
   "source": [
    "### Graph Theory\n",
    "Reverse ecology represents metabolic networks as graphs (a type of mathematical object). A graph consists of a set of objects (nodes) that are connected to one another (via edges). Graphs may be directed or undirected. In an undirected graph, a connection from A to B implies a connection from B to A. In a directed graph, edges point from A to B and not vice-versa. Metabolic networks are represented as directed graphs.\n",
    "\n",
    "For the purposes of computation, graphs can be represented via a variety of data structures. In this work, graphs are represented as adjacency lists. The first column of the adjacency list gives the node, and the second column gives the nodes to which the first node points. The figure below shows a directed graph and its adjacency list representation.\n",
    "\n",
    "![A graph and its adjacency list](files/imageFiles/RE-graphAdjList.png)"
   ]
  },
  {
   "cell_type": "markdown",
   "metadata": {},
   "source": [
    "### Reverse Ecology Metrics\n",
    "\n",
    "**This section will be updated as I compute new metrics.**"
   ]
  },
  {
   "cell_type": "markdown",
   "metadata": {},
   "source": [
    "#### Seed Set\n",
    "The fundamental \"unit\" of reverse ecology is a seed set. For a metabolic network, the seed is formally defined as \"the minimal subset of the occurring compounds that cannot be synthesized from other compounds in the network (and hence are exogenously acquired) and whose existence permits the production of all other compounds in the network.\" For a metabolic network represented as a directed graph, the seed set is the minimal subset of nodes required to access every node in the network. In the directed graph below, nodes A and H represent a seed set of the network.\n",
    "\n",
    "![Path from nodes A and H to all nodes](files/imageFiles/RE-graphSeedSetsAH.png)\n",
    "\n",
    "Some seeds may be \"equivalent:\" that is, you can start from multiple seeds and reach the same nodes. In the graph shown above, the same nodes can be reached from starting nodes F, G, or H (shown below). In the absence of any other evidence, all three are equally likely to be a seed metabolite, so each of these compounds is assigned a weight of 1/3 (shown below).\n",
    "\n",
    "![Path from nodes A and {F, G} to all nodes](files/imageFiles/RE-graphSeedSetsAFG.png)\n",
    "\n",
    "Reference: Borenstein, E., & Feldman, M. W. (2009). Topological signatures of species interactions in metabolic networks. Journal of Computational Biology, 16(2), 191–200."
   ]
  },
  {
   "cell_type": "markdown",
   "metadata": {},
   "source": [
    "#### Expansion Set and Scope\n",
    "\n",
    "Reference: Ebenhoh 2004"
   ]
  },
  {
   "cell_type": "markdown",
   "metadata": {},
   "source": [
    "#### Metabolic Competition and Metabolic Complementarity\n",
    "\n",
    "Metabolic competition represents the similarity in two organisms' nutritional profiles, and represents the potential for competition between the two organisms. The seed set of each organism's metabolic network is used as a proxy for its nutritional profile. For two organisms A and B, the metabolic competition index is calculated as the fraction of compounds in A's seed set that are also present in B's seed set. Because individual seed compounds have weights assigned to them, the fraction is calculated as a normalized weighted sum. This index provides an upper bound for the amount of competition species A could encounter from species B.\n",
    "\n",
    "Metabolic complementarity represents the complementarity in two organisms’ nutritional profiles, and represents the potential for syntrophy between A and B. Again, the seed set of each organism's metabolic network is used as a proxy for its nutritional profile. For two organisms A and B, the metabolic complementarity index is calculated as the fraction of compounds in A's seed set that are present in B's metabolic network, _but are not a part of B's seed set_ (e.g, B's 'non-seed' compounds). This index provides an upper bound for the potential for syntrophic interactions between A and B.\n",
    "\n",
    "Note that neither of these indices are symmetric.\n",
    "\n",
    "The figure below illustrates metabolic competition and metabolic complementarity.\n",
    "\n",
    "![Illustration of metabolic competition and metabolic complementarity](files/imageFiles/RE-CoopComp.png)\n",
    "\n",
    "Each panel shows the metabolic networks of two organisms represented as a directed graph. The shaped nodes represent exogenously acquired metabolites (seeds). **(A)** Metabolic competition. The brackets indicate the four and five seed nutrients exogenously acquired by the ellipse- and rectangle-shaped organisms, respectively. The two metabolites enclosed in a dashed rectangle are shared nutrients for which the organisms may compete. The metabolic competition index for the first organism in the presence of the second is 2/4, while the index of the second organism in the presence of the second is 2/4, whereas the competition index of the second species in the presence of the first is 2/5. **(B)** Metabolic complementarity. The compounds enclosed in a dashed rectangle denote nutrients required by the second organism that can be synthesized by the first organism. The metabolic complementarity index for the second species in the presence of the first is 3/5.\n",
    "\n",
    "Reference: Levy, R., & Borenstein, E. (2013). Metabolic modeling of species interaction in the human microbiome elucidates community-level assembly rules. Proceedings of the National Academy of Sciences, 110(31), 12804–12809."
   ]
  },
  {
   "cell_type": "markdown",
   "metadata": {},
   "source": [
    "#### Environmental Scope Index\n",
    "\n",
    "Reference: Freilich et al Genome Biol 2009"
   ]
  },
  {
   "cell_type": "markdown",
   "metadata": {},
   "source": [
    "#### Cohabitation Score\n",
    "\n",
    "Reference: Freilich et al Genome Biol 2009"
   ]
  },
  {
   "cell_type": "markdown",
   "metadata": {},
   "source": [
    "#### Effective Metabolic Overlap\n",
    "\n",
    "Reference: Freilich et al Nucl Acids Res 2010"
   ]
  },
  {
   "cell_type": "markdown",
   "metadata": {},
   "source": [
    "#### References - Metabolic Networks and Graph Theory\n",
    "1. Jeong, H., Tombor, B., Albert, R., Oltvai, Z. N., & Barabási, A.-L. (2000). The large-scale organization of metabolic networks. Nature, 407(6804), 651–654.\n",
    "2. Cormen, T. H., Leiserson, C. E., Rivest, R. L., & Stein, C. (2009). Introduction to Algorithms (3rd ed.). MIT Press."
   ]
  },
  {
   "cell_type": "markdown",
   "metadata": {},
   "source": [
    "#### References - Reverse Ecology\n",
    "1. Borenstein, E., & Feldman, M. W. (2009). Topological signatures of species interactions in metabolic networks. Journal of Computational Biology, 16(2), 191–200.\n",
    "2. Borenstein, E., Kupiec, M., Feldman, M. W., & Ruppin, E. (2008). Large-scale reconstruction and phylogenetic analysis of metabolic environments. Proceedings of the National Academy of Sciences, 105(38), 14482–14487.\n",
    "3. Carr, R., & Borenstein, E. (2012). NetSeed: a network-based reverse-ecology tool for calculating the metabolic interface of an organism with its environment. Bioinformatics, 28(5), 734–735.\n",
    "4. Ebenhöh, O., Handorf, T., & Heinrich, R. (2004). Structural analysis of expanding metabolic networks. Genome Informatics, 15(1), 35–45.\n",
    "5. Freilich, S., Kreimer, A., Borenstein, E., Yosef, N., Sharan, R., Gophna, U., & Ruppin, E. (2009). Metabolic-network-driven analysis of bacterial ecological strategies. Genome Biology, 10(6), R61.\n",
    "6. Freilich, S., Kreimer, A., Meilijson, I., Gophna, U., Sharan, R., & Ruppin, E. (2010). The large-scale organization of the bacterial network of ecological co-occurrence interactions. Nucleic Acids Research, 38(12), 3857–3868.\n",
    "7. Handorf, T., Ebenhöh, O., & Heinrich, R. (2005). Expanding metabolic networks: Scopes of compounds, robustness, and evolution. Journal of Molecular Evolution, 61(4), 498–512.\n",
    "8. Kreimer, A., Dorrestein, P. C., Borenstein, E., & Freilich, S. (2012). NetCmpt: a network-based tool for calculating the metabolic competition between bacterial species. Bioinformatics, 28(16), 2195–2197.\n",
    "9. Levy, R., & Borenstein, E. (2012). Reverse Ecology: From Systems to Environments and Back. In O. S. Soyer (Ed.), Advances in Experimental Medicine and Biology (Vol. 751, pp. 329–345). New York, NY: Springer New York.\n",
    "10. Levy, R., & Borenstein, E. (2013). Metabolic modeling of species interaction in the human microbiome elucidates community-level assembly rules. Proceedings of the National Academy of Sciences, 110(31), 12804–12809."
   ]
  },
  {
   "cell_type": "markdown",
   "metadata": {},
   "source": [
    "### Phylogenetic Reconstruction\n",
    "\n",
    "Maximum-likelihood estimation was used to build a phylogenetic tree of 60 SAGs and MAGs in the phylum Actinobacteria. I also included 12 other FW actino genomes. The tree was constructed using RAxML using concatenated alignments of 37 marker genes (from Phylosift). \n",
    "\n",
    "The following genomes were excluded from the tree:  \n",
    "* AAA027F04 and AAA028C09 - these genomes lack all of the marker genes and do not classify\n",
    "* TBhypo3815 - clusters as an outgroup to the rest of the Actinobacteria\n",
    "* AAA027D23, AAA028N15, acAMD-2, acAMD-5, and MEint6647 - these five genomes contribute to poor bootstrap values at some nodes. In some trees, all five genomes cluster together, while in other trees they form two phylogentically distinct clusters: (acAMD-2, acAMD-5) and (AAA027D23, AAA028N15, MEint6647). Sarah also suspects AAA028N15 is contaminated. Removing these samples significantly improves bootstrap values.\n",
    "* acAcidI - this MAG contributes to poor bootstrap values. The MAG is thought to contain two genomes from two separate populations. Removing these samples significantly improves bootstrap values.\n",
    "\n",
    "**The final tree contains 63 FW Actinobacterial genomes.**\n",
    "\n",
    "Organisms were classified using a \"guilt by association\" approach, in which MAGs were assumed to belong the same lineage/clade/tribe/ as a SAG if they share a parent node w/ that SAG. Some genomes, such as the 'Myco' MAG, were classified on the basis of taxonomy. I also developed an approach for classifying genomes which relies on ANI and coverage. The final tree is shown below:\n",
    "\n",
    "![Phylogenetic Tree](imageFiles/2015-08-21-FinalTree.png)"
   ]
  },
  {
   "cell_type": "markdown",
   "metadata": {},
   "source": [
    "Here are the same data in table form:\n",
    "\n",
    "| Short name     | Lineage | Clade   | Tribe    | Justification                     | \n",
    "|----------------|---------|---------|----------|-----------------------------------| \n",
    "| AAA023D18      | acI     | acI-B   | acI-B1   | 16S                               | \n",
    "| AAA023J06      | acI     | acI-A   | acI-A7   | 16S                               | \n",
    "| AAA024D14      | acI     | acI-A   | acI-A7   | 16S                               | \n",
    "| AAA027E14      | acIV    | acIV-A  | Iluma-A2 | 16S                               | \n",
    "| AAA027J17      | acI     | acI-B   | acI-B1   | 16S                               | \n",
    "| AAA027L06      | acI     | acI-B   | acI-B1   | 16S                               | \n",
    "| AAA027L17      | acIV    | acIV-B  | Iluma-B1 | 16S                               | \n",
    "| AAA027M14      | acI     | acI-A   | acI-A1   | 16S                               | \n",
    "| AAA028A23      | acI     | acI-B   | acI-B1   | 16S                               | \n",
    "| AAA028E20      | acI     | acI-A   | acI-A6   | 16S                               | \n",
    "| AAA028G02      | acI     | acI-A   | acI-A5   | 16S                               | \n",
    "| AAA028I14      | acI     | acI-A   | acI-A6   | 16S                               | \n",
    "| AAA028K15      | acIV    | acIV-B  | Iluma-B2 | 16S                               | \n",
    "| AAA028P02      | Luna1   | Luna1-A | Luna1-A2 | 16S                               | \n",
    "| AAA041L13      | acI     | acI-A   | acI-A7   | 16S                               | \n",
    "| AAA044D11      | acI     | acI-B   | acI-B4   | 16S                               | \n",
    "| AAA044N04      | acI     | acI-A   | acI-A7   | 16S                               | \n",
    "| AAA044O16      | acI     | acI-A   | acI-A5   | 16S                               | \n",
    "| AAA278I18      | acI     | acI-B   | acI-B1   | 16S                               | \n",
    "| AAA278O22      | acI     | acI-A   | acI-A1   | 16S                               | \n",
    "| AB141P03       | acI     | acI-B   | acI-B1   | 16S                               | \n",
    "| acIB-AMD-6     | acI     | acI-B   | acI-B1   | Clustering                        | \n",
    "| acIB-AMD-7     | acI     | acI-B   | acI-B1   | Clustering                        | \n",
    "| acMicro-1      | acMicro | Unknown | Unknown  | New group                         | \n",
    "| acMicro-4      | acMicro | Unknown | Unknown  | New group                         | \n",
    "| bin_10         | acI     | acI-C   | Unknown  | Clustering                        | \n",
    "| bin_15         | acIV    | Unknown | Unknown  | Clustering                        | \n",
    "| bin_29_2_acIII | acIII   | Unknown | Unknown  | 16S                               | \n",
    "| bin_7_acI-B2   | acI     | acI-B   | acI-B2   | 16S                               | \n",
    "| MEint10152     | acTH2   | acTH2-A | Myco     | Taxonomy                          | \n",
    "| MEint1091      | acIV    | acIV-B  | Unknown  | Taxonomy, Clustering              | \n",
    "| MEint11576     | acIV    | Unknown | Unknown  | Taxonomy, Clustering              | \n",
    "| MEint1363      | acI     | acI-A   | Unknown  | Clustering                        | \n",
    "| MEint14260     | acIV    | Unknown | Unknown  | Taxonomy, Clustering              | \n",
    "| MEint1719      | acIV    | acIV-B  | Iluma-B1 | Taxonomy, Clustering, ANI and COV | \n",
    "| MEint1953      | acIV    | Unknown | Unknown  | Taxonomy, Clustering              | \n",
    "| MEint2297      | acI     | acI-A   | Unknown  | Clustering                        | \n",
    "| MEint2538      | Luna1   | Luna1-A | Luna1-A2 | Clustering                        | \n",
    "| MEint2729      | acIV    | acIV-B  | Iluma-B2 | Taxonomy, Clustering, ANI and COV | \n",
    "| MEint283       | acI     | acI-B   | acI-B1   | Clustering                        | \n",
    "| MEint3119      | Unknown | Unknown | Unknown  | Unknown                           | \n",
    "| MEint3163      | acIV    | Unknown | Unknown  | Taxonomy, Clustering              | \n",
    "| MEint3864      | acI     | acI-C   | Unknown  | Clustering                        | \n",
    "| MEint4252      | acI     | acI-B   | acI-B4   | Clustering, ANI and COV           | \n",
    "| MEint885       | acI     | acI-C   | Unknown  | Clustering                        | \n",
    "| Rhodoluna      | Luna1   | Luna1-A | Luna1-A2 | 16S                               | \n",
    "| TBepi149       | acV     | Unknown | Unknown  | Taxonomy, Clustering              | \n",
    "| TBepi2057      | acI     | acI-B   | Unknown  | Clustering                        | \n",
    "| TBepi2754      | acI     | acI-B   | Unknown  | Clustering                        | \n",
    "| TBepi2973      | acV     | Unknown | Unknown  | Taxonomy, Clustering              | \n",
    "| TBepi3207      | acI     | acI-B   | Unknown  | Clustering                        | \n",
    "| TBepi3256      | acV     | Unknown | Unknown  | Taxonomy, Clustering              | \n",
    "| TBepi3475      | acI     | acI-B   | Unknown  | Clustering                        | \n",
    "| TBepi4163      | acV     | Unknown | Unknown  | Taxonomy, Clustering              | \n",
    "| TBepi4208      | acI     | acI-B   | Unknown  | Clustering                        | \n",
    "| TBhypo2152     | acI     | acI-B   | Unknown  | Clustering                        | \n",
    "| TBhypo3180     | acV     | Unknown | Unknown  | Taxonomy, Clustering              | \n",
    "| TBhypo3219     | acV     | Unknown | Unknown  | Taxonomy, Clustering              | \n",
    "| TBhypo3463     | acI     | acI-B   | Unknown  | Clustering                        | \n",
    "| TBhypo3765     | acV     | Unknown | Unknown  | Taxonomy, Clustering              | \n",
    "| TBhypo3838     | acI     | acI-B   | Unknown  | Clustering                        | \n",
    "| TBhypo680      | acI     | acI-B   | Unknown  | Clustering                        | \n",
    "| TBhypo9906     | acV     | Unknown | Unknown  | Taxonomy, Clustering              | \n",
    "\n",
    "\n",
    "| Too Small to Cluster | Lineage | Clade   | Tribe    | Justification        | \n",
    "|----------------------|---------|---------|----------|----------------------| \n",
    "| AAA027F04            | acTH1   | acTH1-A | acTH1-A1 | 16S                  | \n",
    "| AAA028C09            | Luna1   | Luna1-A | Luna1-A4 | 16S                  | \n",
    "\n",
    "| Cluster Poorly | Lineage | Clade   | Tribe    | Justification | \n",
    "|----------------|---------|---------|----------|---------------| \n",
    "| AAA027D23      | acSTL   | acSTL-A | acSTL-A1 | 16S           | \n",
    "| AAA028N15      | acTH1   | acTH1-A | acTH1-A1 | 16S           | \n",
    "| acAcidi        | acIV    | Unknown | Unknown  | Taxonomy      | \n",
    "| acAMD-2        | acTH1   | Unknown | Unknown  | Taxonomy      | \n",
    "| acAMD-5        | acTH1   | Unknown | Unknown  | Taxonomy      | \n",
    "| MEint6647      | Unknown | Unknown | Unknown  |               | \n",
    "| TBhypo3815     | Unknown | Unknown | Unknown  |               | "
   ]
  },
  {
   "cell_type": "markdown",
   "metadata": {},
   "source": [
    "Based on the above taxonomy, we can count samples from each lineage, clade and tribe:\n",
    "\n",
    "| Lineage | Count |  | Clade   | Count |  | Tribe    | Count | \n",
    "|---------|-------|--|---------|-------|--|----------|-------| \n",
    "| acI     | 36    |  | acI-A   | 12    |  | acI-A1   | 2     | \n",
    "| acIII   | 1     |  | acI-B   | 21    |  | acI-A5   | 2     | \n",
    "| acIV    | 11    |  | acI-C   | 3     |  | acI-A6   | 2     | \n",
    "| acMicro | 2     |  | acIV-A  | 1     |  | acI-A7   | 4     | \n",
    "| acTH2   | 1     |  | acIV-B  | 5     |  | acI-B1   | 9     | \n",
    "| acV     | 8     |  | acTH2-A | 1     |  | acI-B2   | 1     | \n",
    "| Luna1   | 3     |  | Luna1-A | 3     |  | acI-B4   | 2     | \n",
    "| Unknown | 1     |  | Luna3-A | 0     |  | Iluma-A2 | 1     | \n",
    "|         |       |  | Unknown | 17    |  | Iluma-B1 | 2     | \n",
    "|         |       |  |         |       |  | Iluma-B2 | 2     | \n",
    "|         |       |  |         |       |  | Luna1-A2 | 3     | \n",
    "|         |       |  |         |       |  | Myco     | 1     | \n",
    "|         |       |  |         |       |  | Unknown  | 32    | "
   ]
  },
  {
   "cell_type": "markdown",
   "metadata": {},
   "source": [
    "####References\n",
    "1. Stamatakis A (2014) RAxML version 8: a tool for phylogenetic analysis and post-analysis of large phylogenies. Bioinformatics 30: 1312–1313.\n",
    "2. Darling, A. E., Jospin, G., Lowe, E., Matsen, F. A., Bik, H. M., & Eisen, J. A. (2014). PhyloSift: phylogenetic analysis of genomes and metagenomes. PeerJ, 2, e243.\n",
    "3. Garcia, S. L., McMahon, K. D., Martinez-Garcia, M., Srivastava, A., Sczyrba, A., Stepanauskas, R., … Warnecke, F. (2013). Metabolic potential of a single cell belonging to one of the most abundant lineages in freshwater bacterioplankton. The ISME Journal, 7(1), 137–147.\n",
    "4. Garcia, S. L., McMahon, K. D., Grossart, H.-P., & Warnecke, F. (2014). Successful enrichment of the ubiquitous freshwater acI Actinobacteria. Environmental Microbiology Reports, 6(1), 21–27.\n",
    "5. Ghylin, T. W., Garcia, S. L., Moya, F., Oyserman, B. O., Schwientek, P., Forest, K. T., … McMahon, K. D. (2014). Comparative single-cell genomics reveals potential ecological niches for the freshwater acI Actinobacteria lineage. The ISME Journal, 8(12), 2503–2516.\n",
    "6. Ghai, R., Mizuno, C. M., Picazo, A., Camacho, A., & Rodriguez-Valera, F. (2014). Key roles for freshwater Actinobacteria revealed by deep metagenomic sequencing. Molecular Ecology, 23(24), 6073–6090.\n",
    "7. Tsementzi, D., Poretsky, R., Rodriguez-R, L. M., Luo, C., & Konstantinidis, K. T. (2014). Evaluation of metatranscriptomic protocols and application to the study of freshwater microbial communities. Environmental Microbiology Reports, 6(6), 640–655."
   ]
  },
  {
   "cell_type": "markdown",
   "metadata": {},
   "source": [
    "### Genome Statistics\n",
    "\n",
    "Genome metadata were downloaded from IMG and processed using Microsoft Excel. Genome completeness was estimated based on presence/absence of 204 Actinobacterial marker genes as identified by CheckM.\n",
    "\n",
    "![Genome metadata](files/imageFiles/2015-08-19-Metadata.png)\n",
    "\n",
    "####References\n",
    "1. Parks, D. H., Imelfort, M., Skennerton, C. T., Hugenholtz, P., & Tyson, G. W. (2015). CheckM: assessing the quality of microbial genomes recovered from isolates, single cells, and metagenomes. Genome Research, 25(7), 1043–1055."
   ]
  },
  {
   "cell_type": "markdown",
   "metadata": {},
   "source": [
    "### From Genomes to Network Reconstructions\n",
    "\n",
    "The first step in a reverse ecology analysis is to construct a metabolic network for the organism of interest. Metabolic networks are often represented as a genome-scale, metabolic network reconstruction (GENRE), astructured collections of the biochemical transformations occuring within a particular organism. The conversion of a GENRE into a mathametical format enables myriad downstream (computational) systems biology analyses.\n",
    "\n",
    "GENREs of our 72 actinobacterial SAGs and MAGs were built using the Department of Energy's Systems Biology Knowledgebase, [KBase](http://kbase.us/). From an un-annotated set of contigs in FASTA format, KBase performs a genome annotation (using RAST) and constructs a GENRE (using the Model SEED). FASTA files for our genomes were downloaded from IMG. FASTA files for other people's genomes were downloaded from IMG, Genbank, and lab websites. GENREs built by KBase were exported in SBML format, a widely-used standard.\n",
    "\n",
    "Genomes were then pushed to KBase using their API, and GENREs were built through command-line execution in a KBase iPython notebook. Additional information is available on [Github](https://github.com/McMahonLab/metabolicModeling/tree/master/KBase)."
   ]
  },
  {
   "cell_type": "markdown",
   "metadata": {},
   "source": [
    "####References:\n",
    "1. Thiele I, Palsson BØ (2010) A protocol for generating a high-quality genome-scale metabolic reconstruction. Nat Protoc 5: 93–121.\n",
    "2. Aziz RK, Bartels D, Best AA, DeJongh M, Disz T, et al. (2008) The RAST Server: rapid annotations using subsystems technology. BMC Genomics 9: 75.\n",
    "3. Henry CS, DeJongh M, Best AA, Frybarger PM, Linsay B, et al. (2010) High-throughput generation, optimization and analysis of genome-scale metabolic models. Nat Biotechnol 28: 977–982."
   ]
  },
  {
   "cell_type": "markdown",
   "metadata": {},
   "source": [
    "### An Aside: Notes on My Python Workflow\n",
    "I am developing a workflow in Python to carry out reverse ecology analysis. Major pieces of analysis have been written as functions, which I will import into this iPython notebook. Each section of analysis and discussion will include the relevant function calls.\n",
    "\n",
    "This first section imports the functions I've developed and establishes the directory structure for storing the data. It also creates a list of metabolic network models for processing (dirList). (This is necessary for the next steps.)"
   ]
  },
  {
   "cell_type": "code",
   "execution_count": 1,
   "metadata": {
    "collapsed": false
   },
   "outputs": [],
   "source": [
    "# Import special features for iPython\n",
    "import sys\n",
    "sys.path.append('../Python')\n",
    "import matplotlib\n",
    "%matplotlib inline\n",
    "\n",
    "# Import Python modules \n",
    "# These custom-written modules should have been included with the package\n",
    "# distribution. \n",
    "import graphFunctions as gf\n",
    "import metadataFunctions as mf\n",
    "import sbmlFunctions as sf\n",
    "import seedFunctions as ef\n",
    "\n",
    "# Define local folder structure for data input and processing.\n",
    "processedDataDir = 'ProcessedModelFiles'\n",
    "summaryStatsDir = 'DataSummaries'\n",
    "externalDataDir = 'ExternalData'\n",
    "\n",
    "# Import the list of models\n",
    "dirList = mf.getDirList('../'+processedDataDir)\n",
    "numSubDir = len(dirList)"
   ]
  },
  {
   "cell_type": "markdown",
   "metadata": {},
   "source": [
    "### From Genomes to Network Reconstructions"
   ]
  },
  {
   "cell_type": "markdown",
   "metadata": {},
   "source": [
    "#### Converting KBase SBML files to Graphs\n",
    "\n",
    "The first step in reverse ecology analysis is to convert the SBML representation of the metabolic network to a graph. The network is represented as a directed graph, where nodes denote and compounds and edges denote reactions. A directed edge from A to B indicates that compound A is a substrate in a reaction which produces compound B. That is, for a given reaction, all the nodes that represent its substrates are connected by directed edges to all the nodes that represent its products.\n",
    "\n",
    "The figure below gives stoichiometry for two reactions and shows the resulting directed graph.\n",
    "\n",
    "![Metabolic network graph reconstruction pipeline](imageFiles/RE-StoichToGraph.png)\n",
    "\n",
    "The code below converts the SBML representations to metabolic network graphs."
   ]
  },
  {
   "cell_type": "code",
   "execution_count": 2,
   "metadata": {
    "collapsed": false
   },
   "outputs": [
    {
     "name": "stdout",
     "output_type": "stream",
     "text": [
      "Converting SBML files to adjacency lists\n"
     ]
    }
   ],
   "source": [
    "modelStatArray = sf.dirListToAdjacencyList(dirList, externalDataDir, processedDataDir, summaryStatsDir)"
   ]
  },
  {
   "cell_type": "markdown",
   "metadata": {},
   "source": [
    "### Merging Network Graphs Belonging to the Same Tribe\n",
    "\n",
    "Preliminary evidence (not shown) suggested that reverse ecology analysis is sensitive to genome incompleteness. To overcome this issue, we decided to merge metabolic models of all those genomes belonging to a particular tribe.\n",
    "\n",
    "The process is illustrated in the figure below. For each tribe, I start with a single genome from that tribe (e.g., 'Graph A' in the figure). For the next genome from that tribe ('Graph B' in the figure), unique metabolic pathways are identified (green nodes and their arcs). Those unique pathways are appended to the original graph, giving a metabolic network graph which contains the content of both genomes ('Union of A and B' in the figure). The process is repeated, with unique metabolic pathways being appended to the 'Union' graph.\n",
    "\n",
    "![Procedure for genome merging](imageFiles/genomeMerging.png)\n",
    "\n",
    "Reverse ecology analysis will then be performed on these merged models."
   ]
  },
  {
   "cell_type": "markdown",
   "metadata": {},
   "source": [
    "The code below creates the necessary folder structure. Then, I read in the taxonomy {lineage, clade, tribe} for each genomes and aggregates all genomes belonging to the same tribe."
   ]
  },
  {
   "cell_type": "code",
   "execution_count": 3,
   "metadata": {
    "collapsed": false
   },
   "outputs": [],
   "source": [
    "# Define local folder structure for data input and processing.\n",
    "rawModelDir = 'ProcessedModelFiles'\n",
    "processedDataDir = 'MergedData'\n",
    "summaryStatsDir = 'DataSummaries/MergedData'\n",
    "externalDataDir = 'ExternalData'\n",
    "\n",
    "dirList = mf.getDirList('../'+processedDataDir)\n",
    "numSubDir = len(dirList)"
   ]
  },
  {
   "cell_type": "code",
   "execution_count": 4,
   "metadata": {
    "collapsed": false
   },
   "outputs": [
    {
     "name": "stdout",
     "output_type": "stream",
     "text": [
      "Importing taxonomy\n",
      "Merging genomes from individual tribes\n"
     ]
    }
   ],
   "source": [
    "tribeSampleDict =  mf.importTaxonomy('../ExternalData/taxonomyTribes.csv')\n",
    "gf.createTribalGraph(tribeSampleDict, processedDataDir, rawModelDir)"
   ]
  },
  {
   "cell_type": "markdown",
   "metadata": {},
   "source": [
    "#### Summary\n",
    "\n",
    "The process for transforming an unannotated genome into a metabolic network graph is summarized in the figure below:\n",
    "\n",
    "![Metabolic network graph reconstruction pipeline](imageFiles/RE-Pipeline.png)"
   ]
  },
  {
   "cell_type": "markdown",
   "metadata": {},
   "source": [
    "### Reverse Ecology Using Python"
   ]
  },
  {
   "cell_type": "markdown",
   "metadata": {},
   "source": [
    "#### Analyze Graph Representations\n",
    "\n",
    "In graph theory, a connected component of a graph is a subgraph in which all pairs of vertices are connected to each other by paths, and which has no connections to nodes outside the subgraph. The graph below has four connected components, each in a different color.\n",
    "\n",
    "![Four connected components](files/imageFiles/RE-graphComponents.png)\n",
    "\n",
    "A graph which has only a single component is fully connected. The graphs algorithms used in reverse ecology analysis require the metabolic network contain a single, fully connected graph. \n",
    "\n",
    "Oftentimes metabolic network graphs contain multiple components, so it's important to check the assumption of fully connectedness for our graphs. If the graphs are not fully connected, we have to decide what to do. Common choices are:\n",
    "1. Discard all but the largest component.\n",
    "2. Combine metabolic network graphs from closely-related organisms (tribes, in our case) and check that the new/larger graph is now connected.\n",
    "\n",
    "The code below computes the connected components of our metabolic network graphs and makes a histogram."
   ]
  },
  {
   "cell_type": "code",
   "execution_count": 5,
   "metadata": {
    "collapsed": false,
    "scrolled": true
   },
   "outputs": [
    {
     "name": "stdout",
     "output_type": "stream",
     "text": [
      "Computing graph statistics\n"
     ]
    },
    {
     "data": {
      "image/png": "[encoded data removed]",
      "text/plain": [
       "<matplotlib.figure.Figure at 0x10fc7a1d0>"
      ]
     },
     "metadata": {},
     "output_type": "display_data"
    },
    {
     "data": {
      "image/png": "[encoded data removed]",
      "text/plain": [
       "<matplotlib.figure.Figure at 0x11160fe50>"
      ]
     },
     "metadata": {},
     "output_type": "display_data"
    },
    {
     "data": {
      "image/png": "[encoded data removed]",
      "text/plain": [
       "<matplotlib.figure.Figure at 0x111694210>"
      ]
     },
     "metadata": {},
     "output_type": "display_data"
    }
   ],
   "source": [
    "graphStatArray, diGraphStatArray = gf.computeGraphStats(dirList, processedDataDir, summaryStatsDir)\n",
    "gf.plotGraphStats(graphStatArray)"
   ]
  },
  {
   "cell_type": "markdown",
   "metadata": {},
   "source": [
    "#### Reducing Graphs to Their Largest Component\n",
    "\n",
    "Cool! The third histogram shows that the largest component of each graph contains at least 97% of the metabolites (nodes) in the graph. I chose not to consolidate our graphs\n",
    "\n",
    "We don't need to consolidate our graphs and can analyze in each individually. The following code section reduces each graph to its largest connected component."
   ]
  },
  {
   "cell_type": "code",
   "execution_count": 6,
   "metadata": {
    "collapsed": false
   },
   "outputs": [
    {
     "name": "stdout",
     "output_type": "stream",
     "text": [
      "Reducing to largest component\n"
     ]
    }
   ],
   "source": [
    "reducedGraphStatArray = gf.reduceToLargeComponent(dirList, processedDataDir, summaryStatsDir)"
   ]
  },
  {
   "cell_type": "markdown",
   "metadata": {},
   "source": [
    "#### Computation of Seed Sets\n",
    "\n",
    "Recall the definition of a seed set: the set of compounds that, based on metabolic network topology, are exogenously acquired for growth. Formally, the seed set of a network is the minimal subset of compounds (nodes) that cannot be synthesized from other compounds in the network, and whose presence in the environment permits the production of all other compounds in the network. In other words, the seed set of a network is a set of nodes from which all other nodes can be reached.\n",
    "\n",
    "The seed set detection algorithm decomposes the metabolic network into its strongly connected components. This decomposition enables the seed set detection problem to be reduced to the problem of detecting source components in the condensation of the original network. What on earth does that mean?\n",
    "\n",
    "A strongly connected component (SCC) of a directed graph is a subgraph such that every vertex is reachable from every other vertex. By definition, a vertex is automatically reachable from itself, so an SCC can contain only a singoe component. Consider the network below. The three SCCs of this graph are indicated with different colors. \n",
    "\n",
    "![Strongly connected components](files/imageFiles/RE-graphSCCs.png)\n",
    "\n",
    "Let's take a closer look at the orange component. For each vertex, the figure below shows the paths by which the other three vertices can be reached.\n",
    "\n",
    "![Paths through an SCC](files/imageFiles/RE-graphSCCPaths.png)\n",
    "\n",
    "To generate the condensation of a graph, each SCC is contracted to a single vertex. The figure below shows condensation of the above graph (nodes A to H). Then, source components (nodes with no incoming edges) are identified. Such components are circled in purple. Starting from these nodes, paths can be drawn to fully connect the condensed graph.\n",
    "\n",
    "![Condensation of a graph](files/imageFiles/RE-graphCondensation.png)\n",
    "\n",
    "To find the seed sets, each source component in the condensation is then expanded to its original nodes. Because each vertex of the condensation is an SCC of the original graph, each vertex of the condensation contains a set of \"equivalent nodes\", meaning that each node can be reached from the others. Thus, the original graph has two seed sets, one containing compound A, and the other containing compounds F, G, and H. The figure below shows how all nodes can be reached starting from nodes A and H.\n",
    "\n",
    "![Path from seed nodes to all nodes](files/imageFiles/RE-graphSeedSets.png)\n",
    "\n",
    "Thus, the seed set detection algorithm contains four steps.\n",
    "1. Identify the SCCs of the (directed) network graph\n",
    "2. Use the SCCs to derive the condensation of the original graph\n",
    "3. Identify source components in the condensation\n",
    "4. Expand each source component of the condensation into its original node\n",
    "\n",
    "Seed compounds can also have weights associated with them. For a seed compound belonging to a source component of size n, its weight is 1/n. Thus, in the example above, the seed compound 'A' has a weight of 1, and the compounds {F, G, H} each have weight 1/3.\n",
    "\n",
    "The code below performs the four steps shown above for the metabolic network graph of each genome. The seed compounds for each graph are written to a file, with each line in the file containing a set of equivalent seed compounds. The code also plots histograms of the number and size of the seed sets against network size."
   ]
  },
  {
   "cell_type": "code",
   "execution_count": 7,
   "metadata": {
    "collapsed": false
   },
   "outputs": [
    {
     "name": "stdout",
     "output_type": "stream",
     "text": [
      "Computing seed sets\n"
     ]
    },
    {
     "data": {
      "image/png": "[encoded data removed]",
      "text/plain": [
       "<matplotlib.figure.Figure at 0x1116f7e90>"
      ]
     },
     "metadata": {},
     "output_type": "display_data"
    },
    {
     "data": {
      "image/png": "[encoded data removed]",
      "text/plain": [
       "<matplotlib.figure.Figure at 0x1117b6bd0>"
      ]
     },
     "metadata": {},
     "output_type": "display_data"
    },
    {
     "data": {
      "image/png": "[encoded data removed]",
      "text/plain": [
       "<matplotlib.figure.Figure at 0x111a18bd0>"
      ]
     },
     "metadata": {},
     "output_type": "display_data"
    }
   ],
   "source": [
    "seedSetList = gf.computeSeedSets(dirList, externalDataDir, processedDataDir)\n",
    "gf.plotSeedStatsForTribes(seedSetList, reducedGraphStatArray)"
   ]
  },
  {
   "cell_type": "markdown",
   "metadata": {},
   "source": [
    "#### Working with Seed Sets\n",
    "\n",
    "Now that the seed sets for each genome have been computed, we want to analyze them. The functions below:\n",
    "- write a single matrix for seed compounds for all genomes\n",
    "- compute the fraction of genomes in which each seed compound appears"
   ]
  },
  {
   "cell_type": "code",
   "execution_count": 8,
   "metadata": {
    "collapsed": false
   },
   "outputs": [
    {
     "name": "stdout",
     "output_type": "stream",
     "text": [
      "Consolidate seed sets\n",
      "Computing normalized seed counts\n"
     ]
    }
   ],
   "source": [
    "seedMatrixDF = ef.consolidateSeeds(dirList, externalDataDir, processedDataDir, summaryStatsDir)\n",
    "ef.normalizedSeedCounts(dirList, processedDataDir, summaryStatsDir)"
   ]
  },
  {
   "cell_type": "markdown",
   "metadata": {},
   "source": [
    "#### Sanity Check of Seed Compounds\n",
    "\n",
    "I tasked my SURE-REU student Brittany Brown with performing a sanity check of the predicted seed compounds for the acI genomes. To do so, Brittany examined each of the seed compounds in classified them into the following categories:\n",
    "* Amino Acids  \n",
    "* Peptides  \n",
    "* Polyamines  \n",
    "* Nucleotides & Coenzymes  \n",
    "* Fatty Acid  \n",
    "* Carbohydrates  \n",
    "* Carboxylic Acids \n",
    "* Lipids  \n",
    "* Carbs, Pentoses  \n",
    "* Sulfur Utilization  \n",
    "* Unknown  \n",
    "\n",
    "For each compound, Brittany computed the fraction of genomes for which each compound was a seed. She then examined the major COG categories found in each genome, as reported for the 11 acI genomes in Trevor's ISME paper. Highlights of her finding include:\n",
    "\n",
    "* Among the amino acid compounds, the branched-chain amino acids are predicted to be seed compounds in over 90% of the genomes. This dovetails nicely with Trevor's finding of COGs associated with branched-chain amino acid uptake in over 90% of the genomes.\n",
    "* Also among the amino acid compounds, the following were predicted to be seeds: ornithine (59%), proline (29%), tryptophan (24%). This agrees with  Trevor's finding of COGs associated with amino acid uptake in about 25% of the genomes. Interestingly, beta-alanine (76%) and D-alanine (35%) D-proline (24%) were also predicted to be seeds.\n",
    "* Di-amines were predicted to be seed compounds in 71% of genomes. This agrees with Trevor's finding of COGs associated with dipeptide transporters in 55 to 73% of genomes. \n",
    "* Among poly-amines, putrescine and spermidine were predicted to be seeds in 71% of genomes. This is slightly lower than Trevor's finding of spermidine/putrescine transport COGs in 82% of his genomes.\n",
    "* The frequency of carbohydrates as seed compounds is considerably less than the abundance of COGs related to sugar transport. Carbohydrate compounds are predicted to be seeds in a most 47% of genomes, while COGs for sugar-transport are found in over 90% of genomes. This suggests acIs may be adapted to take advantage of carbohydrates during periods of abundance but do not generally rely on them for carbon.\n",
    "* Sulfur utilization. H2S is predicted to a seed in 88% of genomes. Sulfate and sulfite are not predicted to be seed compounds. This provides support for Trevor's hypothesis that S incorporation into cysteine provides the S for acI metabolism.\n",
    "* Genome incompleteness. There is considerable evidence for genome incompleteness affecting seed set predictions, as many compounds known to be pathway intermediates are showing up as seed compounds."
   ]
  },
  {
   "cell_type": "markdown",
   "metadata": {},
   "source": [
    "#### Resource Utilization Revealed by Seed Compounds\n",
    "\n",
    "Comparison of seed compounds across lineages can reveal differential patterns of resource utilization among FW bacteria. An example is shown below, using seed compounds computed from individual genomes (not tribe-level aggregated genomes).\n",
    "\n",
    "For three major lineages, I calculated the fraction of genomes for which a particular compound was a seed. I then manually selected compounds which have shared or differential resource seed frequencies across lineages.\n",
    "\n",
    "![Resource partioning among lineages.](imageFiles/seedPartitionLineage.png)\n",
    "\n",
    "For example, branched-chain amino acids and di-amines are predicted to be essential for all three lineages, polyamines are utilized differentially.\n",
    "\n",
    "A similar analysis at the clade level within the acIs reveals more fine-grained partitioning.\n",
    "\n",
    "![Resource partioning among clades.](imageFiles/seedPartitionClade.png)\n",
    "\n",
    "For example, while all lineages require branched-chain amino acids, each lineage has different requirements for other amino acids."
   ]
  },
  {
   "cell_type": "markdown",
   "metadata": {},
   "source": [
    "#### Visualizing Seed Utilization\n",
    "\n",
    "I am interested in ways of visualizing these seed data, hopefully to show that phylogenetically related organisms have more similar seed compounds. Unfortunately the data are of very high dimension (~700 compounds), and using \"typical\" techniques like NMDS have proven ineffective.\n",
    "\n",
    "Instead, I performed a cluster analysis on a weighted matrix of the seed compounds. The following code snippet performs and visualizes such an analysis, using a Euclidean distance metrix and average linkage (UPGMA) clustering."
   ]
  },
  {
   "cell_type": "code",
   "execution_count": 9,
   "metadata": {
    "collapsed": false
   },
   "outputs": [
    {
     "name": "stderr",
     "output_type": "stream",
     "text": [
      "/Library/Python/2.7/site-packages/matplotlib/axis.py:1024 \u001b[1;31mUserWarning\u001b[0m: Unable to find pixel distance along axis for                    interval padding of ticks; assuming no interval padding                    needed.\n",
      "/Library/Python/2.7/site-packages/matplotlib/axis.py:1034 \u001b[1;31mUserWarning\u001b[0m: Unable to find pixel distance along axis for                    interval padding of ticks; assuming no interval padding                    needed.\n"
     ]
    },
    {
     "data": {
      "image/png": "[encoded data removed]",
      "text/plain": [
       "<matplotlib.figure.Figure at 0x10c841590>"
      ]
     },
     "metadata": {},
     "output_type": "display_data"
    }
   ],
   "source": [
    "ef.clusterOnly(seedMatrixDF, dirList, externalDataDir, 'tribalColors.csv')"
   ]
  },
  {
   "cell_type": "markdown",
   "metadata": {},
   "source": [
    "Genomes in the above clustergram are colored as follows:\n",
    "\n",
    "acI-A: blue  \n",
    "acI-B: green  \n",
    "acIV: cyan  \n",
    "Luna1: dark gray  \n",
    "Myco: light gray  "
   ]
  },
  {
   "cell_type": "markdown",
   "metadata": {},
   "source": [
    "### Computation of Reverse Ecology Metrics\n",
    "\n",
    "Reverse ecology theoreticians have developed a number of metrics which provide qualitative insights into the ecology of microorganisms. This section is concerned with computing those metrics and using them to infer traits about freshwater actinobacteria."
   ]
  },
  {
   "cell_type": "markdown",
   "metadata": {},
   "source": [
    "#### Computation of Metabolic Competition\n",
    "\n",
    "I would also like to compute the metabolic competition scores between all pairs of SAGs and MAGs. Clustering the genomes based on these scores could potential competitive interactions between tribes."
   ]
  },
  {
   "cell_type": "code",
   "execution_count": 10,
   "metadata": {
    "collapsed": false
   },
   "outputs": [
    {
     "name": "stderr",
     "output_type": "stream",
     "text": [
      "/Library/Python/2.7/site-packages/matplotlib/figure.py:387 \u001b[1;31mUserWarning\u001b[0m: matplotlib is currently using a non-GUI backend, so cannot show the figure\n"
     ]
    },
    {
     "data": {
      "image/png": "[encoded data removed]",
      "text/plain": [
       "<matplotlib.figure.Figure at 0x1112c97d0>"
      ]
     },
     "metadata": {},
     "output_type": "display_data"
    }
   ],
   "source": [
    "metabCompeteDF = ef.computeMetabCompete(dirList, processedDataDir, summaryStatsDir)\n",
    "ef.plotDataFrame(metabCompeteDF, dirList, externalDataDir, summaryStatsDir, 'tribalColors.csv', 'metabolicCompetition.png')"
   ]
  },
  {
   "cell_type": "markdown",
   "metadata": {},
   "source": [
    "#### Computation of Metabolic Complementarity\n",
    "\n",
    "I would also like to compute the metabolic complementarity scores between all pairs of SAGs and MAGs. Clustering the genomes based on these scores could potential cooperative interactions between tribes."
   ]
  },
  {
   "cell_type": "code",
   "execution_count": 11,
   "metadata": {
    "collapsed": false
   },
   "outputs": [
    {
     "data": {
      "image/png": "[encoded data removed]",
      "text/plain": [
       "<matplotlib.figure.Figure at 0x108a72dd0>"
      ]
     },
     "metadata": {},
     "output_type": "display_data"
    }
   ],
   "source": [
    "metabComplementDF = ef.computeMetabComplement(dirList, processedDataDir, summaryStatsDir)\n",
    "ef.plotDataFrame(metabComplementDF, dirList, externalDataDir, summaryStatsDir, 'tribalColors.csv', 'metabolicComplementarity.png')"
   ]
  }
 ],
 "metadata": {
  "kernelspec": {
   "display_name": "Python 2",
   "language": "python",
   "name": "python2"
  },
  "language_info": {
   "codemirror_mode": {
    "name": "ipython",
    "version": 2
   },
   "file_extension": ".py",
   "mimetype": "text/x-python",
   "name": "python",
   "nbconvert_exporter": "python",
   "pygments_lexer": "ipython2",
   "version": "2.7.10"
  }
 },
 "nbformat": 4,
 "nbformat_minor": 0
}
