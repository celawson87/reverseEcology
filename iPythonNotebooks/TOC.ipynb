{
 "cells": [
  {
   "cell_type": "markdown",
   "metadata": {},
   "source": [
    "# Table of Contents\n",
    "\n",
    "This notebook provides an overview of the notebooks which serve to document this project."
   ]
  },
  {
   "cell_type": "markdown",
   "metadata": {},
   "source": [
    "## 01 - Genomes from KBase\n",
    "\n",
    "This notebook describes how to obtain metabolic network reconstructions from KBase, and how to process them for use with my reverse ecology pipeline."
   ]
  },
  {
   "cell_type": "markdown",
   "metadata": {},
   "source": [
    "## 02 - Master Notebook\n",
    "\n",
    "Primary notebook for the project. Contains detailed background information on the ecology of freshwater Actinobacteria and outlines the theory of reverse ecology. Gives data and metadata on our Actinobacterial genome collection. Create composite network reconstructions for lineages, clades, and tribes. Implements the reverse ecology pipeline at lineage/clade/tribe levels and contains additional quality control checks on some of the steps."
   ]
  },
  {
   "cell_type": "markdown",
   "metadata": {},
   "source": [
    "## 03 - Metatranscriptomics\n",
    "\n",
    "This notebook documents the computational pipeline for working with metatranscriptomic data."
   ]
  },
  {
   "cell_type": "markdown",
   "metadata": {},
   "source": [
    "## Supplemental Notebooks\n",
    "\n",
    "These notebooks contain analysis which are supplemental to the main manuscript.\n",
    "\n",
    "### Pairwise ANI\n",
    "This notebook describes I how identified ANI and coverage criteria I used to classify MAGs as belonging to a particular tribe.\n",
    "\n",
    "### Sampling Completeness\n",
    "This notebook generates collector's curves for composite tribe genomes. Originally conceived as a tool to see how many we genomes we need to say a composite genome is \"complete.\" Out of date: needs to be updated using actino COGs."
   ]
  },
  {
   "cell_type": "markdown",
   "metadata": {},
   "source": [
    "## Deprecated Notebooks\n",
    "\n",
    "These notebooks are no longer in active use.\n",
    "\n",
    "### mergingGenomes\n",
    "This notebook documents how to merge metabolic networks of individual genomes into composite networks. This analysis is now incorporated into Master Notebook v3.\n",
    "\n",
    "### masterNotebookv2\n",
    "An older version of Master Notebook v3, retained in case I want to bring back some old analysis.\n",
    "\n",
    "### ReverseEcologyOLD\n",
    "An older version of Master Notebook v2, retained in case I want to bring back some really old analysis. \n",
    "\n",
    "### To Do\n",
    "An old to-do list, now out of date."
   ]
  },
  {
   "cell_type": "code",
   "execution_count": null,
   "metadata": {
    "collapsed": true
   },
   "outputs": [],
   "source": []
  }
 ],
 "metadata": {
  "kernelspec": {
   "display_name": "Python 2",
   "language": "python",
   "name": "python2"
  },
  "language_info": {
   "codemirror_mode": {
    "name": "ipython",
    "version": 2
   },
   "file_extension": ".py",
   "mimetype": "text/x-python",
   "name": "python",
   "nbconvert_exporter": "python",
   "pygments_lexer": "ipython2",
   "version": "2.7.10"
  }
 },
 "nbformat": 4,
 "nbformat_minor": 0
}
